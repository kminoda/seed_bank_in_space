{
 "cells": [
  {
   "cell_type": "markdown",
   "metadata": {},
   "source": [
    "# このファイルについて\n",
    "## 頭が悪いコードなので直してくれるとうれしいな( *´艸｀)"
   ]
  },
  {
   "cell_type": "markdown",
   "metadata": {},
   "source": [
    "擾乱に対する位置制御のために必要な燃料を推算します。"
   ]
  },
  {
   "cell_type": "code",
   "execution_count": 1,
   "metadata": {},
   "outputs": [],
   "source": [
    "import numpy as np\n",
    "import pandas as pd\n",
    "from mpl_toolkits.mplot3d import Axes3D\n",
    "import matplotlib.pyplot as plt\n",
    "import math\n",
    "import pickle"
   ]
  },
  {
   "cell_type": "code",
   "execution_count": 30,
   "metadata": {},
   "outputs": [],
   "source": [
    "MU = 3.986*10**5#地球重力定数[km^3/s^2]\n",
    "R_po = 6600.#パーキング軌道半径[km]\n",
    "Delta_i = 30.#種子島の緯度[deg]\n",
    "PI = np.pi\n",
    "J2 = 1082.628*10**(-6)#J2帯状調和関数係数\n",
    "R_e = 6\n",
    "\n",
    "G = 9.81 #重力加速度[m/s^2]\n",
    "R_earth = 6378 #地球の半径[km]\n",
    "SCALE_HEIGHT = 8.432#スケールハイト[km]\n",
    "RHO_0 = 1.225#標準大気密度[kg/m^3]\n",
    "H_reEntry = 200 #大気圏高度[km]\n",
    "M_earth = 5.9724*10**24\n",
    "## すまん、ここ詰める必要あるな\n",
    "v_reEntry = 8.0 #再突入の速度(一例)[km/s]\n",
    "gamma_reEntry = -5.0 #再突入時の経路角(結構浅め)[deg]\n",
    "\n",
    "#機体によるので、あとで\n",
    "M_capcell = 80.0 #はやぶさ参照[kg]\n",
    "A = 1 #ハヤブサよりちょい大きめ[kg]\n",
    "Rn = 1#てきとー\n",
    "\n",
    "#なんかを参照\n",
    "Cd = 1.6\n",
    "Cl = 0.0\n",
    "DT = 0.1#刻み"
   ]
  },
  {
   "cell_type": "code",
   "execution_count": 3,
   "metadata": {},
   "outputs": [
    {
     "name": "stdout",
     "output_type": "stream",
     "text": [
      "43.13106201760243\n",
      "19.216011456044555\n"
     ]
    }
   ],
   "source": [
    "alpha = 28.58\n",
    "alpha = np.deg2rad(alpha)\n",
    "delta_moon = 102.67*np.cos(alpha)*np.sin(alpha)\n",
    "print(delta_moon)\n",
    "gamma = 23.44\n",
    "gamma = np.deg2rad(alpha)\n",
    "delta_sun = 40.17*np.cos(gamma)*np.sin(alpha)\n",
    "print(delta_sun)"
   ]
  },
  {
   "cell_type": "markdown",
   "metadata": {},
   "source": [
    "## 軌道投入推進重量の概算\n",
    "半径6600kmから高度1200kmまでのホーマン軌道に入れた後、\n",
    "高度1200kmにおける減速量を計算する。\n",
    "\\begin{align*}\n",
    "    v_{p@before} = \\sqrt{2\\mu\\left(\\frac{1}{r_p}-\\frac{1}{r_a+r_p}\\right)} \\\\\n",
    "    v_{p@after} = \\sqrt{\\frac{\\mu}{r_p}}\n",
    "\\end{align*}"
   ]
  },
  {
   "cell_type": "code",
   "execution_count": 4,
   "metadata": {},
   "outputs": [
    {
     "name": "stdout",
     "output_type": "stream",
     "text": [
      "0.254610415127404\n",
      "43.82500383306236\n"
     ]
    }
   ],
   "source": [
    "def get_prop_phase1(h_tgt=1200, r_po=R_po, mf=300, Isp=220):\n",
    "    \"\"\"\n",
    "    h_tgt[km] フェーズ2の周回軌道高度\n",
    "    h_po[km] POの高度\n",
    "    mf[kg] ドライ重量(フェーズ３除く)\n",
    "    Isp[s] Isp\n",
    "    \"\"\"\n",
    "    mf = mf+50\n",
    "    r_tgt = h_tgt+R_earth\n",
    "    v_a_before = np.sqrt(2*MU*(1./r_tgt-1./(r_tgt+r_po)))\n",
    "    v_a_after = np.sqrt(MU/r_tgt)\n",
    "    delta_v = v_a_after-v_a_before\n",
    "    print(delta_v)\n",
    "    mp = mf*(np.exp(delta_v*10**3/G/Isp) -1)\n",
    "    print(mp)\n",
    "    return None\n",
    "get_prop_phase1()"
   ]
  },
  {
   "cell_type": "markdown",
   "metadata": {},
   "source": [
    "# 再突入のΔｖ概算\n",
    "## to do\n",
    "大気とか概算なので、ちゃんと後でどっかのデータ引用した方がよい\n",
    "\n",
    "おそらく高度20㎞とかでパラシュート展開するのかな\n",
    "## 大気圏内の支配方程式\n",
    "\\begin{align*}\n",
    "\\frac{dv}{dt} = \\ddot{x} =-\\frac{D}{m} - g\\sin\\gamma \\\\\n",
    "v\\frac{d\\gamma}{dt} = \\frac{L}{m} - g\\cos\\gamma + \\frac{v^2}{r}\\cos{\\gamma}\n",
    "\\end{align*} "
   ]
  },
  {
   "cell_type": "code",
   "execution_count": 25,
   "metadata": {},
   "outputs": [],
   "source": [
    "def dominant_eq(D,L,gamma,v,r, M=M_capcell):\n",
    "    gamma_rad = np.deg2rad(gamma)\n",
    "    dot_r = v*np.sin(gamma_rad)\n",
    "    dot_v = -D/M*10**3-G*np.sin(gamma_rad)*10**(-3)\n",
    "    dotgamma_rad = L/(M*v)*10**3-G*np.cos(gamma_rad)/v*10**(-3)+v*np.cos(gamma_rad)/r\n",
    "    dot_gamma = np.rad2deg(dotgamma_rad)\n",
    "    return dot_r,dot_v,dot_gamma\n",
    "\n",
    "def get_density(h):\n",
    "    return RHO_0*np.exp(-h/SCALE_HEIGHT)\n",
    "def get_precise_density(z):\n",
    "    matrix = np.array([[0.000000,-3.322622E-6,9.111460E-4,-0.2609971,5.944694],\n",
    "                       [0.000000,2.873405E-5,-0.008492037,0.6541179,-23.62010],\n",
    "                       [-1.240774E-5,0.005162063,-0.8048342,55.55996,-1443.338],\n",
    "                       [0.00000,-8.854164E-05,0.03373254,-4.390837,176.5294],\n",
    "                       [3.661771E-7,-2.154344E-4,0.04809214,-4.884744,172.3597],\n",
    "                       [1.906032E-8,-1.527799E-5,0.004724294,-0.6992340,20.50921],\n",
    "                       [1.199282E-9,-1.451051E-6,6.910474E-4,-0.1736220,-5.321644],\n",
    "                       [1.140564E-10,-2.130756E-7,1.570762E-4,-0.07029296,-12.89844],\n",
    "                       [8.105631E-12,-2.358417E-9,-2.635110E-6,-0.01562608,-20.02246],                    \n",
    "                       [-3.701195E-12,-8.608611E-9,5.118829E-5,-0.06600998,-6.137674]])\n",
    "    Zs = np.array([z**4,z**3,z**2,z**1,1])\n",
    "    if z>750:\n",
    "        i = 9\n",
    "        rho = np.exp(Zs@matrix[i])\n",
    "    elif z>500:\n",
    "        i = 8\n",
    "        rho = np.exp(Zs@matrix[i])    \n",
    "    elif z>300:\n",
    "        i = 7\n",
    "        rho = np.exp(Zs@matrix[i])    \n",
    "    elif z>200:\n",
    "        i = 6\n",
    "        rho = np.exp(Zs@matrix[i])   \n",
    "    elif z>150:\n",
    "        i = 5\n",
    "        rho = np.exp(Zs@matrix[i])    \n",
    "    elif z>120:\n",
    "        i = 4\n",
    "        rho = np.exp(Zs@matrix[i])        \n",
    "    elif z>110:\n",
    "        i = 3\n",
    "        rho = np.exp(Zs@matrix[i])    \n",
    "    elif z>100:\n",
    "        i = 2\n",
    "        rho = np.exp(Zs@matrix[i])        \n",
    "    elif z>91:\n",
    "        i = 1\n",
    "        rho = np.exp(Zs@matrix[i])        \n",
    "    elif z>86:\n",
    "        i = 0\n",
    "        rho = np.exp(Zs@matrix[i])\n",
    "    else:\n",
    "        rho = RHO_0*np.exp(-z/SCALE_HEIGHT)\n",
    "    \n",
    "    return rho\n",
    "\n",
    "def get_Drag_Lift(v,rho, S=A):\n",
    "    D = 1/2*rho*v**2*S*Cd\n",
    "    L = 1/2*rho*v**2*S*Cl\n",
    "    return D,L\n",
    "\n",
    "def f(h, v, gamma):\n",
    "    rho = get_precise_density(h)\n",
    "    D,  L = get_Drag_Lift(v, rho)\n",
    "    r = h + R_earth\n",
    "    dot_r, dot_v, dot_gamma = dominant_eq(D, L, gamma, v, r)\n",
    "    return np.array([dot_r, dot_v, dot_gamma])\n",
    "\n",
    "def get_heating_rate(density, v, Rn=Rn):\n",
    "    \"\"\"対流加熱と輻射過熱を考える\n",
    "    Arg:\n",
    "    density[kg/m^3] 大気密度\n",
    "    v[km/s] 物体の速度\n",
    "    Rn[m] ノーズ半径\n",
    "    \n",
    "    Return:\n",
    "    q_conv[MW/m^2] 対流加熱率\n",
    "    q_rad[MW/m^2] 輻射加熱率\n",
    "    \"\"\"\n",
    "    v *= 10**3\n",
    "    q_conv = 1.35*10**(-8)*np.sqrt(density/Rn)*v**3.04*10 #[kW/m^2]\n",
    "    q_conv *= 10**(-3)\n",
    "    \n",
    "    if Rn <= 1:\n",
    "        a = 1.072*10**6*v**(-1.88)*density**(-0.325)\n",
    "    elif 1< Rn <=2:\n",
    "        a = min([0.6, 1.072*10**6*v**(-1.88)*density**(-0.325)])\n",
    "    else:\n",
    "        a = min([0.5, 1.072*10**6*v**(-1.88)*density**(-0.325)])\n",
    "    \n",
    "    f_v = 1.5#後で直す\n",
    "    q_rad = 4.736*10**2*Rn**a*density**1.22*f_v\n",
    "    return q_conv, q_rad\n",
    "    \n",
    "def re_entry(v_reEntry,gamma_reEntry):\n",
    "    h = H_reEntry\n",
    "    v = v_reEntry\n",
    "    gamma = gamma_reEntry\n",
    "    rho = get_precise_density(h)\n",
    "    q_conv, q_rad = get_heating_rate(rho, v)\n",
    "    t = 0\n",
    "    t_lst = [t]\n",
    "    h_lst = [h]\n",
    "    v_lst = [v]\n",
    "    gamma_lst= [gamma]\n",
    "    q_conv_lst, q_rad_lst = [q_conv], [q_rad]\n",
    "    while 0 <= h <= H_reEntry:\n",
    "        k1_vector = f(h, v, gamma)*DT\n",
    "        k1_r, k1_v, k1_gamma = k1_vector[0], k1_vector[1], k1_vector[2]\n",
    "        k1_h = k1_r\n",
    "        \n",
    "        k2_vector = f(h+k1_h/2, v+k1_v/2, gamma+k1_gamma/2)*DT\n",
    "        k2_r, k2_v, k2_gamma = k2_vector[0], k2_vector[1], k2_vector[2]\n",
    "        k2_h = k2_r\n",
    "\n",
    "        k3_vector = f(h+k2_h/2, v+k2_v/2, gamma+k2_gamma/2)*DT\n",
    "        k3_r, k3_v, k3_gamma = k3_vector[0], k3_vector[1], k3_vector[2]\n",
    "        k3_h = k3_r\n",
    "\n",
    "        k4_vector = f(h+k3_h, v+k3_v, gamma+k3_gamma)*DT\n",
    "        k4_r, k4_v, k4_gamma = k4_vector[0], k4_vector[1], k4_vector[2]\n",
    "        k4_h = k4_r\n",
    "\n",
    "        delta_r_euqual_h = (k1_r + 2.*k2_r + 2.*k3_r + k4_r)/6.\n",
    "        delta_v = (k1_v + 2.*k2_v + 2.*k3_v + k4_v)/6.\n",
    "        delta_gamma = (k1_gamma + 2.*k2_gamma + 2.*k3_gamma + k4_gamma)/6\n",
    "        ####################################\n",
    "        h += delta_r_euqual_h\n",
    "        v += delta_v\n",
    "        gamma += delta_gamma\n",
    "        t += DT\n",
    "        heating_rate = get_heating_rate(get_density(h), v)\n",
    "        t_lst.append(t)\n",
    "        h_lst.append(h)\n",
    "        v_lst.append(v)\n",
    "        gamma_lst.append(gamma)\n",
    "        q_conv_lst.append(heating_rate[0])\n",
    "        q_rad_lst.append(heating_rate[1])\n",
    "    if h_lst[-1] >= H_reEntry:\n",
    "        #大気に弾かれた場合\n",
    "        print(h_lst[-1])\n",
    "\n",
    "    else:\n",
    "        #print(\"カプセル帰還\")\n",
    "        pass\n",
    "    return t_lst, h_lst, v_lst, gamma_lst, q_conv_lst, q_rad_lst"
   ]
  },
  {
   "cell_type": "code",
   "execution_count": 6,
   "metadata": {},
   "outputs": [],
   "source": [
    "import matplotlib as mpl\n",
    "import matplotlib.font_manager as fm\n",
    "\n",
    "font = {\"family\":\"Noto Sans CJK JP\"}\n",
    "mpl.rc('font', **font)\n",
    "\n",
    "#fm.findSystemFonts()"
   ]
  },
  {
   "cell_type": "code",
   "execution_count": 7,
   "metadata": {},
   "outputs": [],
   "source": [
    "class Dicision_Entry():\n",
    "    def __init__(self):\n",
    "        pass\n",
    "    def solve(self):\n",
    "        pass"
   ]
  },
  {
   "cell_type": "markdown",
   "metadata": {},
   "source": [
    "# 必要燃料@帰還時の推算\n",
    "## 方針\n",
    "1. 大気圏突入速度を決める←多分、決め打ち\n",
    "2. そこから逆算して、アポジキック(逆噴射)決定\n",
    "\n",
    "## 使う方程式\n",
    "以下\n",
    "\\begin{align*}\n",
    "\\alpha = \\frac{rv^2}{\\mu}\n",
    "\\end{align*}\n",
    "とすると、\n",
    "### 離心率の決定\n",
    "\\begin{align*}\n",
    "e = \\sqrt{(\\alpha-2)\\alpha\\cos^2\\gamma+1}\n",
    "\\end{align*}\n",
    "### 遷移軌道時の軌道長半径の決定\n",
    "\\begin{align*}\n",
    "r_a = \\frac{1+e\\cos\\theta}{1-e^2}r\n",
    "\\end{align*}\n",
    "この辺いらんな。。。。一応デバッグ要員として\n",
    "\n",
    "角運動量一定より、\n",
    "\\begin{align*}\n",
    "v_{@apo} = \\frac{h}{r_{@apo}} = \\frac{r_{entry}v_{entry}\\cos\\gamma_{entry}}{r_{circuit}}\n",
    "\\end{align*}\n",
    "が燃料噴射直後の速さなので、\n",
    "\\begin{align*}\n",
    "\\Delta v = v_{circuit}-v_{@apo}\n",
    "\\end{align*}\n",
    "が減速量で、燃料を最終質量$m_f$(カプセル重量から引っ張ってくる)から逆算して\n",
    "\\begin{align*}\n",
    "m_{prop_{@return}} = m_f\\left(e^{\\frac{\\Delta v}{gI_{sp}}}-1\\right)\n",
    "\\end{align*}\n"
   ]
  },
  {
   "cell_type": "code",
   "execution_count": 9,
   "metadata": {},
   "outputs": [],
   "source": [
    "def get_prop(r0, r, v, gamma, mf=300, Isp=220):\n",
    "    \"\"\"\n",
    "    ある点の情報がわかれば、遠地点(仮)での推進剤重量がわかり幸せになれる\n",
    "    arg:\n",
    "        r0[km] 周回軌道半径(遠地点(仮))\n",
    "        ####遠地点\n",
    "        r[km] ある地点でのr\n",
    "        v[km/s] ある地点での速さ\n",
    "        gamma[deg] ある地点での経路角\n",
    "        \n",
    "        mf[kg] 最終重量(本体ごと突っ込む)\n",
    "                default:300kg(はやぶさ参照)\n",
    "        Isp[s] 燃料のIsp\n",
    "                default:220(???????????????)\n",
    "        \n",
    "    return:\n",
    "        mp[kg] 必要燃料重量\n",
    "                \n",
    "    \n",
    "    \"\"\"\n",
    "    gamma = np.deg2rad(gamma)\n",
    "    alpha = r*v**2/MU#無次元数の何か\n",
    "    h = r*v*np.cos(gamma)\n",
    "    l = h**2/MU\n",
    "    theta = np.arange(0,2*PI, 0.01)\n",
    "    #離心率の決定(楕円軌道前提)--間違っている\n",
    "    eccentricity = np.sqrt((alpha-2)*alpha*(np.cos(gamma))**2+1)\n",
    "    print(\"離心率は{}\".format(eccentricity))\n",
    "    r_tgt = l/(1+eccentricity*np.cos(theta))\n",
    "    r0_lst = [r0 for i in range(len(theta))]\n",
    "    r_lst = [r for i in range(len(theta))]\n",
    "    #plt.polar(theta, r_tgt)\n",
    "    plt.polar(theta, r0_lst)\n",
    "    plt.polar(theta, r_lst)\n",
    "    #plt.show()\n",
    "    #真近点離角\n",
    "    tan_true_anomaly = alpha*np.sin(gamma)*np.cos(gamma)/(alpha*(np.cos(gamma))**2-1)\n",
    "    true_anomaly = math.atan(tan_true_anomaly)\n",
    "    print(\"真近点離角は{}\".format(true_anomaly))\n",
    "    \n",
    "    #半長軸の決定\n",
    "    semi_major_axis = (1+eccentricity*np.cos(true_anomaly))*r/(1-eccentricity**2)\n",
    "    print(\"半長軸の長さ{}[km]\".format(semi_major_axis))\n",
    "    \n",
    "    #燃料噴出\"前\"の速さ\n",
    "    print(\"減速前の速さ{}[km/s]\".format(np.sqrt(MU/r0)))\n",
    "    #燃料噴出\"直\"後の速さ\n",
    "    v0 = r*v*np.cos(gamma)/r0\n",
    "    print(\"減速後の速さ{}[km/s]\".format(v0))\n",
    "    alpha0 = r0*v0**2/MU\n",
    "    e0 = alpha0-1\n",
    "    theta2 = np.arange(0, 2.5, 0.01)\n",
    "    r_tgt2 = l/(1+e0*np.cos(theta2))\n",
    "    plt.polar(theta2, r_tgt2)\n",
    "    plt.show()\n",
    "    delta_v = np.sqrt(MU/r0) - v0\n",
    "    print(\"減速量{}[km/s]\".format(delta_v))\n",
    "    \n",
    "    mp = mf*(np.exp(delta_v*10**3/G/Isp) -1)\n",
    "    print(\"燃料は{}[kg]\".format(mp))\n",
    "    \n",
    "    return None\n",
    "\n",
    "R0 = R_earth +1200\n",
    "R1 = R_earth + 200\n",
    "#get_prop(R0, R1, v=v_entry, gamma=gamma_entry)"
   ]
  },
  {
   "cell_type": "code",
   "execution_count": 10,
   "metadata": {},
   "outputs": [
    {
     "name": "stdout",
     "output_type": "stream",
     "text": [
      "定常飛行時:7.252560272715369km/s\n",
      "最小燃料の遠地点速度Va:6.991703490667863km/s\n"
     ]
    }
   ],
   "source": [
    "## min(ダイレクトを目指す条件下)\n",
    "Rp = R_earth+200\n",
    "Ra = R_earth+1200\n",
    "Vp = np.sqrt(2*MU*(1/Rp-1/(Rp+Ra)))\n",
    "Va = np.sqrt(2*MU*(1/Ra-1/(Rp+Ra)))\n",
    "print(\"定常飛行時:{0}km/s\".format(np.sqrt(MU/Ra)))\n",
    "print(\"最小燃料の遠地点速度Va:{0}km/s\".format(Va))\n",
    "#print(\"最小燃料の近地点速度Vp:{0}km/s\".format(Vp))"
   ]
  },
  {
   "cell_type": "markdown",
   "metadata": {},
   "source": [
    "## 逆ホーマンの遠地点速度の決定\n",
    "上より、\n",
    "\\begin{align*}\n",
    "v_{trans@apo} \\leq 7.00~\\rm{[km/s]}  \n",
    "\\end{align*}\n",
    "この範囲で、さらに絞る。"
   ]
  },
  {
   "cell_type": "code",
   "execution_count": 46,
   "metadata": {},
   "outputs": [],
   "source": [
    "#アポジキックの存在可能速度範囲\n",
    "v_trans_apo_lst = np.arange(0.01, 7.00, 0.1)\n",
    "\n",
    "#大気圏突入速度と経路角を決定する。\n",
    "Re = R_earth+200\n",
    "v_entry_lst = np.zeros_like(v_trans_apo_lst) #大気圏突入速度\n",
    "fpa_entry_lst = np.zeros_like(v_trans_apo_lst) #経路角\n",
    "for i in range(len(v_trans_apo_lst)):\n",
    "    v_entry_lst[i] = np.sqrt(v_trans_apo_lst[i]**2 + 2*MU*(1/Re-1/Ra))\n",
    "    fpa_entry_lst[i] = np.rad2deg(-np.arccos(v_trans_apo_lst[i]*Ra/v_entry_lst[i]/Re))\n",
    "\n",
    "\"\"\"\n",
    "fig, ax1 = plt.subplots()\n",
    "ax1.plot(v_trans_apo_lst, v_entry_lst, color='blue', label='v_entry[km/s]')\n",
    "ax2 = ax1.twinx()\n",
    "ax2.plot(v_trans_apo_lst, fpa_entry_lst, color='orange', label='FPA[deg]')\n",
    "plt.legend()\n",
    "plt.show()\n",
    "\"\"\"\n",
    "\n",
    "#その後着陸までの軌道決定。\n",
    "t_group, h_group, v_group, q_conv_group, q_rad_group, heat_flux_group = [], [], [], [], [], []\n",
    "for i in range(len(v_trans_apo_lst)):\n",
    "    t_atm_lst, h_atm_lst, v_atm_lst, gamma_atm_lst, q_conv_lst, q_rad_lst \\\n",
    "        =re_entry(v_entry_lst[i], fpa_entry_lst[i])\n",
    "    heat_flux_atm_lst = [j+k for j, k in zip(q_conv_lst, q_rad_lst)]\n",
    "    t_group.append(t_atm_lst)\n",
    "    h_group.append(h_atm_lst)\n",
    "    v_group.append(v_atm_lst)\n",
    "    q_conv_group.append(q_conv_lst)\n",
    "    q_rad_group.append(q_rad_lst)\n",
    "    heat_flux_group.append(heat_flux_atm_lst)"
   ]
  },
  {
   "cell_type": "code",
   "execution_count": 41,
   "metadata": {},
   "outputs": [
    {
     "data": {
      "text/plain": [
       "2127"
      ]
     },
     "execution_count": 41,
     "metadata": {},
     "output_type": "execute_result"
    }
   ],
   "source": [
    "## q_convとq_radを加算\n",
    "len(heat_flux_group[0])\n"
   ]
  },
  {
   "cell_type": "code",
   "execution_count": 49,
   "metadata": {},
   "outputs": [
    {
     "data": {
      "image/png": "[encoded data removed]",
      "text/plain": [
       "<Figure size 432x288 with 1 Axes>"
      ]
     },
     "metadata": {
      "needs_background": "light"
     },
     "output_type": "display_data"
    },
    {
     "data": {
      "image/png": "[encoded data removed]",
      "text/plain": [
       "<Figure size 432x288 with 1 Axes>"
      ]
     },
     "metadata": {
      "needs_background": "light"
     },
     "output_type": "display_data"
    }
   ],
   "source": [
    "### Max Heat flux と Max heat loadの算出\n",
    "def get_heat(heat_flux_lst, dt=DT):\n",
    "    \"\"\"MaxHeatFlux　と　MaxHeatLoadの算出\n",
    "    Arg:\n",
    "        heat_flux_lst (list) 1回のheat fluxの変遷,[kW/m^2]\n",
    "        dt[s] 刻み default=DT\n",
    "    \n",
    "    Return:\n",
    "        max_heat_flux (float) 一回の軌道の最大heatflux [MW/m^2]\n",
    "        heat_load (float) 一回の軌道のheatload [MJ/m^2]\n",
    "    \"\"\"\n",
    "    max_heat_flux = max(heat_flux_lst)\n",
    "    heat_load = 0\n",
    "    for i in range(len(heat_flux_lst)):\n",
    "        heat_load += heat_flux_lst[i]*dt\n",
    "    return max_heat_flux, heat_load\n",
    "\n",
    "phase2_v = np.sqrt(MU/Ra)\n",
    "delta_v_lst = [] #x軸\n",
    "max_heat_flux_lst = []#y軸1\n",
    "heat_load_lst = []#y軸2\n",
    "for i in range(len(v_trans_apo_lst)):\n",
    "    delta_v = phase2_v - v_trans_apo_lst[i]\n",
    "    heat_flux_lst = heatflux_group[i]\n",
    "    max_heat_flux, heat_load = get_heat(heat_flux_group[i])\n",
    "    \n",
    "    delta_v_lst.append(delta_v)\n",
    "    max_heat_flux_lst.append(max_heat_flux)\n",
    "    heat_load_lst.append(heat_load)\n",
    "\n",
    "plt.plot(delta_v_lst, max_heat_flux_lst, label=\"max heatflux\")\n",
    "plt.xlabel(r\"$\\Delta$ v[km/s]\")\n",
    "plt.ylabel(\"max heat flux[MW/m^2]\")\n",
    "plt.legend()\n",
    "plt.savefig(\"../output/capsule/max_heat_flux.png\")\n",
    "plt.show()\n",
    "plt.plot(delta_v_lst, heat_load_lst, label=\"heat load\")\n",
    "plt.xlabel(r\"$\\Delta$ v[k/s]\")\n",
    "plt.ylabel(\"heat load[MJ/m^2]\")\n",
    "plt.legend()\n",
    "plt.savefig(\"../output/capsule/heat_load.png\")\n",
    "plt.show()"
   ]
  },
  {
   "cell_type": "code",
   "execution_count": 31,
   "metadata": {},
   "outputs": [
    {
     "name": "stdout",
     "output_type": "stream",
     "text": [
      "7\n"
     ]
    },
    {
     "data": {
      "image/png": "[encoded data removed]",
      "text/plain": [
       "<Figure size 432x288 with 1 Axes>"
      ]
     },
     "metadata": {
      "needs_background": "light"
     },
     "output_type": "display_data"
    },
    {
     "data": {
      "image/png": "[encoded data removed]",
      "text/plain": [
       "<Figure size 432x288 with 1 Axes>"
      ]
     },
     "metadata": {
      "needs_background": "light"
     },
     "output_type": "display_data"
    },
    {
     "data": {
      "image/png": "[encoded data removed]",
      "text/plain": [
       "<Figure size 432x288 with 1 Axes>"
      ]
     },
     "metadata": {
      "needs_background": "light"
     },
     "output_type": "display_data"
    },
    {
     "data": {
      "image/png": "[encoded data removed]",
      "text/plain": [
       "<Figure size 432x288 with 1 Axes>"
      ]
     },
     "metadata": {
      "needs_background": "light"
     },
     "output_type": "display_data"
    }
   ],
   "source": [
    "N = len(t_group)\n",
    "print(N)\n",
    "for i in range(N):\n",
    "    plt.plot(t_group[i], q_conv_group[i], label=str(v_entry_lst[i].round(3))+\"[km/s]\")\n",
    "plt.legend()\n",
    "plt.savefig('../output/q_conv.png')\n",
    "plt.show()\n",
    "\n",
    "for i in range(N):\n",
    "    plt.plot(t_group[i], q_rad_group[i], label=str(v_entry_lst[i].round(3))+\"[km/s]\")\n",
    "plt.legend()\n",
    "plt.savefig('../output/q_rad.png')\n",
    "plt.show()\n",
    "\n",
    "for i in range(N):\n",
    "    plt.plot(t_group[i], h_group[i])\n",
    "plt.savefig(\"../output/height.png\")\n",
    "plt.show()\n",
    "\n",
    "for i in range(N):\n",
    "    plt.plot(t_group[i], v_group[i])\n",
    "plt.savefig(\"../output/height.png\")\n",
    "plt.show()"
   ]
  },
  {
   "cell_type": "code",
   "execution_count": 28,
   "metadata": {},
   "outputs": [
    {
     "name": "stdout",
     "output_type": "stream",
     "text": [
      "(-8.58944949611711e-05, 0.0001409600776584566)\n"
     ]
    }
   ],
   "source": [
    "#擾乱の永年項を計算\n",
    "#計算量多めなので、後で直す\n",
    "def gravity_perturbation_moon(r, i):\n",
    "    \"\"\"\n",
    "    月の重力による擾乱\n",
    "    \n",
    "    arg:\n",
    "    r(float) 軌道長半径(円軌道の時は半径)[km]\n",
    "    i(float) 軌道傾斜角[deg]\n",
    "    \n",
    "    return:\n",
    "    dot_omega_moon(float) 近地点引数の変化[deg/day]\n",
    "    dot_Omega_moon(float) 昇交点赤経の変化[deg/day]\n",
    "    \n",
    "    \"\"\"\n",
    "    i = np.deg2rad(i)\n",
    "    n = np.sqrt(MU/r**3) #[rad/s]\n",
    "    n *= 60*60*24 #[rad/day]\n",
    "    n /= 2*PI#[周回数/day]\n",
    "    dot_Omega_moon = -0.00338*np.cos(i)/n\n",
    "    dot_omega_moon = 0.00169*(4-5*(np.sin(i))**2)/n\n",
    "    return dot_Omega_moon, dot_omega_moon\n",
    "\n",
    "def gravity_perturbation_sun(r, i):\n",
    "    \"\"\"\n",
    "    太陽の重力による擾乱\n",
    "    \n",
    "    arg:\n",
    "    r(float) 軌道長半径(円軌道の時は半径)[km]\n",
    "    i(float) 軌道傾斜角[deg]\n",
    "    \n",
    "    return:\n",
    "    dot_omega_sun(float) 近地点引数の変化[deg/day]\n",
    "    dot_Omega_sun(float) 昇交点赤経の変化[deg/day]\n",
    "    \n",
    "    \"\"\"\n",
    "    i = np.deg2rad(i)\n",
    "    n = np.sqrt(MU/r**3) #[rad/s]\n",
    "    n *= 60*60*24 #[rad/day]\n",
    "    n /= 2*PI#[周回数/day]\n",
    "    dot_Omega_sun = -0.00154*np.cos(i)/n\n",
    "    dot_omega_sun = 0.00077*(4-5*((np.sin(i))**2))/n\n",
    "    return dot_Omega_sun, dot_omega_sun\n",
    "\n",
    "print(gravity_perturbation_sun(6700, 28))"
   ]
  },
  {
   "cell_type": "code",
   "execution_count": 24,
   "metadata": {},
   "outputs": [],
   "source": [
    "class Orbit:\n",
    "    \"\"\"なんか軌道わかるとうまくいくやつ()\n",
    "    to do\n",
    "    外乱制御用のΔV\n",
    "    \"\"\"\n",
    "    \n",
    "    def __init__(self, r_tgt):\n",
    "        \"\"\"とりあえず円周回軌道半径だけ。。。\"\"\"\n",
    "        self.r_tgt = r_tgt # radius of orbit\n",
    "        self.delta_v_peri = None\n",
    "        self.delta_v_apo = None\n",
    "        self.delta_v = None\n",
    "        \n",
    "        self.reentry_height = 100 #地球の大気圏高度[km]\n",
    "        self.v_tgt = None\n",
    "    def get_delta_v_peri(self):\n",
    "        \"\"\"近地点でのΔv\"\"\"\n",
    "        r_tgt = self.r_tgt\n",
    "        v_po = np.sqrt(MU/R_po)\n",
    "        v_peri_trans = np.sqrt(2*MU*r_tgt/R_po/(R_po+r_tgt))\n",
    "        self.delta_v_peri = v_peri_trans - v_po\n",
    "\n",
    "    def get_delta_v_apo(self):\n",
    "        \"\"\"遠地点でのΔv\"\"\"\n",
    "        r_tgt = self.r_tgt\n",
    "        self.v_tgt = np.sqrt(MU/r_tgt)\n",
    "        v_apo_trans = np.sqrt(2*MU*R_po/r_tgt/(R_po+r_tgt))\n",
    "        self.delta_v_apo = self.v_tgt-v_apo_trans\n",
    "    \n",
    "    def j2(self):\n",
    "        \"\"\"\n",
    "        外乱J2項考えましょうね～～～～～～～～～～\n",
    "        \"\"\"\n",
    "    \n",
    "    def get_delta_v(self):\n",
    "        \"\"\"Δv全部\"\"\"\n",
    "        self.get_delta_v_peri()\n",
    "        self.get_delta_v_apo()\n",
    "        self.delta_v = self.delta_v_apo+self.delta_v_peri\n",
    "        print(\"Delta V: {0} [km/s]\".format(self.delta_v))\n",
    "        print(\"V at tgt: {}[km/s]\".format(self.v_tgt))"
   ]
  },
  {
   "cell_type": "code",
   "execution_count": null,
   "metadata": {},
   "outputs": [],
   "source": [
    "orb = Orbit(7200.)\n",
    "orb.get_delta_v()"
   ]
  },
  {
   "cell_type": "markdown",
   "metadata": {},
   "source": [
    "# 空気抵抗による落下の推算"
   ]
  },
  {
   "cell_type": "markdown",
   "metadata": {},
   "source": [
    "空気抵抗による高度落下を計算。  \n",
    "\\begin{align*}\n",
    "\\frac{dr}{dt} = -\\frac{\\rho V C_d A_s r}{m} = -\\rho \\frac{C_d A_s}{m}\\sqrt{GMr}\n",
    "\\end{align*}"
   ]
  },
  {
   "cell_type": "code",
   "execution_count": null,
   "metadata": {},
   "outputs": [],
   "source": [
    "def get_drdt(r,Cd,As,m):\n",
    "    \"\"\" r,drの単位は[km] \"\"\"\n",
    "    rho = get_density(r-R_earth)\n",
    "    return (-rho*Cd*As*np.sqrt(G*M_earth*r*1000)/m) /1000\n",
    "\n",
    "def solve_air_drag_eq(r0,dt=10**1,nstep=10**5,Cd_sat=2.2,As=20.,m_sat=500.):\n",
    "    r_rev = [r0]\n",
    "    for i in range(nstep):\n",
    "        dr = get_drdt(r_rev[i],Cd_sat,As,m_sat)*dt\n",
    "        new = r_rev[i] + dr\n",
    "        if new > 0:\n",
    "            r_rev.append(new)\n",
    "        else:\n",
    "            r_rev.append(R_earth)\n",
    "    return r_rev[1:]"
   ]
  },
  {
   "cell_type": "code",
   "execution_count": null,
   "metadata": {},
   "outputs": [],
   "source": [
    "dt = 10**4\n",
    "nstep = 10**4\n",
    "r_rev = solve_air_drag_eq(380+R_earth,dt=dt,nstep=nstep)"
   ]
  },
  {
   "cell_type": "code",
   "execution_count": null,
   "metadata": {},
   "outputs": [],
   "source": [
    "t = np.arange(0,nstep*dt,dt)/3600/24 # 単位はday\n",
    "plt.plot(t,r_rev)"
   ]
  },
  {
   "cell_type": "code",
   "execution_count": null,
   "metadata": {},
   "outputs": [],
   "source": [
    "r_rev = solve_air_drag_eq(300+R_earth,dt=dt,nstep=nstep)"
   ]
  },
  {
   "cell_type": "code",
   "execution_count": null,
   "metadata": {},
   "outputs": [],
   "source": []
  }
 ],
 "metadata": {
  "kernelspec": {
   "display_name": "Python 3",
   "language": "python",
   "name": "python3"
  },
  "language_info": {
   "codemirror_mode": {
    "name": "ipython",
    "version": 3
   },
   "file_extension": ".py",
   "mimetype": "text/x-python",
   "name": "python",
   "nbconvert_exporter": "python",
   "pygments_lexer": "ipython3",
   "version": "3.7.1"
  }
 },
 "nbformat": 4,
 "nbformat_minor": 2
}
