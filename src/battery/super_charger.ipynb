{
 "cells": [
  {
   "cell_type": "code",
   "execution_count": 4,
   "metadata": {},
   "outputs": [],
   "source": [
    "import numpy as np\n",
    "\n",
    "R_earth = 6378. #地球の半径[km]\n",
    "MU = 3.986*10**5"
   ]
  },
  {
   "cell_type": "code",
   "execution_count": 12,
   "metadata": {},
   "outputs": [],
   "source": [
    "class Super_charger:\n",
    "    def __init__(self, capacitance, voltage, stored_energy, n=0.75):\n",
    "        \"\"\"\n",
    "        Arg:\n",
    "            capacitance[F] キャパシタンス\n",
    "            voltage[V] 電圧\n",
    "            stored_enegy[Wh] 貯蓄エネルギー\n",
    "            n[] 負荷への電力伝達率 default 0.75\n",
    "        \"\"\"\n",
    "        \n",
    "        self.capacitance = capacitance\n",
    "        self.voltage = voltage\n",
    "        self.stored_energy = stored_energy\n",
    "        \n",
    "    def get_battery_number(self, power_need):\n",
    "        stored_energy = self.stored_energy*3600#[J]\n",
    "        number = power_need/stored_energy/0.75\n",
    "        return number"
   ]
  },
  {
   "cell_type": "markdown",
   "metadata": {},
   "source": [
    "## 発電時間の見積もり\n",
    "1. 基本的にonなので、25000-0のホーマン軌道の半周期\n",
    "2. リアクションホールだけ大気圏突入の直前の500sと勝手に仮定する\n",
    "\n",
    "|機器|time|消費電力|\n",
    "|:--|--:|:--:|\n",
    "|リアクションホイール|500|40|\n",
    "|オンボード計算機|all|15|\n",
    "|トランスポンダ|all|17|\n",
    "|アースセンサ|all|0.1|\n",
    "|サンセンサ|all|0.1|"
   ]
  },
  {
   "cell_type": "code",
   "execution_count": 13,
   "metadata": {},
   "outputs": [],
   "source": [
    "ra = 25000.+R_earth\n",
    "rp = 0. +R_earth\n",
    "semi_major_axis = (ra+rp)/2.\n",
    "period = 2*np.pi*np.sqrt(semi_major_axis**3/MU)\n",
    "half_period = period/2.\n",
    "\n",
    "power = 500*40+(15+17+0.1+0.1)*half_period"
   ]
  },
  {
   "cell_type": "code",
   "execution_count": 15,
   "metadata": {},
   "outputs": [
    {
     "data": {
      "text/plain": [
       "268.8862489803512"
      ]
     },
     "execution_count": 15,
     "metadata": {},
     "output_type": "execute_result"
    }
   ],
   "source": [
    "battery=Super_charger(60, 2.7, 0.6)\n",
    "battery.get_battery_number(power)"
   ]
  },
  {
   "cell_type": "markdown",
   "metadata": {},
   "source": [
    "おおすぎいいいいいいいいいいいいいいいいいいい"
   ]
  },
  {
   "cell_type": "code",
   "execution_count": null,
   "metadata": {},
   "outputs": [],
   "source": []
  }
 ],
 "metadata": {
  "kernelspec": {
   "display_name": "Python 3",
   "language": "python",
   "name": "python3"
  },
  "language_info": {
   "codemirror_mode": {
    "name": "ipython",
    "version": 3
   },
   "file_extension": ".py",
   "mimetype": "text/x-python",
   "name": "python",
   "nbconvert_exporter": "python",
   "pygments_lexer": "ipython3",
   "version": "3.7.0"
  }
 },
 "nbformat": 4,
 "nbformat_minor": 2
}
