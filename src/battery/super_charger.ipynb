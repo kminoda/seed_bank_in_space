{
 "cells": [
  {
   "cell_type": "code",
   "execution_count": 6,
   "metadata": {},
   "outputs": [],
   "source": [
    "import numpy as np\n",
    "R_earth = 6378. #地球の半径[km]\n",
    "MU = 3.986*10**5"
   ]
  },
  {
   "cell_type": "code",
   "execution_count": 19,
   "metadata": {},
   "outputs": [],
   "source": [
    "class Super_charger:\n",
    "    def __init__(self, capacitance=60, voltage=2.7, stored_energy=0.6, bus_voltage=30.,n=1.,\n",
    "                mass = 0.11775):\n",
    "        \"\"\"\n",
    "        Arg:\n",
    "            capacitance[F] キャパシタンス\n",
    "            voltage[V] 電圧\n",
    "            stored_enegy[Wh] 貯蓄エネルギー\n",
    "            stored_energy_current[Ah] 貯蓄エネルギーのアンペア表示\n",
    "            bus_volrage[V] バス電圧\n",
    "            n[] 負荷への電力伝達率 default 1\n",
    "            mass[kg] 1個当たりの質量 default 0.11775\n",
    "        \"\"\"\n",
    "        \n",
    "        self.capacitance = capacitance\n",
    "        self.voltage = voltage\n",
    "        self.stored_energy = stored_energy\n",
    "        self.stored_energy_current = stored_energy/voltage\n",
    "        \n",
    "        self.bus_voltage = bus_voltage\n",
    "        \n",
    "        self.n = n\n",
    "        self.mass = mass\n",
    "        \n",
    "    def decide_series_number(self, harness_vol_degrade=0.5):\n",
    "        \"\"\"\n",
    "        Arg:\n",
    "            bus_voltage[V] バス電圧 default=30\n",
    "            haeness_vol_degrade[V] ハーネス電圧低下 default=0.5\n",
    "        \"\"\"\n",
    "        return np.ceil((self.bus_voltage+harness_vol_degrade)/self.voltage)\n",
    "        \n",
    "    def decide_pararell_number(self, power_need):\n",
    "        number = power_need/(self.stored_energy_current*self.bus_voltage*self.n*3600)\n",
    "        number = np.ceil(number)\n",
    "        return number"
   ]
  },
  {
   "cell_type": "markdown",
   "metadata": {},
   "source": [
    "## 発電時間の見積もり\n",
    "1. 基本的にonなので、25000-0のホーマン軌道の半周期\n",
    "2. リアクションホールだけ大気圏突入の軌道変更直後の60sと勝手に仮定する\n",
    "3. ビーコンはパラシュート展開からおよそ600sぐらいとする。\n",
    "\n",
    "|機器|time|平均消費電力[W]|\n",
    "|:--|--:|:--:|\n",
    "|磁気トルカ|60|9|\n",
    "|オンボード計算機|all|15|\n",
    "|トランスポンダ|all|2|\n",
    "|アースセンサ|all|0.1|\n",
    "|サンセンサ|all|0.1|\n",
    "|電源制御部|all|2.5|\n",
    "|ビーコン|600|0.25|\n",
    "\n",
    "3. 各フェーズの時間（単位は秒）は以下の通り（その都度変える必要）\n",
    "\n",
    "|遠地点～大気圏|大気圏～落下後発見|\n",
    "|:--|:--:|\n",
    "|12968|1000|"
   ]
  },
  {
   "cell_type": "markdown",
   "metadata": {},
   "source": []
  },
  {
   "cell_type": "code",
   "execution_count": 29,
   "metadata": {},
   "outputs": [
    {
     "name": "stdout",
     "output_type": "stream",
     "text": [
      "275659.6\n"
     ]
    }
   ],
   "source": [
    "power = 60*9+(15+2+2.5)*(12968+1000)+(0.1+0.1)*12968+600*0.25 #[J]\n",
    "print(power)"
   ]
  },
  {
   "cell_type": "code",
   "execution_count": 30,
   "metadata": {},
   "outputs": [
    {
     "name": "stdout",
     "output_type": "stream",
     "text": [
      "12.0\n"
     ]
    }
   ],
   "source": [
    "battery=Super_charger()\n",
    "series = battery.decide_series_number()\n",
    "print(series)"
   ]
  },
  {
   "cell_type": "markdown",
   "metadata": {},
   "source": [
    "おおすぎいいいいいいいいいいいいいいいいいいい"
   ]
  },
  {
   "cell_type": "code",
   "execution_count": 31,
   "metadata": {},
   "outputs": [
    {
     "name": "stdout",
     "output_type": "stream",
     "text": [
      "12.0\n"
     ]
    }
   ],
   "source": [
    "pararell = battery.decide_pararell_number(power)\n",
    "print(pararell)"
   ]
  },
  {
   "cell_type": "code",
   "execution_count": 32,
   "metadata": {},
   "outputs": [
    {
     "name": "stdout",
     "output_type": "stream",
     "text": [
      "16.956\n"
     ]
    }
   ],
   "source": [
    "all_mass = series*pararell*battery.mass\n",
    "print(all_mass)"
   ]
  },
  {
   "cell_type": "code",
   "execution_count": null,
   "metadata": {},
   "outputs": [],
   "source": []
  }
 ],
 "metadata": {
  "kernelspec": {
   "display_name": "Python 3",
   "language": "python",
   "name": "python3"
  },
  "language_info": {
   "codemirror_mode": {
    "name": "ipython",
    "version": 3
   },
   "file_extension": ".py",
   "mimetype": "text/x-python",
   "name": "python",
   "nbconvert_exporter": "python",
   "pygments_lexer": "ipython3",
   "version": "3.7.1"
  }
 },
 "nbformat": 4,
 "nbformat_minor": 2
}
