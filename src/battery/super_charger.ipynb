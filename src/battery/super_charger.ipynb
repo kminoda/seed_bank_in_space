{
 "cells": [
  {
   "cell_type": "code",
   "execution_count": 1,
   "metadata": {},
   "outputs": [],
   "source": [
    "import numpy as np\n",
    "\n",
    "R_earth = 6378 #地球の半径[km]"
   ]
  },
  {
   "cell_type": "code",
   "execution_count": null,
   "metadata": {},
   "outputs": [],
   "source": [
    "class Super_charger:\n",
    "    def __init__(self, capacitance, voltage, stored_energy, n=0.75):\n",
    "        \"\"\"\n",
    "        Arg:\n",
    "            capacitance[F] キャパシタンス\n",
    "            voltage[V] 電圧\n",
    "            stored_enegy[Wh] 貯蓄エネルギー\n",
    "            n[] 負荷への電力伝達率 default 0.75\n",
    "        \"\"\"\n",
    "        \n",
    "        self.capacitance = capacitance\n",
    "        self.voltage = voltage\n",
    "        self.stored_energy = stored_energy\n",
    "        \n",
    "    def get_battery_number(self, power_need):\n",
    "        stored_energy = self.stored_energy*3600#[J]\n",
    "        number = power_need/stored_energy/0.75\n",
    "        return number"
   ]
  },
  {
   "cell_type": "markdown",
   "metadata": {},
   "source": [
    "## 発電時間の見積もり\n",
    "1. 基本的にonなので、25000-0のホーマン軌道の半周期\n",
    "2. リアクションホールだけ大気圏突入の直前の500sと勝手に仮定する"
   ]
  },
  {
   "cell_type": "code",
   "execution_count": 3,
   "metadata": {},
   "outputs": [
    {
     "data": {
      "text/plain": [
       "2160.0"
      ]
     },
     "execution_count": 3,
     "metadata": {},
     "output_type": "execute_result"
    }
   ],
   "source": []
  },
  {
   "cell_type": "code",
   "execution_count": null,
   "metadata": {},
   "outputs": [],
   "source": []
  }
 ],
 "metadata": {
  "kernelspec": {
   "display_name": "Python 3",
   "language": "python",
   "name": "python3"
  },
  "language_info": {
   "codemirror_mode": {
    "name": "ipython",
    "version": 3
   },
   "file_extension": ".py",
   "mimetype": "text/x-python",
   "name": "python",
   "nbconvert_exporter": "python",
   "pygments_lexer": "ipython3",
   "version": "3.7.0"
  }
 },
 "nbformat": 4,
 "nbformat_minor": 2
}
