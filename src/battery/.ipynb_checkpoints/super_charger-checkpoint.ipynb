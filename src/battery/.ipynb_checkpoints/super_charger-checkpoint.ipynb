{
 "cells": [
  {
   "cell_type": "code",
   "execution_count": 2,
   "metadata": {},
   "outputs": [],
   "source": [
    "import numpy as np\n",
    "\n",
    "R_earth = 6378. #地球の半径[km]\n",
    "MU = 3.986*10**5"
   ]
  },
  {
   "cell_type": "code",
   "execution_count": 7,
   "metadata": {},
   "outputs": [],
   "source": [
    "class Super_charger:\n",
    "    def __init__(self, capacitance=60, voltage=2.7, stored_energy=0.6,bus_voltage=30.,n=0.8):\n",
    "        \"\"\"\n",
    "        Arg:\n",
    "            capacitance[F] キャパシタンス\n",
    "            voltage[V] 電圧\n",
    "            stored_enegy[Wh] 貯蓄エネルギー\n",
    "            stored_energy_current[Ah] 貯蓄エネルギーのアンペア表示\n",
    "            bus_volrage[V] バス電圧\n",
    "            n[] 負荷への電力伝達率 default 0.75\n",
    "        \"\"\"\n",
    "        \n",
    "        self.capacitance = capacitance\n",
    "        self.voltage = voltage\n",
    "        self.stored_energy = stored_energy\n",
    "        self.stored_energy_current = stored_energy/voltage\n",
    "        \n",
    "        self.bus_voltage = bus_voltage\n",
    "        \n",
    "        self.n = n\n",
    "        \n",
    "    def decide_series_number(self, harness_vol_degrade=0.5):\n",
    "        \"\"\"\n",
    "        Arg:\n",
    "            bus_voltage[V] バス電圧 default=30\n",
    "            haeness_vol_degrade[V] ハーネス電圧低下 default=1.\n",
    "        \"\"\"\n",
    "        return np.ceil((self.bus_voltage+harness_vol_degrade)/self.voltage)\n",
    "        \n",
    "    def decide_pararell_number(self, power_need):\n",
    "        n = power_need/(self.stored_energy_current*self.bus_voltage*self.n*3600)\n",
    "        number = np.ceil(n)\n",
    "        return number"
   ]
  },
  {
   "cell_type": "markdown",
   "metadata": {},
   "source": [
    "## 発電時間の見積もり\n",
    "1. 基本的にonなので、25000-0のホーマン軌道の半周期\n",
    "2. リアクションホールだけ大気圏突入の直前の500sと勝手に仮定する\n",
    "\n",
    "|機器|time|消費電力|\n",
    "|:--|--:|:--:|\n",
    "|リアクションホイール|500|40|\n",
    "|オンボード計算機|all|15|\n",
    "|トランスポンダ|all|17|\n",
    "|アースセンサ|all|0.1|\n",
    "|サンセンサ|all|0.1|"
   ]
  },
  {
   "cell_type": "code",
   "execution_count": 8,
   "metadata": {},
   "outputs": [
    {
     "name": "stdout",
     "output_type": "stream",
     "text": [
      "12906.699482862388\n"
     ]
    }
   ],
   "source": [
    "ra = 25000.+R_earth\n",
    "rp = 0. +R_earth\n",
    "semi_major_axis = (ra+rp)/2.\n",
    "period = 2*np.pi*np.sqrt(semi_major_axis**3/MU)\n",
    "half_period = period/2.\n",
    "print(half_period/3600)\n",
    "\n",
    "\n",
    "power = 500*40+(15+17+0.1+0.1)*half_period"
   ]
  },
  {
   "cell_type": "code",
   "execution_count": 9,
   "metadata": {},
   "outputs": [
    {
     "data": {
      "text/plain": [
       "12.0"
      ]
     },
     "execution_count": 9,
     "metadata": {},
     "output_type": "execute_result"
    }
   ],
   "source": [
    "battery=Super_charger()\n",
    "battery.decide_series_number()"
   ]
  },
  {
   "cell_type": "markdown",
   "metadata": {},
   "source": [
    "おおすぎいいいいいいいいいいいいいいいいいいい"
   ]
  },
  {
   "cell_type": "code",
   "execution_count": null,
   "metadata": {},
   "outputs": [],
   "source": []
  }
 ],
 "metadata": {
  "kernelspec": {
   "display_name": "Python 3",
   "language": "python",
   "name": "python3"
  },
  "language_info": {
   "codemirror_mode": {
    "name": "ipython",
    "version": 3
   },
   "file_extension": ".py",
   "mimetype": "text/x-python",
   "name": "python",
   "nbconvert_exporter": "python",
   "pygments_lexer": "ipython3",
   "version": "3.7.0"
  }
 },
 "nbformat": 4,
 "nbformat_minor": 2
}
