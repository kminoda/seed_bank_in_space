{
 "cells": [
  {
   "cell_type": "code",
   "execution_count": 1,
   "metadata": {},
   "outputs": [],
   "source": [
    "import numpy as np"
   ]
  },
  {
   "cell_type": "code",
   "execution_count": null,
   "metadata": {},
   "outputs": [],
   "source": [
    "class Super_charger:\n",
    "    def __init__(self, capacitance, voltage, stored_energy, n=0.75):\n",
    "        \"\"\"\n",
    "        Arg:\n",
    "            capacitance[F] キャパシタンス\n",
    "            voltage[V] 電圧\n",
    "            stored_enegy[Wh] 貯蓄エネルギー\n",
    "            n[] 負荷への電力伝達率 default 0.75\n",
    "        \"\"\"\n",
    "        \n",
    "        self.capacitance = capacitance\n",
    "        self.voltage = voltage\n",
    "        self.stored_energy = stored_energy\n",
    "        \n",
    "    def get_battery_number(self, power_need):\n",
    "        stored_energy = self.stored_energy*3600#[J]\n",
    "        number = power_need/stored_energy/0.75\n",
    "        return number"
   ]
  },
  {
   "cell_type": "code",
   "execution_count": 2,
   "metadata": {},
   "outputs": [
    {
     "data": {
      "text/plain": [
       "2187.0000000000005"
      ]
     },
     "execution_count": 2,
     "metadata": {},
     "output_type": "execute_result"
    }
   ],
   "source": [
    "1/2.*600*2.7**2"
   ]
  },
  {
   "cell_type": "code",
   "execution_count": 3,
   "metadata": {},
   "outputs": [
    {
     "data": {
      "text/plain": [
       "2160.0"
      ]
     },
     "execution_count": 3,
     "metadata": {},
     "output_type": "execute_result"
    }
   ],
   "source": [
    "0.60*3600"
   ]
  },
  {
   "cell_type": "code",
   "execution_count": null,
   "metadata": {},
   "outputs": [],
   "source": []
  }
 ],
 "metadata": {
  "kernelspec": {
   "display_name": "Python 3",
   "language": "python",
   "name": "python3"
  },
  "language_info": {
   "codemirror_mode": {
    "name": "ipython",
    "version": 3
   },
   "file_extension": ".py",
   "mimetype": "text/x-python",
   "name": "python",
   "nbconvert_exporter": "python",
   "pygments_lexer": "ipython3",
   "version": "3.7.0"
  }
 },
 "nbformat": 4,
 "nbformat_minor": 2
}
