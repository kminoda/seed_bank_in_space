{
 "cells": [
  {
   "cell_type": "code",
   "execution_count": 1,
   "metadata": {},
   "outputs": [],
   "source": [
    "import numpy as np\n",
    "import matplotlib.pyplot as plt\n",
    "import pandas as pd"
   ]
  },
  {
   "cell_type": "code",
   "execution_count": null,
   "metadata": {},
   "outputs": [],
   "source": [
    "class SAP:\n",
    "    \"\"\"SAPの性能から、どれくらいの面積・質量が必要になるかを計算してくれる有能な奴にしたい。\n",
    "    \n",
    "    \"\"\"\n",
    "    def __init__(self, Pd, Td=12., Pe=0, Pm=0, Te=12, Tm=0, Xc=0.9, Xd=0.9):\n",
    "        \"\"\"\n",
    "        Attribute:\n",
    "            Pd[W] 日照時消費電力\n",
    "            Td[hour] 日照時間 default=12\n",
    "            Pe[W] 食事消費電力 default=0\n",
    "            Pm[W] ミッション時増加電力 default=0\n",
    "            Te[hour] 食時間 default=12\n",
    "            Tm[hour] ミッション時間 default=12\n",
    "            Xc[] バッテリ-負荷間の電力伝達効率 default=0.9\n",
    "            Xd[] 太陽電池アレイ-負荷間の電力伝達効率　default=0.9\n",
    "            \n",
    "        \"\"\""
   ]
  }
 ],
 "metadata": {
  "kernelspec": {
   "display_name": "Python 3",
   "language": "python",
   "name": "python3"
  },
  "language_info": {
   "codemirror_mode": {
    "name": "ipython",
    "version": 3
   },
   "file_extension": ".py",
   "mimetype": "text/x-python",
   "name": "python",
   "nbconvert_exporter": "python",
   "pygments_lexer": "ipython3",
   "version": "3.7.1"
  }
 },
 "nbformat": 4,
 "nbformat_minor": 2
}
