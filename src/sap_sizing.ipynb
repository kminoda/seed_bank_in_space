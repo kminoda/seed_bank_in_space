{
 "cells": [
  {
   "cell_type": "code",
   "execution_count": 1,
   "metadata": {},
   "outputs": [],
   "source": [
    "import numpy as np\n",
    "import matplotlib.pyplot as plt\n",
    "import pandas as pd"
   ]
  },
  {
   "cell_type": "code",
   "execution_count": null,
   "metadata": {},
   "outputs": [],
   "source": [
    "class SAP:\n",
    "    \"\"\"SAPの性能から、どれくらいの面積・質量が必要になるかを計算してくれる有能な奴にしたい。\n",
    "    To do: 温度の影響\n",
    "    \"\"\"\n",
    "    def __init__(self, Pd,\n",
    "                 vol_degrade_per_decade=0.92, current_degrade_per_decade=0.84, \n",
    "                 Td=12., Pe=0, Pm=0, Te=12, Tm=0, Xc=0.9, Xd=0.9):\n",
    "        \"\"\"\n",
    "        Attribute:\n",
    "            Pd[W] 日照時消費電力\n",
    "            \n",
    "            vol_degrade_per_decade[] 動作電圧劣化 default=0.92\n",
    "            current_degrade[] 動作電流劣化 default=0.84\n",
    "            \n",
    "            Td[hour] 日照時間 default=12\n",
    "            Pe[W] 食事消費電力 default=0\n",
    "            Pm[W] ミッション時増加電力 default=0\n",
    "            Te[hour] 食時間 default=12\n",
    "            Tm[hour] ミッション時間 default=12\n",
    "            Xc[] バッテリ-負荷間の電力伝達効率 default=0.9\n",
    "            Xd[] 太陽電池アレイ-負荷間の電力伝達効率　default=0.9\n",
    "            \n",
    "        \"\"\"\n",
    "        self.Pd = Pd\n",
    "        \n",
    "        self.vol_degrade_per_decade = vol_degrade_per_decade\n",
    "        self.current_degrade_per_decade = current_degrade_per_decade\n",
    "        \n",
    "        self.Td = Td\n",
    "        self.Pe = Pe\n",
    "        self.Pm = Pm\n",
    "        self.Te = Te\n",
    "        self.Tm = Tm\n",
    "        self.Xc = Xc\n",
    "        self.Xd = Xd\n",
    "        self.Psa = (Pe*Te/Xc + Pm*Tm/Xc + Pd*Td/Xd)/Td\n",
    "        \n",
    "    def calc_array_power(theta, time_after=100., t_effect=0.):\n",
    "        \"\"\"アレイ発電量(BOL)を計算する\n",
    "        Arg:\n",
    "            theta[deg] 太陽光の入射角\n",
    "            time_after[yr] n年後 default=100\n",
    "            t_effect[] 温度影響　default=0\n",
    "        Return:\n",
    "            bol[W] アレイ発電量\n",
    "        \"\"\"\n",
    "        eta = time_after/10.\n",
    "        degrade_rate = self.\n",
    "        "
   ]
  }
 ],
 "metadata": {
  "kernelspec": {
   "display_name": "Python 3",
   "language": "python",
   "name": "python3"
  },
  "language_info": {
   "codemirror_mode": {
    "name": "ipython",
    "version": 3
   },
   "file_extension": ".py",
   "mimetype": "text/x-python",
   "name": "python",
   "nbconvert_exporter": "python",
   "pygments_lexer": "ipython3",
   "version": "3.7.1"
  }
 },
 "nbformat": 4,
 "nbformat_minor": 2
}
