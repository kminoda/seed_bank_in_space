{
 "cells": [
  {
   "cell_type": "code",
   "execution_count": 1,
   "metadata": {},
   "outputs": [],
   "source": [
    "import numpy as np\n",
    "import matplotlib.pyplot as plt\n",
    "import pandas as pd"
   ]
  },
  {
   "cell_type": "code",
   "execution_count": 2,
   "metadata": {},
   "outputs": [],
   "source": [
    "class SAP:\n",
    "    \"\"\"SAPの性能から、どれくらいの面積・質量が必要になるかを計算してくれる有能な奴にしたい。\n",
    "    To do: 温度の影響\n",
    "    \"\"\"\n",
    "    sunlight_strength = 1350 #太陽光強度[W/m^2]\n",
    "    def __init__(self, Pd, Td=12., Pe=0, Pm=0, Te=12, Tm=0, Xc=0.9, Xd=0.9,\n",
    "                 vol_degrade_per_decade=0.92, current_degrade_per_decade=0.84,\n",
    "                 pannel_width=2.2, pannel_length=1.5,\n",
    "                 cell_efficiency = 0.185, cell_packing_efficiency=0.95,):\n",
    "        \"\"\"\n",
    "        Attribute:\n",
    "            Pd[W] 日照時消費電力\n",
    "            Td[hour] 日照時間 default=12\n",
    "            Pe[W] 食事消費電力 default=0\n",
    "            Pm[W] ミッション時増加電力 default=0\n",
    "            Te[hour] 食時間 default=12\n",
    "            Tm[hour] ミッション時間 default=12\n",
    "            Xc[] バッテリ-負荷間の電力伝達効率 default=0.9\n",
    "            Xd[] 太陽電池アレイ-負荷間の電力伝達効率　default=0.9\n",
    "            \n",
    "            vol_degrade_per_decade[] 動作電圧劣化 default=0.92\n",
    "            current_degrade[] 動作電流劣化 default=0.84\n",
    "            \n",
    "            pannel_width[m] パネル一枚の幅　default=2.2\n",
    "            pannel_length[m] パネル一枚の長さ　default=1.5\n",
    "            \n",
    "            cell_efficienvy[] セル効率 default=0.185\n",
    "            cell_packing_efficiency[] セルパッキング効率 default=0.95\n",
    "            \n",
    "        \"\"\"\n",
    "        self.Pd = Pd\n",
    "        \n",
    "        self.vol_degrade_per_decade = vol_degrade_per_decade\n",
    "        self.current_degrade_per_decade = current_degrade_per_decade\n",
    "        \n",
    "        self.cell_efficiency = cell_efficiency\n",
    "        self.cell_packing_efficiency = cell_packing_efficiency\n",
    "        \n",
    "        self.Td = Td\n",
    "        self.Pe = Pe\n",
    "        self.Pm = Pm\n",
    "        self.Te = Te\n",
    "        self.Tm = Tm\n",
    "        self.Xc = Xc\n",
    "        self.Xd = Xd\n",
    "        self.Psa = (Pe*Te/Xc + Pm*Tm/Xc + Pd*Td/Xd)/Td\n",
    "        \n",
    "        self.pannel_squere = pannel_width*pannel_length\n",
    "        \n",
    "    def calc_array(self, theta, time_after=100., t_effect=0.):\n",
    "        \"\"\"入射角に対してアレイの諸元を決定する。\n",
    "        Arg:\n",
    "            theta[deg] 太陽光の入射角\n",
    "            time_after[yr] n年後 default=100\n",
    "            t_effect[] 温度影響　default=0\n",
    "        Return:\n",
    "            solloar_battery_array_mass[kg] 太陽電池アレイ重量\n",
    "        \"\"\"\n",
    "        print(self.Psa)\n",
    "        theta = np.deg2rad(theta)#[rad]\n",
    "        eta = time_after/10.\n",
    "        degrade_rate = (self.vol_degrade_per_decade*self.current_degrade_per_decade)**eta\n",
    "        #アレイ発電量\n",
    "        bol = self.Psa/degrade_rate/np.cos(theta)/(1.-t_effect)\n",
    "        #全セル面積[m^2]\n",
    "        all_cell = bol/SAP.sunlight_strength/self.cell_efficiency\n",
    "        #全セル枚数[枚] 2cm*4cmとする\n",
    "        cell_number = all_cell/(2*10**(-2)*4*10**(-2))\n",
    "        #アレイ面積[m^2]\n",
    "        array = all_cell/self.cell_packing_efficiency\n",
    "        #翼数\n",
    "        wing_number = int(np.ceil(array/self.pannel_squere))\n",
    "        if wing_number & 1:\n",
    "            wing_number += 1\n",
    "        else:\n",
    "            pass\n",
    "        \n",
    "        #構造重量(リジッド型パネル2.1kg/m^2)\n",
    "        pannel_structure_mass = 2.1*(self.pannel_squere)*wing_number\n",
    "        #展開機構(0.4kg*パネル枚数+2.1kg)\n",
    "        deployment_structure_mass = 0.4*wing_number + 2.1\n",
    "        #保持解放機構(9kg・・・要出典)\n",
    "        holding_release_structure_mass = 9\n",
    "        #パネル質量\n",
    "        pannel_mass = pannel_structure_mass+deployment_structure_mass+holding_release_structure_mass\n",
    "        \n",
    "        #セル重量 セルの面密度87mg/cm**2, ワイヤハーネス0.2g/個\n",
    "        cell_mass = cell_number*(87*4*2)*10**(-6) + 0.2*cell_number*10**(-3)\n",
    "        \n",
    "        #モータ重量 10kgとする\n",
    "        motor_mass = 10\n",
    "        \n",
    "        #太陽電池アレイ質量\n",
    "        sollar_battery_array_mass = pannel_mass + cell_mass + motor_mass\n",
    "        return sollar_battery_array_mass"
   ]
  },
  {
   "cell_type": "code",
   "execution_count": 5,
   "metadata": {},
   "outputs": [
    {
     "name": "stdout",
     "output_type": "stream",
     "text": [
      "55.55555555555555\n"
     ]
    },
    {
     "data": {
      "text/plain": [
       "39.03920740934309"
      ]
     },
     "execution_count": 5,
     "metadata": {},
     "output_type": "execute_result"
    }
   ],
   "source": [
    "debug1 = SAP(50)\n",
    "debug1.calc_array(0)"
   ]
  },
  {
   "cell_type": "code",
   "execution_count": 6,
   "metadata": {},
   "outputs": [
    {
     "data": {
      "text/plain": [
       "14125.0"
      ]
     },
     "execution_count": 6,
     "metadata": {},
     "output_type": "execute_result"
    }
   ],
   "source": [
    "11.3/8*10**4"
   ]
  },
  {
   "cell_type": "code",
   "execution_count": null,
   "metadata": {},
   "outputs": [],
   "source": []
  }
 ],
 "metadata": {
  "kernelspec": {
   "display_name": "Python 3",
   "language": "python",
   "name": "python3"
  },
  "language_info": {
   "codemirror_mode": {
    "name": "ipython",
    "version": 3
   },
   "file_extension": ".py",
   "mimetype": "text/x-python",
   "name": "python",
   "nbconvert_exporter": "python",
   "pygments_lexer": "ipython3",
   "version": "3.6.6"
  }
 },
 "nbformat": 4,
 "nbformat_minor": 2
}
