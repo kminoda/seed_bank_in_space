{
 "cells": [
  {
   "cell_type": "markdown",
   "metadata": {},
   "source": [
    "# このファイルについて"
   ]
  },
  {
   "cell_type": "markdown",
   "metadata": {},
   "source": [
    "衛星の熱設計における熱平衡方程式を解きます。\n",
    "\\begin{align*}\n",
    " m_ic_i\\frac{dT_i}{dt}  = &\\sum c_{ij}(T_i-T_j) + \\sum \\sigma R_{ij} (T_j^4 - T_i^4)\\\\\n",
    " & + (太陽輻射・アルベド)_i+ (地球からの赤外輻射)_i + (内部機器の発熱)_i\n",
    "\\end{align*}\n",
    "\n",
    "アルベド項と赤外輻射項が時間変動するので厳しい。。。\n",
    "\n",
    "頑張って"
   ]
  },
  {
   "cell_type": "markdown",
   "metadata": {},
   "source": [
    "# Requirement"
   ]
  },
  {
   "cell_type": "code",
   "execution_count": 78,
   "metadata": {},
   "outputs": [],
   "source": [
    "import numpy as np\n",
    "import pandas as pd\n",
    "import matplotlib.pylab as plt\n",
    "import math"
   ]
  },
  {
   "cell_type": "markdown",
   "metadata": {},
   "source": [
    "# 関数など"
   ]
  },
  {
   "cell_type": "code",
   "execution_count": 2,
   "metadata": {},
   "outputs": [],
   "source": [
    "class Thermal_simu():\n",
    "    \"\"\"熱平衡方程式をとくクラス。\"\"\"\n",
    "    def __init__(self,capacity_i,C_ij,R_ij,r_satellite):\n",
    "        \"\"\"\n",
    "        初期化\n",
    "        Parameters:\n",
    "        capacity_i: ndarray 1-D vector\n",
    "            節点iでの熱容量\n",
    "        C_ij: ndarray 2-D vector\n",
    "            節点i,jの伝熱によるカップリング\n",
    "        R_ij: ndarray 2-D vector\n",
    "            節点i,jの輻射によるカップリング\n",
    "        r_satellite: ndarray 2-D vector\n",
    "            衛星の軌道半径。太陽輻射とか計算するときに使う。と思う。\n",
    "        \"\"\"\n",
    "        c_i = self.capacity_i\n",
    "        C_ij = self.C_ij\n",
    "        R_ij = self.R_ij\n",
    "        r = r_satellite\n",
    "        \n",
    "        P_s = 1358 # 太陽定数\n",
    "        \n",
    "        T_i = np.zeros(i) # 最終的に、熱平衡方程式を解いた結果をここに格納したい\n",
    "    \n",
    "    def solve_eq(self):\n",
    "        \"\"\"\n",
    "        全部解いてくれる関数だよ。\n",
    "        \"\"\"\n",
    "        return 0\n",
    "        \n",
    "    def sun_radiation(self):\n",
    "        \"\"\"\n",
    "        太陽輻射 \n",
    "\n",
    "        Parameters:\n",
    "\n",
    "        Returns:\n",
    "        q: ndarray\n",
    "            i番目の成分が節点iにおける太陽輻射による熱入力に対応\n",
    "        \"\"\"\n",
    "        q = 0\n",
    "        return q\n",
    "    \n",
    "    def earth_radiation(self):\n",
    "        \"\"\"\n",
    "        地球の赤外輻射\n",
    "\n",
    "        Parameters:\n",
    "\n",
    "        Returns:\n",
    "        q: ndarray\n",
    "            i番目の成分が節点iにおける地球の赤外輻射による熱入力に対応\n",
    "        \"\"\"\n",
    "        q = 0\n",
    "        return q\n",
    "    \n",
    "    def albedo(self):\n",
    "        \"\"\"\n",
    "        地球のアルベド\n",
    "\n",
    "        Parameters:\n",
    "\n",
    "        Returns:\n",
    "        q: ndarray\n",
    "            i番目の成分が節点iにおける地球のアルベドによる熱入力に対応\n",
    "        \"\"\"\n",
    "        q = 0\n",
    "        return q"
   ]
  },
  {
   "cell_type": "code",
   "execution_count": 3,
   "metadata": {},
   "outputs": [],
   "source": [
    "class Easy_Thermal_simu():\n",
    "    \"\"\"熱平衡方程式をとくクラス。\"\"\"\n",
    "    def __init__(self,A_i,alpha_i,eps_i):\n",
    "        self.A = A_i\n",
    "        self.alpha = alpha_i\n",
    "        self.eps = eps_i\n",
    "        self.P_s = 1358 # 太陽定数\n",
    "        self.P_e = 237\n",
    "        self.T = 0 # 最終的に、熱平衡方程式を解いた結果をここに格納したい\n",
    "        self.Q_inner = 0\n",
    "        self.sigma = 5.67*10**(-8)\n",
    "    \n",
    "    def solve_eq(self):\n",
    "        \"\"\"\n",
    "        全部解いてくれる関数だよ。\n",
    "        \"\"\"\n",
    "        Q_out_by_T4 = 0\n",
    "        for i in range(len(self.A)):\n",
    "            Q_out_by_T4 += self.A[i] * self.eps[i] * self.sigma\n",
    "        Q_in = self.get_sun_radiation() + self.get_earth_radiation() + self.get_albedo() + self.Q_inner\n",
    "        self.T = (Q_in/Q_out_by_T4)**0.25\n",
    "        \n",
    "    def get_sun_radiation(self):\n",
    "        \"\"\"\n",
    "        太陽輻射 \n",
    "\n",
    "        Parameters:\n",
    "\n",
    "        Returns:\n",
    "        q: ndarray\n",
    "            i番目の成分が節点iにおける太陽輻射による熱入力に対応\n",
    "        \"\"\"\n",
    "        q = self.P_s * self.A[0] * self.alpha[0] * 1\n",
    "        return q\n",
    "    \n",
    "    def get_earth_radiation(self):\n",
    "        \"\"\"\n",
    "        地球の赤外輻射\n",
    "\n",
    "        Parameters:\n",
    "\n",
    "        Returns:\n",
    "        q: ndarray\n",
    "            i番目の成分が節点iにおける地球の赤外輻射による熱入力に対応\n",
    "        \"\"\"\n",
    "        q = self.P_e * self.A[5] * self.eps[5] * 1 \n",
    "        return q\n",
    "    \n",
    "    def get_albedo(self):\n",
    "        \"\"\"\n",
    "        地球のアルベド\n",
    "\n",
    "        Parameters:\n",
    "\n",
    "        Returns:\n",
    "        q: ndarray\n",
    "            i番目の成分が節点iにおける地球のアルベドによる熱入力に対応\n",
    "        \"\"\"\n",
    "        q = self.P_s * 0.3 * self.A[5] * self.alpha[5] * 1\n",
    "        return q\n",
    "    \n",
    "    def set_Q_inner(self,q):\n",
    "        self.Q_inner = q"
   ]
  },
  {
   "cell_type": "code",
   "execution_count": 4,
   "metadata": {},
   "outputs": [
    {
     "data": {
      "text/plain": [
       "248.7892934630962"
      ]
     },
     "execution_count": 4,
     "metadata": {},
     "output_type": "execute_result"
    }
   ],
   "source": [
    "alpha = [0.2,0.2,0.2,0.2,0.2,0.2]\n",
    "eps = [0.8,0.8,0.8,0.8,0.8,0.8]\n",
    "A = [1,1,1,1,1,1]\n",
    "\n",
    "sim = Easy_Thermal_simu(A,alpha,eps)\n",
    "sim.set_Q_inner(500)\n",
    "sim.solve_eq()\n",
    "sim.T"
   ]
  },
  {
   "cell_type": "markdown",
   "metadata": {},
   "source": [
    "\\begin{align*}\n",
    " m_ic_i\\frac{dT_i}{dt}  = &\\sum c_{ij}(T_i-T_j) + \\sum \\sigma R_{ij} (T_j^4 - T_i^4)\\\\\n",
    " & + (太陽輻射・アルベド)_i+ (地球からの赤外輻射)_i + (内部機器の発熱)_i\n",
    "\\end{align*}"
   ]
  },
  {
   "cell_type": "code",
   "execution_count": 5,
   "metadata": {},
   "outputs": [],
   "source": [
    "n_nodes = 2 # 節点数\n",
    "n_steps = 100\n",
    "dt = 1\n",
    "\n",
    "sigma = 1\n",
    "\n",
    "t = np.arange(0,dt*n_steps,n_steps)              # 時間\n",
    "m = np.ones(n_nodes)              # 質量\n",
    "C = np.ones(n_nodes)              # 熱容量\n",
    "c = np.ones([n_nodes,n_nodes])    # c[i,j]\n",
    "R = np.ones([n_nodes,n_nodes])    # R[i,j]\n",
    "T_all = np.ones([n_nodes,n_steps])    # 温度（横に時間軸）"
   ]
  },
  {
   "cell_type": "code",
   "execution_count": 67,
   "metadata": {},
   "outputs": [],
   "source": [
    "class Thermal_eq:\n",
    "    sigma = 5.670367e-8 #  Stefan–Boltzmann Constant\n",
    "\n",
    "    def __init__(self,n_nodes,n_steps,dt):\n",
    "        self.n_nodes = n_nodes\n",
    "        self.n_steps = n_steps\n",
    "        self.dt = dt\n",
    "        \n",
    "        self.t = np.arange(0,dt*n_steps,n_steps)              # 時間\n",
    "        \n",
    "        self.m = [1. for i in range(n_nodes)]                  # 質量\n",
    "        self.C = [1. for i in range(n_nodes)]                  # 熱容量\n",
    "        self.c = [[1. for i in range(n_nodes)] for j in range(n_nodes)]        # c[i,j]\n",
    "        self.R = [[1. for i in range(n_nodes)] for j in range(n_nodes)]        # R[i,j]\n",
    "        self.T_all = [[1. for i in range(n_nodes)] for j in range(n_steps)]    # 温度（横に時間軸）\n",
    "        \n",
    "        self.Q_in = [[0. for i in range(n_nodes)] for j in range(n_steps)]\n",
    "        \n",
    "    def set_params(self,param_m=None,param_C=None,param_c=None,param_R=None):\n",
    "        if not param_m==None:\n",
    "            assert len(param_m)==self.n_nodes, 'size of parameter m is different'\n",
    "            self.t = param_m\n",
    "        if not param_C==None:\n",
    "            assert len(param_C)==self.n_nodes, 'size of parameter C is different'\n",
    "            self.t = param_C\n",
    "        if not param_c==None:\n",
    "            assert len(param_c)==self.n_nodes, 'size of parameter c is different'\n",
    "            self.t = param_c\n",
    "        if not param_R==None:\n",
    "            assert len(param_R)==self.n_steps, 'size of parameter R is different'\n",
    "            self.t = param_R\n",
    "            \n",
    "    def set_Q_in(self,n_node,Q_t):\n",
    "        self.Q_in[n_node] = Q_t\n",
    "    \n",
    "    def solve_eq(self,T_init):\n",
    "        self.T_all[0] = T_init\n",
    "        for i in range(self.n_steps-1):\n",
    "            T_temp = self.T_all[i]\n",
    "            k0 = dt * self.get_dTdt(T_temp)\n",
    "            k1 = dt * self.get_dTdt([T_temp[i] + k0[i]/2 for i in range(self.n_nodes)])\n",
    "            k2 = dt * self.get_dTdt([T_temp[i] + k1[i]/2 for i in range(self.n_nodes)])\n",
    "            k3 = dt * self.get_dTdt([T_temp[i] + k2[i] for i in range(self.n_nodes)])\n",
    "            k = [(k0[i] + 2*k1[i] + 2*k2[i] + k3[i])/6.0 for i in range(self.n_nodes)]\n",
    "            self.T_all[i+1] = [T_temp[i] + dt*k[i] for i in range(self.n_nodes)]\n",
    "    \n",
    "    def get_dTdt(self,T):\n",
    "        dTdt = [0 for i in range(self.n_nodes)]\n",
    "        for i in range(self.n_nodes):\n",
    "            sum_1 = sum([self.c[i][j]*(T[i]-T[j]) for j in range(self.n_nodes)])\n",
    "            sum_2 = self.sigma * sum([self.R[i][j]*(T[j]**4-T[i]**4) for j in range(self.n_nodes)])\n",
    "            dTdt[i] = (sum_1 + sum_2) / self.m[i] / self.C[i]\n",
    "        return dTdt"
   ]
  },
  {
   "cell_type": "code",
   "execution_count": 68,
   "metadata": {},
   "outputs": [],
   "source": [
    "eq = Thermal_eq(n_nodes=2,n_steps=100,dt=1)"
   ]
  },
  {
   "cell_type": "code",
   "execution_count": 69,
   "metadata": {},
   "outputs": [],
   "source": [
    "eq.solve_eq([1,2])"
   ]
  },
  {
   "cell_type": "code",
   "execution_count": null,
   "metadata": {},
   "outputs": [],
   "source": []
  },
  {
   "cell_type": "markdown",
   "metadata": {},
   "source": [
    "熱入力計算"
   ]
  },
  {
   "cell_type": "code",
   "execution_count": 82,
   "metadata": {},
   "outputs": [
    {
     "data": {
      "text/plain": [
       "3.141592653589793"
      ]
     },
     "execution_count": 82,
     "metadata": {},
     "output_type": "execute_result"
    }
   ],
   "source": [
    "math.pi"
   ]
  },
  {
   "cell_type": "code",
   "execution_count": 103,
   "metadata": {},
   "outputs": [],
   "source": [
    "Ps = 1358\n",
    "Pe = 237\n",
    "Pa = Ps*0.3\n",
    "T_rev = 10\n",
    "\n",
    "A = [1,1,1,1,1,1]\n",
    "alpha = [1,1,1,1,1,1]\n",
    "eps = [1,1,1,1,1,1]"
   ]
  },
  {
   "cell_type": "code",
   "execution_count": 76,
   "metadata": {},
   "outputs": [],
   "source": [
    "def is_even(num):\n",
    "    if num % 2 == 0:\n",
    "        return True\n",
    "    else:\n",
    "        return False"
   ]
  },
  {
   "cell_type": "code",
   "execution_count": 94,
   "metadata": {},
   "outputs": [],
   "source": [
    "def get_Q1(n_steps,dt,A,alpha,eps):\n",
    "    Q_s = [alpha[0]*A[0]*1*Ps if is_even(i*dt*2//T_rev) else 0 for i in range(n_steps)]\n",
    "    Q_e = [-eps[0]*A[0]*math.sin(2*math.pi*i*dt/T_rev)*Pe if not is_even(i*dt*2//T_rev) else 0 for i in range(n_steps)]\n",
    "    Q1 = [Q_s[i] + Q_e[i] for i in range(n_steps)]\n",
    "    return Q1"
   ]
  },
  {
   "cell_type": "code",
   "execution_count": 99,
   "metadata": {},
   "outputs": [
    {
     "data": {
      "text/plain": [
       "[<matplotlib.lines.Line2D at 0x11cd36b70>]"
      ]
     },
     "execution_count": 99,
     "metadata": {},
     "output_type": "execute_result"
    },
    {
     "data": {
      "image/png": "[encoded data removed]",
      "text/plain": [
       "<Figure size 432x288 with 1 Axes>"
      ]
     },
     "metadata": {
      "needs_background": "light"
     },
     "output_type": "display_data"
    }
   ],
   "source": [
    "plt.plot(get_Q1(10000,0.01,[1],[1],[1]))"
   ]
  },
  {
   "cell_type": "code",
   "execution_count": 92,
   "metadata": {},
   "outputs": [],
   "source": [
    "def get_Q2(n_steps,dt):\n",
    "    \n",
    "    return 0"
   ]
  },
  {
   "cell_type": "code",
   "execution_count": 89,
   "metadata": {},
   "outputs": [],
   "source": [
    "def get_Q3(n_steps,dt):\n",
    "    return [0 for i in range(n_steps)]"
   ]
  },
  {
   "cell_type": "code",
   "execution_count": null,
   "metadata": {},
   "outputs": [],
   "source": [
    "def get_Q4(n_steps,dt):\n",
    "    \n",
    "    return 0"
   ]
  },
  {
   "cell_type": "code",
   "execution_count": null,
   "metadata": {},
   "outputs": [],
   "source": [
    "def get_Q5(n_steps,dt):\n",
    "    return [0 for i in range(n_steps)]"
   ]
  },
  {
   "cell_type": "code",
   "execution_count": 102,
   "metadata": {},
   "outputs": [],
   "source": [
    "def get_Q6(n_steps,dt,A,alpha,eps):\n",
    "    Q_albedo = [alpha[5]*A[5]*math.sin(2*math.pi*i*dt/T_rev)*Pa if is_even(i*dt*2//T_rev) else 0 for i in range(n_steps)]\n",
    "    Q_e = [-eps[0]*A[0]*math.sin(2*math.pi*i*dt/T_rev)*Pe if is_even(i*dt*2//T_rev) else 0 for i in range(n_steps)]\n",
    "    Q6 = [Q_albedo[i] + Q_e[i] for i in range(n_steps)]\n",
    "    return Q6"
   ]
  },
  {
   "cell_type": "code",
   "execution_count": 104,
   "metadata": {},
   "outputs": [
    {
     "data": {
      "text/plain": [
       "[<matplotlib.lines.Line2D at 0x11cebc550>]"
      ]
     },
     "execution_count": 104,
     "metadata": {},
     "output_type": "execute_result"
    },
    {
     "data": {
      "image/png": "[encoded data removed]",
      "text/plain": [
       "<Figure size 432x288 with 1 Axes>"
      ]
     },
     "metadata": {
      "needs_background": "light"
     },
     "output_type": "display_data"
    }
   ],
   "source": [
    "plt.plot(get_Q6(1000,0.1,A,alpha,eps))"
   ]
  },
  {
   "cell_type": "code",
   "execution_count": null,
   "metadata": {},
   "outputs": [],
   "source": []
  }
 ],
 "metadata": {
  "kernelspec": {
   "display_name": "Python 3",
   "language": "python",
   "name": "python3"
  },
  "language_info": {
   "codemirror_mode": {
    "name": "ipython",
    "version": 3
   },
   "file_extension": ".py",
   "mimetype": "text/x-python",
   "name": "python",
   "nbconvert_exporter": "python",
   "pygments_lexer": "ipython3",
   "version": "3.6.6"
  }
 },
 "nbformat": 4,
 "nbformat_minor": 2
}
