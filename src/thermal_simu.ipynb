{
 "cells": [
  {
   "cell_type": "markdown",
   "metadata": {},
   "source": [
    "# このファイルについて"
   ]
  },
  {
   "cell_type": "markdown",
   "metadata": {},
   "source": [
    "衛星の熱設計における熱平衡方程式を解きます。\n",
    "\\begin{align*}\n",
    " m_ic_i\\frac{dT_i}{dt}  = &\\sum c_{ij}(T_i-T_j) + \\sum \\sigma R_{ij} (T_j^4 - T_i^4)\\\\\n",
    " & + (太陽輻射・アルベド)_i+ (地球からの赤外輻射)_i + (内部機器の発熱)_i\n",
    "\\end{align*}\n",
    "\n",
    "アルベド項と赤外輻射項が時間変動するので厳しい。。。\n",
    "\n",
    "頑張って"
   ]
  },
  {
   "cell_type": "markdown",
   "metadata": {},
   "source": [
    "# Requirement"
   ]
  },
  {
   "cell_type": "code",
   "execution_count": 4,
   "metadata": {},
   "outputs": [],
   "source": [
    "import numpy as np\n",
    "import pandas as pd\n",
    "import matplotlib.pylab as plt"
   ]
  },
  {
   "cell_type": "markdown",
   "metadata": {},
   "source": [
    "# 関数など"
   ]
  },
  {
   "cell_type": "code",
   "execution_count": 7,
   "metadata": {},
   "outputs": [],
   "source": [
    "class Thermal_simu():\n",
    "    \"\"\"熱平衡方程式をとくクラス。\"\"\"\n",
    "    def __init__(self,capacity_i,C_ij,R_ij,r_satellite):\n",
    "        \"\"\"\n",
    "        初期化\n",
    "        Parameters:\n",
    "        capacity_i: ndarray 1-D vector\n",
    "            節点iでの熱容量\n",
    "        C_ij: ndarray 2-D vector\n",
    "            節点i,jの伝熱によるカップリング\n",
    "        R_ij: ndarray 2-D vector\n",
    "            節点i,jの輻射によるカップリング\n",
    "        r_satellite: ndarray 2-D vector\n",
    "            衛星の軌道半径。太陽輻射とか計算するときに使う。と思う。\n",
    "        \"\"\"\n",
    "        c_i = self.capacity_i\n",
    "        C_ij = self.C_ij\n",
    "        R_ij = self.R_ij\n",
    "        r = r_satellite\n",
    "        \n",
    "        P_s = 1358 # 太陽定数\n",
    "        \n",
    "        T_i = np.zeros(i) # 最終的に、熱平衡方程式を解いた結果をここに格納したい\n",
    "    \n",
    "    def solve_eq(self):\n",
    "        \"\"\"\n",
    "        全部解いてくれる関数だよ。\n",
    "        \"\"\"\n",
    "        return 0\n",
    "        \n",
    "    def sun_radiation(self):\n",
    "        \"\"\"\n",
    "        太陽輻射 \n",
    "\n",
    "        Parameters:\n",
    "\n",
    "        Returns:\n",
    "        q: ndarray\n",
    "            i番目の成分が節点iにおける太陽輻射による熱入力に対応\n",
    "        \"\"\"\n",
    "        q = 0\n",
    "        return q\n",
    "    \n",
    "    def earth_radiation(self):\n",
    "        \"\"\"\n",
    "        地球の赤外輻射\n",
    "\n",
    "        Parameters:\n",
    "\n",
    "        Returns:\n",
    "        q: ndarray\n",
    "            i番目の成分が節点iにおける地球の赤外輻射による熱入力に対応\n",
    "        \"\"\"\n",
    "        q = 0\n",
    "        return q\n",
    "    \n",
    "    def albedo(self):\n",
    "        \"\"\"\n",
    "        地球のアルベド\n",
    "\n",
    "        Parameters:\n",
    "\n",
    "        Returns:\n",
    "        q: ndarray\n",
    "            i番目の成分が節点iにおける地球のアルベドによる熱入力に対応\n",
    "        \"\"\"\n",
    "        q = 0\n",
    "        return q"
   ]
  },
  {
   "cell_type": "code",
   "execution_count": 8,
   "metadata": {},
   "outputs": [],
   "source": [
    "class Easy_Thermal_simu():\n",
    "    \"\"\"熱平衡方程式をとくクラス。\"\"\"\n",
    "    def __init__(self,A_i,alpha_i,eps_i):\n",
    "        self.A = A_i\n",
    "        self.alpha = alpha_i\n",
    "        self.eps = eps_i\n",
    "        self.P_s = 1358 # 太陽定数\n",
    "        self.P_e = 237\n",
    "        self.T = 0 # 最終的に、熱平衡方程式を解いた結果をここに格納したい\n",
    "        self.Q_inner = 0\n",
    "        self.sigma = 5.67*10**(-8)\n",
    "    \n",
    "    def solve_eq(self):\n",
    "        \"\"\"\n",
    "        全部解いてくれる関数だよ。\n",
    "        \"\"\"\n",
    "        Q_out_by_T4 = 0\n",
    "        for i in range(len(self.A)):\n",
    "            Q_out_by_T4 += self.A[i] * self.eps[i] * self.sigma\n",
    "        Q_in = self.get_sun_radiation() + self.get_earth_radiation() + self.get_albedo() + self.Q_inner\n",
    "        self.T = (Q_in/Q_out_by_T4)**0.25\n",
    "        \n",
    "    def get_sun_radiation(self):\n",
    "        \"\"\"\n",
    "        太陽輻射 \n",
    "\n",
    "        Parameters:\n",
    "\n",
    "        Returns:\n",
    "        q: ndarray\n",
    "            i番目の成分が節点iにおける太陽輻射による熱入力に対応\n",
    "        \"\"\"\n",
    "        q = self.P_s * self.A[0] * self.alpha[0] * 1\n",
    "        return q\n",
    "    \n",
    "    def get_earth_radiation(self):\n",
    "        \"\"\"\n",
    "        地球の赤外輻射\n",
    "\n",
    "        Parameters:\n",
    "\n",
    "        Returns:\n",
    "        q: ndarray\n",
    "            i番目の成分が節点iにおける地球の赤外輻射による熱入力に対応\n",
    "        \"\"\"\n",
    "        q = self.P_e * self.A[5] * self.eps[5] * 1 \n",
    "        return q\n",
    "    \n",
    "    def get_albedo(self):\n",
    "        \"\"\"\n",
    "        地球のアルベド\n",
    "\n",
    "        Parameters:\n",
    "\n",
    "        Returns:\n",
    "        q: ndarray\n",
    "            i番目の成分が節点iにおける地球のアルベドによる熱入力に対応\n",
    "        \"\"\"\n",
    "        q = self.P_s * 0.3 * self.A[5] * self.alpha[5] * 1\n",
    "        return q\n",
    "    \n",
    "    def set_Q_inner(self,q):\n",
    "        self.Q_inner = q"
   ]
  },
  {
   "cell_type": "code",
   "execution_count": 17,
   "metadata": {},
   "outputs": [
    {
     "data": {
      "text/plain": [
       "248.7892934630962"
      ]
     },
     "execution_count": 17,
     "metadata": {},
     "output_type": "execute_result"
    }
   ],
   "source": [
    "alpha = [0.2,0.2,0.2,0.2,0.2,0.2]\n",
    "eps = [0.8,0.8,0.8,0.8,0.8,0.8]\n",
    "A = [1,1,1,1,1,1]\n",
    "\n",
    "sim = Easy_Thermal_simu(A,alpha,eps)\n",
    "sim.set_Q_inner(500)\n",
    "sim.solve_eq()\n",
    "sim.T"
   ]
  },
  {
   "cell_type": "code",
   "execution_count": null,
   "metadata": {},
   "outputs": [],
   "source": []
  }
 ],
 "metadata": {
  "kernelspec": {
   "display_name": "Python 3",
   "language": "python",
   "name": "python3"
  },
  "language_info": {
   "codemirror_mode": {
    "name": "ipython",
    "version": 3
   },
   "file_extension": ".py",
   "mimetype": "text/x-python",
   "name": "python",
   "nbconvert_exporter": "python",
   "pygments_lexer": "ipython3",
   "version": "3.6.3"
  }
 },
 "nbformat": 4,
 "nbformat_minor": 2
}
