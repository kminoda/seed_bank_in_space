{
 "cells": [
  {
   "cell_type": "code",
   "execution_count": 7,
   "metadata": {},
   "outputs": [],
   "source": [
    "import numpy as np\n",
    "import pandas as pd\n",
    "import matplotlib.pylab as plt"
   ]
  },
  {
   "cell_type": "markdown",
   "metadata": {},
   "source": [
    "# 各種数値"
   ]
  },
  {
   "cell_type": "code",
   "execution_count": 8,
   "metadata": {},
   "outputs": [],
   "source": [
    "grav = 9.81"
   ]
  },
  {
   "cell_type": "code",
   "execution_count": 9,
   "metadata": {},
   "outputs": [],
   "source": [
    "# 順に、軸荷重、径荷重、軸振動数、径振動数\n",
    "rocket = np.array([6.0, 2.5, 30.0, 10.0])\n",
    "reentry = np.array([80.0, 0.0, 0.0, 0.0])\n",
    "\n",
    "#要求を決定\n",
    "required = np.max([rocket,reentry],axis=0)"
   ]
  },
  {
   "cell_type": "code",
   "execution_count": 18,
   "metadata": {},
   "outputs": [],
   "source": [
    "torayca_t800h = {'density':1.6, #g/cm^3\n",
    "                 'tension':2850, #MPa\n",
    "                 'comp':1700, #MPa\n",
    "                 'E':155, #GPa\n",
    "                 'poisson':0.3  \n",
    "                }\n",
    "\n",
    "kevlar49 = {'density':1.45, #g/cm^3\n",
    "            'tension':3000, #MPa\n",
    "            'comp':300, #MPa\n",
    "            'E':112.4, #GPa\n",
    "            'poisson':0.3  \n",
    "            }\n",
    "\n",
    "al7075 = {'density':2.8, #g/cm^3\n",
    "          'tension':550, #MPa\n",
    "          'comp':500, #MPa\n",
    "          'E':70, #GPa\n",
    "          'shear':330, #MPa\n",
    "          'poisson':0.3  \n",
    "         }\n",
    "\n",
    "al_5052_0002 = {'density':0.091, #g/cm^3\n",
    "          'E':1.97, #GPa\n",
    "          'F_sy':0.784, #MPa\n",
    "          'shear_1':550, #MPa\n",
    "          'shear_2':200 #MPa\n",
    "         }"
   ]
  },
  {
   "cell_type": "code",
   "execution_count": 19,
   "metadata": {},
   "outputs": [],
   "source": [
    "def get_k_c(material,L,r,t):\n",
    "    Z_L = L**2/r/t * np.sqrt(1-material['poisson']**2)\n",
    "    k_c = (10**(-0.6))*Z_L\n",
    "    return k_c"
   ]
  },
  {
   "cell_type": "code",
   "execution_count": 20,
   "metadata": {},
   "outputs": [],
   "source": [
    "def get_sigma_buckling_cylinder(material,L,r,t):\n",
    "    k_c = get_k_c(material,L,r,t)\n",
    "    E = material['E'] *1e9\n",
    "    nu = material['poisson']\n",
    "    return k_c*np.pi**2*E/12/((1-nu)**2)*(t/L)**2"
   ]
  },
  {
   "cell_type": "code",
   "execution_count": 21,
   "metadata": {},
   "outputs": [],
   "source": [
    "def get_sigma(required,L,r,t,mass):\n",
    "    \"\"\"\n",
    "    最終的にこのsigmaがsigma_buckling_cylinderを下回っていることを確認したい\n",
    "    \"\"\"\n",
    "    F = required[0] * mass * grav\n",
    "    A = 2*np.pi*r*t\n",
    "    return F/A"
   ]
  },
  {
   "cell_type": "code",
   "execution_count": 22,
   "metadata": {},
   "outputs": [],
   "source": [
    "def get_f_axis(material,M,L,r,t):\n",
    "    A = 2*np.pi*r*t\n",
    "    E = material['E'] *1e9\n",
    "    f_axis = 0.250*np.sqrt(A*E/M/L)\n",
    "    return f_axis\n",
    "\n",
    "def get_f_rad(material,M,L,r,t):\n",
    "    E = material['E']*1e9\n",
    "    I = np.pi*(L**4-(L-t)**4)/64\n",
    "    f_rad = 0.560*np.sqrt(E*I/M/L**3)\n",
    "    return f_rad"
   ]
  },
  {
   "cell_type": "code",
   "execution_count": 23,
   "metadata": {},
   "outputs": [],
   "source": [
    "def check(material,L,r,t,mass):\n",
    "    log = ['不合格','合格']\n",
    "    \n",
    "    sigma_buckling_cylinder = get_sigma_buckling_cylinder(material,L,r,t)\n",
    "    sigma = get_sigma(required,L,r,t,mass)\n",
    "    print('=================================')\n",
    "    print('縦荷重:{0}'.format(sigma))\n",
    "    print('縦荷重許容値:{0}'.format(sigma_buckling_cylinder))\n",
    "    print('縦荷重合否:{0}'.format(log[sigma_buckling_cylinder>sigma]))\n",
    "    print('縦荷重安全率:{0}\\n'.format(sigma_buckling_cylinder/sigma))\n",
    "    \n",
    "    print('=================================')    \n",
    "    f_axis = get_f_axis(material,mass,L,r,t)\n",
    "    f_axis_req = required[2]\n",
    "    print('縦振動数:{0}'.format(f_axis))\n",
    "    print('縦振動数最低値:{0}'.format(f_axis_req))\n",
    "    print('縦振動数合否:{0}'.format(log[f_axis>f_axis_req]))\n",
    "    print('縦振動数安全率:{0}\\n'.format(f_axis/f_axis_req))\n",
    "    \n",
    "    print('=================================')    \n",
    "    f_rad = get_f_rad(material,mass,L,r,t)\n",
    "    f_rad_req = required[3]\n",
    "    print('横振動数:{0}'.format(f_rad))\n",
    "    print('横振動数最低値:{0}'.format(f_rad_req))\n",
    "    print('横振動数合否:{0}'.format(log[f_rad>f_rad_req]))\n",
    "    print('横振動数安全率:{0}\\n'.format(f_rad/f_rad_req))"
   ]
  },
  {
   "cell_type": "code",
   "execution_count": 45,
   "metadata": {},
   "outputs": [],
   "source": [
    "class Honeycomb_cylinder():\n",
    "    def __init__(self,\n",
    "                 facesheet_material,\n",
    "                 core_material,\n",
    "                 h_c,\n",
    "                 t_f,\n",
    "                 L,r,t\n",
    "                ):\n",
    "        self.facesheet = facesheet_material\n",
    "        self.core = core_material\n",
    "        self.h_c = h_c #[m]\n",
    "        self.t_f = t_f #[m]\n",
    "        self.L = L\n",
    "        self.r = r\n",
    "        self.t = t\n",
    "        \n",
    "        E = self.facesheet['E'] * 1e9\n",
    "        nu = self.facesheet['poisson']\n",
    "        \n",
    "        self.D1 = E*self.t_f*(self.h_c+self.t_f)**2/2/(1-nu)**2\n",
    "        self.Df = E * self.t_f**3/12/(1-nu)**2\n",
    "        self.D = self.D1 + 2*self.Df\n",
    "        \n",
    "        G_c = self.core['shear_1'] * 1e6\n",
    "        self.U = self.h_c * G_c\n",
    "        \n",
    "    def get_P_cr_1(self):\n",
    "        P_1 = np.pi**2 * self.D1/(4*self.r**2)\n",
    "        P_2 = 2*np.pi**2 * self.Df/(4*self.r**2)\n",
    "        P_cr_1 = P_1 * (P_2 + self.U*(1+P_2/P_1))/(P_1+self.U)\n",
    "        return P_cr_1\n",
    "    \n",
    "    def get_sigma_cr_1(self):\n",
    "        P_1 = np.pi**2 * self.D1/(4*self.r**2)\n",
    "        P_2 = 2*np.pi**2 * self.Df/(4*self.r**2)\n",
    "        P_cr_1 = P_1 * (P_2 + self.U*(1+P_2/P_1))/(P_1+self.U)\n",
    "        return P_cr_1/2/self.t_f\n",
    "    \n",
    "    def get_sigma_cr_2(self):\n",
    "        V = np.pi**2*self.D/(2*r)**2/self.U\n",
    "        beta = 1\n",
    "        m = np.arange(0,10,1)\n",
    "        K_c_list = np.pi**2*self.D/(2*r)**2*((m/beta + beta/m)**2/(1+V * (1+m**2/beta**2)))\n",
    "        K_c = np.min(K_c_list)\n",
    "        \n",
    "        P_cr_2 = K_c * np.pi**2 * self.D/(2*r)**2\n",
    "        return P_cr_2/2/self.t_f\n",
    "    \n",
    "    def get_sigma_cr_3(self):\n",
    "        E_f = self.facesheet['E']*1e9\n",
    "        E_c = self.core['E']*1e9\n",
    "        G_c = self.core['shear_1'] * 1e6\n",
    "        sigma_cr_3 = 0.5*(E_f*E_c*G_c)**(1/3)\n",
    "        return sigma_cr_3\n",
    "        \n",
    "    def get_sigma_cr(self):\n",
    "        E = self.facesheet['E'] * 1e9\n",
    "        nu = self.facesheet['poisson']\n",
    "        G_c = self.core['shear_1'] * 1e6\n",
    "        \n",
    "        term1 = (self.h_c + self.t_f)/self.r\n",
    "        term2 = E / np.sqrt(1-nu**2)\n",
    "        term3 = (1 - self.h_c*self.t_f/2/self.r/(self.h_c+self.t_f) * (E/G_c)/np.sqrt(1-nu**2) )\n",
    "        \n",
    "        return term1*term2*term3\n",
    "    \n",
    "    def get_mass(self,shape):\n",
    "        d_f = self.facesheet['density'] * 1e3 #[kg/m^3]\n",
    "        d_c = self.core['density'] * 1e3\n",
    "        \n",
    "        if shape=='cylinder':\n",
    "            Area = 2*np.pi*self.r * self.L\n",
    "        elif shape=='circle':\n",
    "            Area = np.pi*self.r**2\n",
    "        Density_per_area = d_f*self.t_f + d_c*self.h_c\n",
    "        return Area * Density_per_area\n",
    "    \n",
    "    def get_freq(self,shape):\n",
    "        d_f = self.facesheet['density'] * 1e3 #[kg/m^3]\n",
    "        d_c = self.core['density'] * 1e3\n",
    "        mu = d_f*self.t_f + d_c*self.h_c\n",
    "        return 4.98/self.r**2*np.sqrt(self.D/mu)/2/np.pi\n",
    "    \n",
    "    \n",
    "    \n",
    "    def check(self,shape,mass,acc=[6,1.5]):\n",
    "        if shape == 'cylinder':\n",
    "            # 圧縮座屈\n",
    "            # 質量\n",
    "            None\n",
    "        elif shape == 'circle':\n",
    "            P = mass * grav * acc[0] / 2 / self.r\n",
    "            \n",
    "            # 表皮材曲げ\n",
    "            sigma_f_max = P*2*self.r/4/self.h_c/self.t_f\n",
    "            sigma_f = self.facesheet['tension'] * 1e6\n",
    "            print('最大表皮板応力:{0}'.format(sigma_f_max))\n",
    "            print('引っ張り強さ:{0}'.format(sigma_f))\n",
    "            print('安全余裕:{0}\\n'.format(sigma_f/sigma_f_max - 1))\n",
    "            \n",
    "            # コア材剪断\n",
    "            tau_c_max = P/(self.t_f+self.h_c)\n",
    "            tau_c = self.core['F_sy'] * 1e6\n",
    "            print('最大コア材剪断応力:{0}'.format(tau_c_max))\n",
    "            print('剪断強さ:{0}'.format(tau_c))\n",
    "            print('安全余裕:{0}\\n'.format(tau_c/tau_c_max - 1))            \n",
    "            \n",
    "            # 面内圧縮によるEuler座屈\n",
    "            P = mass * grav * acc[1] / 2 / self.r\n",
    "            P_cr_1 = self.get_P_cr_1()\n",
    "            print('面内Euler座屈:{0}'.format(P_cr_1))\n",
    "            print('圧縮荷重:{0}'.format(P))\n",
    "            print('安全余裕:{0}\\n'.format(P_cr_1/P - 1))             \n",
    "            \n",
    "        return 0"
   ]
  },
  {
   "cell_type": "code",
   "execution_count": 46,
   "metadata": {},
   "outputs": [
    {
     "data": {
      "text/plain": [
       "34.83397934300363"
      ]
     },
     "execution_count": 46,
     "metadata": {},
     "output_type": "execute_result"
    }
   ],
   "source": [
    "r1 = 0.5\n",
    "L2 = 1.2\n",
    "\n",
    "r3 = 1.0\n",
    "L4 = 1.2\n",
    "\n",
    "L6 = 1.0\n",
    "\n",
    "h_c = 0.020\n",
    "t_f = 0.001\n",
    "hc = Honeycomb_cylinder(facesheet_material = al7075,\n",
    "                 core_material = al_5052_0002,\n",
    "                 h_c = h_c,\n",
    "                 t_f = t_f,\n",
    "                 L=L2,r=r3,t=t_f+h_c,\n",
    "                )\n",
    "hc.get_mass('cylinder')"
   ]
  },
  {
   "cell_type": "code",
   "execution_count": 47,
   "metadata": {},
   "outputs": [
    {
     "name": "stdout",
     "output_type": "stream",
     "text": [
      "最大表皮板応力:73575000.0\n",
      "引っ張り強さ:550000000.0\n",
      "安全余裕:6.475365273530411\n",
      "\n",
      "最大コア材剪断応力:140142.85714285713\n",
      "剪断強さ:784000.0\n",
      "安全余裕:4.594291539245668\n",
      "\n",
      "面内Euler座屈:77236.56395746964\n",
      "圧縮荷重:735.75\n",
      "安全余裕:103.97664146445075\n",
      "\n"
     ]
    },
    {
     "data": {
      "text/plain": [
       "0"
      ]
     },
     "execution_count": 47,
     "metadata": {},
     "output_type": "execute_result"
    }
   ],
   "source": [
    "hc.check(shape='circle',mass=100)"
   ]
  },
  {
   "cell_type": "code",
   "execution_count": 34,
   "metadata": {},
   "outputs": [
    {
     "data": {
      "text/plain": [
       "65.47082808454425"
      ]
     },
     "execution_count": 34,
     "metadata": {},
     "output_type": "execute_result"
    }
   ],
   "source": [
    "hc.get_freq('circle')"
   ]
  },
  {
   "cell_type": "code",
   "execution_count": 376,
   "metadata": {},
   "outputs": [
    {
     "name": "stdout",
     "output_type": "stream",
     "text": [
      "22465767.83620777\n",
      "62569543828693.68\n",
      "2116471003.744568\n"
     ]
    },
    {
     "name": "stderr",
     "output_type": "stream",
     "text": [
      "/Users/KojiMinoda/.pyenv/versions/anaconda3-4.3.1/lib/python3.6/site-packages/ipykernel_launcher.py:37: RuntimeWarning: divide by zero encountered in true_divide\n"
     ]
    }
   ],
   "source": [
    "print(hc.get_sigma_cr_1())\n",
    "print(hc.get_sigma_cr_2())\n",
    "print(hc.get_sigma_cr_3())"
   ]
  },
  {
   "cell_type": "code",
   "execution_count": null,
   "metadata": {},
   "outputs": [],
   "source": [
    "np.pi/(2*r1)**2*np.sqrt()"
   ]
  },
  {
   "cell_type": "code",
   "execution_count": 40,
   "metadata": {},
   "outputs": [
    {
     "data": {
      "text/plain": [
       "1100652443.701975"
      ]
     },
     "execution_count": 40,
     "metadata": {},
     "output_type": "execute_result"
    }
   ],
   "source": [
    "hc.get_sigma_cr()"
   ]
  },
  {
   "cell_type": "code",
   "execution_count": 139,
   "metadata": {},
   "outputs": [
    {
     "data": {
      "text/plain": [
       "3654742.816099476"
      ]
     },
     "execution_count": 139,
     "metadata": {},
     "output_type": "execute_result"
    }
   ],
   "source": [
    "get_sigma([6],L4,r3,t_f+h_c,mass=2861) * 1.5"
   ]
  },
  {
   "cell_type": "code",
   "execution_count": 263,
   "metadata": {},
   "outputs": [],
   "source": [
    "#節点3\n",
    "mass_1 = 961\n",
    "h_c = 0.01\n",
    "t_f = 0.001\n",
    "\n",
    "P_f = mass_1 * grav * 1.8\n",
    "sigma_f = P_f / (2*r3*(t_f)) *1.5\n",
    "\n",
    "tau_c = P_f / (2*t_f)  * 1.5"
   ]
  },
  {
   "cell_type": "code",
   "execution_count": 264,
   "metadata": {},
   "outputs": [
    {
     "data": {
      "text/plain": [
       "12727003.5"
      ]
     },
     "execution_count": 264,
     "metadata": {},
     "output_type": "execute_result"
    }
   ],
   "source": [
    "tau_c"
   ]
  },
  {
   "cell_type": "code",
   "execution_count": 187,
   "metadata": {},
   "outputs": [
    {
     "name": "stdout",
     "output_type": "stream",
     "text": [
      "=================================\n",
      "縦荷重:2498095.986770389\n",
      "縦荷重許容値:904147784.3278147\n",
      "縦荷重合否:合格\n",
      "縦荷重安全率:361.9347651635769\n",
      "\n",
      "=================================\n",
      "縦振動数:1917.8846155538267\n",
      "縦振動数最低値:30.0\n",
      "縦振動数合否:合格\n",
      "縦振動数安全率:63.929487185127556\n",
      "\n",
      "=================================\n",
      "横振動数:821.5803324796384\n",
      "横振動数最低値:10.0\n",
      "横振動数合否:合格\n",
      "横振動数安全率:82.15803324796384\n",
      "\n"
     ]
    },
    {
     "name": "stderr",
     "output_type": "stream",
     "text": [
      "/Users/KojiMinoda/.pyenv/versions/anaconda3-4.3.1/lib/python3.6/site-packages/ipykernel_launcher.py:9: DeprecationWarning: In future, it will be an error for 'np.bool_' scalars to be interpreted as an index\n",
      "  if __name__ == '__main__':\n",
      "/Users/KojiMinoda/.pyenv/versions/anaconda3-4.3.1/lib/python3.6/site-packages/ipykernel_launcher.py:17: DeprecationWarning: In future, it will be an error for 'np.bool_' scalars to be interpreted as an index\n",
      "/Users/KojiMinoda/.pyenv/versions/anaconda3-4.3.1/lib/python3.6/site-packages/ipykernel_launcher.py:25: DeprecationWarning: In future, it will be an error for 'np.bool_' scalars to be interpreted as an index\n"
     ]
    }
   ],
   "source": [
    "#試しに1段目について\n",
    "material = kevlar49\n",
    "L = 0.6\n",
    "r = 0.5\n",
    "t = 0.01\n",
    "mass = 100\n",
    "\n",
    "check(material,L,r,t,mass)"
   ]
  },
  {
   "cell_type": "code",
   "execution_count": null,
   "metadata": {},
   "outputs": [],
   "source": []
  },
  {
   "cell_type": "code",
   "execution_count": null,
   "metadata": {},
   "outputs": [],
   "source": []
  }
 ],
 "metadata": {
  "kernelspec": {
   "display_name": "Python 3",
   "language": "python",
   "name": "python3"
  },
  "language_info": {
   "codemirror_mode": {
    "name": "ipython",
    "version": 3
   },
   "file_extension": ".py",
   "mimetype": "text/x-python",
   "name": "python",
   "nbconvert_exporter": "python",
   "pygments_lexer": "ipython3",
   "version": "3.7.1"
  }
 },
 "nbformat": 4,
 "nbformat_minor": 2
}
