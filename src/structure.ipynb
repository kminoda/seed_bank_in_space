{
 "cells": [
  {
   "cell_type": "code",
   "execution_count": 1,
   "metadata": {},
   "outputs": [],
   "source": [
    "import numpy as np\n",
    "import pandas as pd\n",
    "import matplotlib.pylab as plt"
   ]
  },
  {
   "cell_type": "markdown",
   "metadata": {},
   "source": [
    "# 各種数値"
   ]
  },
  {
   "cell_type": "code",
   "execution_count": 19,
   "metadata": {},
   "outputs": [],
   "source": [
    "grav = 9.81"
   ]
  },
  {
   "cell_type": "code",
   "execution_count": 100,
   "metadata": {},
   "outputs": [],
   "source": [
    "# 順に、軸荷重、径荷重、軸振動数、径振動数\n",
    "rocket = np.array([6.0, 2.5, 30.0, 10.0])\n",
    "reentry = np.array([100.0, 0.0, 0.0, 0.0])\n",
    "\n",
    "#要求を決定\n",
    "required = np.max([rocket,reentry],axis=0)"
   ]
  },
  {
   "cell_type": "code",
   "execution_count": 93,
   "metadata": {},
   "outputs": [],
   "source": [
    "torayca_t800h = {'density':1.6, #g/cm^3\n",
    "                 't　ension':2850, #MPa\n",
    "                 'comp':1700, #MPa\n",
    "                 'E':155, #GPa\n",
    "                 'poisson':0.3  \n",
    "                }\n",
    "\n",
    "kevlar49 = {'density':1.45, #g/cm^3\n",
    "            't　ension':3000, #MPa\n",
    "            'comp':300, #MPa\n",
    "            'E':112.4, #GPa\n",
    "            'poisson':0.3  \n",
    "            }\n",
    "\n",
    "al7075 = {'density':2.8, #g/cm^3\n",
    "          't　ension':550, #MPa\n",
    "          'comp':500, #MPa\n",
    "          'E':70, #GPa\n",
    "          'shear':330, #MPa\n",
    "          'poisson':0.3  \n",
    "         }"
   ]
  },
  {
   "cell_type": "code",
   "execution_count": 94,
   "metadata": {},
   "outputs": [],
   "source": [
    "def get_k_c(material,L,r,t):\n",
    "    Z_L = L**2/r/t * np.sqrt(1-material['poisson']**2)\n",
    "    k_c = (10**(-0.6))*Z_L\n",
    "    return k_c"
   ]
  },
  {
   "cell_type": "code",
   "execution_count": 95,
   "metadata": {},
   "outputs": [],
   "source": [
    "def get_sigma_buckling_cylinder(material,L,r,t):\n",
    "    k_c = get_k_c(material,L,r,t)\n",
    "    E = material['E'] *1e9\n",
    "    nu = material['poisson']\n",
    "    return k_c*np.pi**2*E/12/((1-nu)**2)*(t/L)**2"
   ]
  },
  {
   "cell_type": "code",
   "execution_count": 96,
   "metadata": {},
   "outputs": [],
   "source": [
    "def get_sigma(required,L,r,t,mass):\n",
    "    \"\"\"\n",
    "    最終的にこのsigmaがsigma_buckling_cylinderを下回っていることを確認したい\n",
    "    \"\"\"\n",
    "    F = required[0] * mass * grav\n",
    "    A = 2*np.pi*r*t\n",
    "    return F/A"
   ]
  },
  {
   "cell_type": "code",
   "execution_count": 97,
   "metadata": {},
   "outputs": [],
   "source": [
    "def get_f_axis(material,M,L,r,t):\n",
    "    A = 2*np.pi*r*t\n",
    "    E = material['E'] *1e9\n",
    "    f_axis = 0.250*np.sqrt(A*E/M/L)\n",
    "    return f_axis\n",
    "\n",
    "def get_f_rad(material,M,L,r,t):\n",
    "    E = material['E']*1e9\n",
    "    I = np.pi*(L**4-(L-t)**4)/64\n",
    "    f_rad = 0.560*np.sqrt(E*I/M/L**3)\n",
    "    return f_rad"
   ]
  },
  {
   "cell_type": "code",
   "execution_count": 98,
   "metadata": {},
   "outputs": [],
   "source": [
    "def check(material,L,r,t,mass):\n",
    "    log = ['不合格','合格']\n",
    "    \n",
    "    sigma_buckling_cylinder = get_sigma_buckling_cylinder(material,L,r,t)\n",
    "    sigma = get_sigma(required,L,r,t,mass)\n",
    "    print('=================================')\n",
    "    print('縦荷重:{0}'.format(sigma))\n",
    "    print('縦荷重許容値:{0}'.format(sigma_buckling_cylinder))\n",
    "    print('縦荷重合否:{0}'.format(log[sigma_buckling_cylinder>sigma]))\n",
    "    print('縦荷重安全率:{0}\\n'.format(sigma_buckling_cylinder/sigma))\n",
    "    \n",
    "    print('=================================')    \n",
    "    f_axis = get_f_axis(material,mass,L,r,t)\n",
    "    f_axis_req = required[2]\n",
    "    print('縦振動数:{0}'.format(f_axis))\n",
    "    print('縦振動数最低値:{0}'.format(f_axis_req))\n",
    "    print('縦振動数合否:{0}'.format(log[f_axis>f_axis_req]))\n",
    "    print('縦振動数安全率:{0}\\n'.format(f_axis/f_axis_req))\n",
    "    \n",
    "    print('=================================')    \n",
    "    f_rad = get_f_rad(material,mass,L,r,t)\n",
    "    f_rad_req = required[3]\n",
    "    print('横振動数:{0}'.format(f_rad))\n",
    "    print('横振動数最低値:{0}'.format(f_rad_req))\n",
    "    print('横振動数合否:{0}'.format(log[f_rad>f_rad_req]))\n",
    "    print('横振動数安全率:{0}\\n'.format(f_rad/f_rad_req))"
   ]
  },
  {
   "cell_type": "code",
   "execution_count": 101,
   "metadata": {},
   "outputs": [
    {
     "name": "stdout",
     "output_type": "stream",
     "text": [
      "=================================\n",
      "縦荷重:83269866.22567964\n",
      "縦荷重許容値:84462204.05197558\n",
      "縦荷重合否:合格\n",
      "縦荷重安全率:1.014318959310736\n",
      "\n",
      "=================================\n",
      "縦振動数:185.36766074112919\n",
      "縦振動数最低値:30.0\n",
      "縦振動数合否:合格\n",
      "縦振動数安全率:6.178922024704306\n",
      "\n",
      "=================================\n",
      "横振動数:89.76376869806792\n",
      "横振動数最低値:10.0\n",
      "横振動数合否:合格\n",
      "横振動数安全率:8.976376869806792\n",
      "\n"
     ]
    },
    {
     "name": "stderr",
     "output_type": "stream",
     "text": [
      "/Users/KojiMinoda/.pyenv/versions/anaconda3-4.3.1/lib/python3.6/site-packages/ipykernel_launcher.py:9: DeprecationWarning: In future, it will be an error for 'np.bool_' scalars to be interpreted as an index\n",
      "  if __name__ == '__main__':\n",
      "/Users/KojiMinoda/.pyenv/versions/anaconda3-4.3.1/lib/python3.6/site-packages/ipykernel_launcher.py:17: DeprecationWarning: In future, it will be an error for 'np.bool_' scalars to be interpreted as an index\n",
      "/Users/KojiMinoda/.pyenv/versions/anaconda3-4.3.1/lib/python3.6/site-packages/ipykernel_launcher.py:25: DeprecationWarning: In future, it will be an error for 'np.bool_' scalars to be interpreted as an index\n"
     ]
    }
   ],
   "source": [
    "#試しに1段目について\n",
    "material = al7075\n",
    "L = 1.5\n",
    "r = 1.0\n",
    "t = 0.003\n",
    "mass = 900 + 700\n",
    "\n",
    "check(material,L,r,t,mass)"
   ]
  },
  {
   "cell_type": "code",
   "execution_count": 91,
   "metadata": {},
   "outputs": [
    {
     "name": "stdout",
     "output_type": "stream",
     "text": [
      "=================================\n",
      "縦荷重:24980959.867703892\n",
      "縦荷重許容値:904147784.3278147\n",
      "縦荷重合否:合格\n",
      "縦荷重安全率:36.19347651635769\n",
      "\n",
      "=================================\n",
      "縦振動数:1917.8846155538267\n",
      "縦振動数最低値:30.0\n",
      "縦振動数合否:合格\n",
      "縦振動数安全率:63.929487185127556\n",
      "\n",
      "=================================\n",
      "横振動数:821.5803324796384\n",
      "横振動数最低値:10.0\n",
      "横振動数合否:合格\n",
      "横振動数安全率:82.15803324796384\n",
      "\n"
     ]
    },
    {
     "name": "stderr",
     "output_type": "stream",
     "text": [
      "/Users/KojiMinoda/.pyenv/versions/anaconda3-4.3.1/lib/python3.6/site-packages/ipykernel_launcher.py:9: DeprecationWarning: In future, it will be an error for 'np.bool_' scalars to be interpreted as an index\n",
      "  if __name__ == '__main__':\n",
      "/Users/KojiMinoda/.pyenv/versions/anaconda3-4.3.1/lib/python3.6/site-packages/ipykernel_launcher.py:17: DeprecationWarning: In future, it will be an error for 'np.bool_' scalars to be interpreted as an index\n",
      "/Users/KojiMinoda/.pyenv/versions/anaconda3-4.3.1/lib/python3.6/site-packages/ipykernel_launcher.py:25: DeprecationWarning: In future, it will be an error for 'np.bool_' scalars to be interpreted as an index\n"
     ]
    }
   ],
   "source": [
    "#試しに1段目について\n",
    "material = kevlar49\n",
    "L = 0.6\n",
    "r = 0.5\n",
    "t = 0.01\n",
    "mass = 100\n",
    "\n",
    "check(material,L,r,t,mass)"
   ]
  },
  {
   "cell_type": "code",
   "execution_count": null,
   "metadata": {},
   "outputs": [],
   "source": []
  },
  {
   "cell_type": "code",
   "execution_count": null,
   "metadata": {},
   "outputs": [],
   "source": []
  }
 ],
 "metadata": {
  "kernelspec": {
   "display_name": "Python 3",
   "language": "python",
   "name": "python3"
  },
  "language_info": {
   "codemirror_mode": {
    "name": "ipython",
    "version": 3
   },
   "file_extension": ".py",
   "mimetype": "text/x-python",
   "name": "python",
   "nbconvert_exporter": "python",
   "pygments_lexer": "ipython3",
   "version": "3.6.6"
  }
 },
 "nbformat": 4,
 "nbformat_minor": 2
}
