{
 "cells": [
  {
   "cell_type": "code",
   "execution_count": 1,
   "metadata": {},
   "outputs": [],
   "source": [
    "import numpy as np\n",
    "import pandas as pd\n",
    "import matplotlib.pylab as plt"
   ]
  },
  {
   "cell_type": "markdown",
   "metadata": {},
   "source": [
    "# 各種数値"
   ]
  },
  {
   "cell_type": "code",
   "execution_count": 12,
   "metadata": {},
   "outputs": [],
   "source": [
    "# 順に、軸荷重、径荷重、軸振動数、径振動数\n",
    "rocket = np.array([6.0, 2.5, 30.0, 10.0])\n",
    "reentry = np.array([0.0, 0.0, 0.0, 0.0])\n",
    "\n",
    "#要求を決定\n",
    "required = np.max([rocket,reentry],axis=0)"
   ]
  },
  {
   "cell_type": "code",
   "execution_count": 14,
   "metadata": {},
   "outputs": [],
   "source": [
    "torayca_t800h = {'density':1.6, #g/cm^3\n",
    "                 't　ension':2850, #MPa\n",
    "                 'comp':1700, #MPa\n",
    "                 'E':155, #GPa\n",
    "                 'poisson':0.3  \n",
    "                }\n",
    "\n",
    "kevlar49 = {'density':1.45, #g/cm^3\n",
    "            't　ension':3000, #MPa\n",
    "            'comp':300, #MPa\n",
    "            'E':112.4, #GPa\n",
    "            'poisson':0.3  \n",
    "            }\n",
    "\n",
    "al7075 = {'density':2.8, #g/cm^3\n",
    "          't　ension':550, #MPa\n",
    "          'comp':500, #MPa\n",
    "          'E':70, #GPa\n",
    "          'shear':330, #MPa\n",
    "          'poisson':0.3  \n",
    "         }"
   ]
  },
  {
   "cell_type": "code",
   "execution_count": 30,
   "metadata": {},
   "outputs": [],
   "source": [
    "def get_k_c(material,L,r,t):\n",
    "    Z_L = L**2/r/t * np.sqrt(1-material['poisson']**2)\n",
    "    k_c = (10**0.6)*Z_L\n",
    "    return k_c"
   ]
  },
  {
   "cell_type": "code",
   "execution_count": 33,
   "metadata": {},
   "outputs": [],
   "source": [
    "def get_sigma_buckling_cylinder(material,L,r,t):\n",
    "    k_c = get_k_c(material,L,r,t)\n",
    "    E = material['E']\n",
    "    nu = material['poisson']\n",
    "    return k_c*np.pi**2*E/12/((1-nu)**2)*(t/L)**2"
   ]
  },
  {
   "cell_type": "code",
   "execution_count": 34,
   "metadata": {},
   "outputs": [],
   "source": [
    "def get_sigma(required,L,r,t,mass):\n",
    "    \"\"\"\n",
    "    最終的にこのsigmaがsigma_buckling_cylinderを下回っていることを確認したい\n",
    "    \"\"\"\n",
    "    F = required[0] * mass\n",
    "    A = 2*np.pi*r*t\n",
    "    return F/A"
   ]
  },
  {
   "cell_type": "code",
   "execution_count": 37,
   "metadata": {},
   "outputs": [],
   "source": [
    "def get_f_axis(material,M,L,r,t):\n",
    "    A = 2*np.pi*r*t\n",
    "    E = material['E']\n",
    "    f_axis = 0.250*np.sqrt(A*E/M/L)\n",
    "    return f_axis\n",
    "\n",
    "def get_f_rad(material,M,L,r,t):\n",
    "    E = material['E']\n",
    "    I = np.pi*(L**4-(L-t)**4)/64\n",
    "    f_rad = 0.560*np.sqrt(E*I/M/L**3)\n",
    "    return f_rad"
   ]
  },
  {
   "cell_type": "code",
   "execution_count": 39,
   "metadata": {},
   "outputs": [],
   "source": [
    "def check():\n",
    "    log = ['不合格','合格']\n",
    "    \n",
    "    sigma_buckling_cylinder = get_sigma_buckling_cylinder(material,L,r,t)\n",
    "    sigma = get_sigma(required,L,r,t,mass)\n",
    "    print('=================================')\n",
    "    print('縦荷重合否:{0}'.format(log[sigma_buckling_cylinder>sigma]))\n",
    "    print('縦荷重安全率:{0}\\n'.format(sigma_buckling_cylinder/sigma))\n",
    "    \n",
    "    print('=================================')    \n",
    "    f_axis = get_f_axis(material,M,L,r,t)\n",
    "    f_axis_req = required[2]\n",
    "    print('縦振動数合否:{0}'.format(log[f_axis>f_axis_req]))\n",
    "    print('縦振動数安全率:{0}\\n'.format(f_axis/f_axis_req))\n",
    "    \n",
    "    print('=================================')    \n",
    "    f_rad = get_f_rad(material,M,L,r,t)\n",
    "    f_rad_req = required[3]\n",
    "    print('横振動数合否:{0}'.format(log[f_rad>f_rad_req]))\n",
    "    print('横振動数安全率:{0}\\n'.format(f_rad/f_rad_req))"
   ]
  },
  {
   "cell_type": "code",
   "execution_count": null,
   "metadata": {},
   "outputs": [],
   "source": []
  }
 ],
 "metadata": {
  "kernelspec": {
   "display_name": "Python 3",
   "language": "python",
   "name": "python3"
  },
  "language_info": {
   "codemirror_mode": {
    "name": "ipython",
    "version": 3
   },
   "file_extension": ".py",
   "mimetype": "text/x-python",
   "name": "python",
   "nbconvert_exporter": "python",
   "pygments_lexer": "ipython3",
   "version": "3.6.6"
  }
 },
 "nbformat": 4,
 "nbformat_minor": 2
}
