{
 "cells": [
  {
   "cell_type": "code",
   "execution_count": 1,
   "metadata": {},
   "outputs": [],
   "source": [
    "import numpy as np\n",
    "import pandas as pd\n",
    "import matplotlib.pylab as plt"
   ]
  },
  {
   "cell_type": "markdown",
   "metadata": {},
   "source": [
    "# 各種数値"
   ]
  },
  {
   "cell_type": "code",
   "execution_count": 12,
   "metadata": {},
   "outputs": [],
   "source": [
    "# 順に、軸荷重、径荷重、軸振動数、径振動数\n",
    "rocket = np.array([6.0, 2.5, 30.0, 10.0])\n",
    "reentry = np.array([0.0, 0.0, 0.0, 0.0])\n",
    "\n",
    "#要求を決定\n",
    "required = np.max([rocket,reentry],axis=0)"
   ]
  },
  {
   "cell_type": "code",
   "execution_count": 14,
   "metadata": {},
   "outputs": [],
   "source": [
    "torayca_t800h = {'density':1.6, #g/cm^3\n",
    "                 't　ension':2850, #MPa\n",
    "                 'comp':1700, #MPa\n",
    "                 'E':155, #GPa\n",
    "                 'poisson':0.3  \n",
    "                }\n",
    "\n",
    "kevlar49 = {'density':1.45, #g/cm^3\n",
    "            't　ension':3000, #MPa\n",
    "            'comp':300, #MPa\n",
    "            'E':112.4, #GPa\n",
    "            'poisson':0.3  \n",
    "            }\n",
    "\n",
    "al7075 = {'density':2.8, #g/cm^3\n",
    "          't　ension':550, #MPa\n",
    "          'comp':500, #MPa\n",
    "          'E':70, #GPa\n",
    "          'shear':330, #MPa\n",
    "          'poisson':0.3  \n",
    "         }"
   ]
  },
  {
   "cell_type": "code",
   "execution_count": 30,
   "metadata": {},
   "outputs": [],
   "source": [
    "def get_k_c(material,L,r,t):\n",
    "    Z_L = L**2/r/t * np.sqrt(1-material['poisson']**2)\n",
    "    k_c = (10**0.6)*Z_L\n",
    "    return k_c"
   ]
  },
  {
   "cell_type": "code",
   "execution_count": 33,
   "metadata": {},
   "outputs": [],
   "source": [
    "def get_sigma_buckling_cylinder(material,L,r,t):\n",
    "    k_c = get_k_c(material,L,r,t)\n",
    "    E = material['E']\n",
    "    nu = material['poisson']\n",
    "    return k_c*np.pi**2*E/12/((1-nu)**2)*(t/L)**2"
   ]
  },
  {
   "cell_type": "code",
   "execution_count": null,
   "metadata": {},
   "outputs": [],
   "source": [
    "def get_sigma(required,L,r,t,mass):\n",
    "    requires"
   ]
  }
 ],
 "metadata": {
  "kernelspec": {
   "display_name": "Python 3",
   "language": "python",
   "name": "python3"
  },
  "language_info": {
   "codemirror_mode": {
    "name": "ipython",
    "version": 3
   },
   "file_extension": ".py",
   "mimetype": "text/x-python",
   "name": "python",
   "nbconvert_exporter": "python",
   "pygments_lexer": "ipython3",
   "version": "3.6.6"
  }
 },
 "nbformat": 4,
 "nbformat_minor": 2
}
