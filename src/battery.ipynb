{
 "cells": [
  {
   "cell_type": "code",
   "execution_count": 1,
   "metadata": {},
   "outputs": [],
   "source": [
    "import numpy as np"
   ]
  },
  {
   "cell_type": "code",
   "execution_count": 19,
   "metadata": {},
   "outputs": [],
   "source": [
    "def capacity_degration(temperature, time):\n",
    "    \"\"\"バッテリーの永久損失の推算\n",
    "    Arg:\n",
    "        t[℃] 温度\n",
    "        time[yr] 保存期間\n",
    "    Return:\n",
    "        capcity_rate[] 損失を考慮した容量の割合\n",
    "    \"\"\"\n",
    "    #10カ月あたりの損失[%]\n",
    "    degration_rate_per_decade = 0.5524*np.exp(0.0614*temperature)\n",
    "    #10カ月当たりの割合[]\n",
    "    degration_rate_per_decade /= 100. \n",
    "    #timeをカ月換算\n",
    "    time = time*12. #月\n",
    "    #容量の割合\n",
    "    capacity_rate = (1-degration_rate_per_decade)**(time/10.)\n",
    "    return capacity_rate"
   ]
  },
  {
   "cell_type": "code",
   "execution_count": 21,
   "metadata": {},
   "outputs": [
    {
     "data": {
      "text/plain": [
       "0.8234108285801932"
      ]
     },
     "execution_count": 21,
     "metadata": {},
     "output_type": "execute_result"
    }
   ],
   "source": [
    "capacity_degration(-20, 100)"
   ]
  },
  {
   "cell_type": "code",
   "execution_count": 22,
   "metadata": {},
   "outputs": [
    {
     "data": {
      "text/plain": [
       "218340105584896"
      ]
     },
     "execution_count": 22,
     "metadata": {},
     "output_type": "execute_result"
    }
   ],
   "source": [
    "62**8"
   ]
  },
  {
   "cell_type": "code",
   "execution_count": 7,
   "metadata": {},
   "outputs": [
    {
     "data": {
      "text/plain": [
       "0.29894882997423805"
      ]
     },
     "execution_count": 7,
     "metadata": {},
     "output_type": "execute_result"
    }
   ],
   "source": []
  },
  {
   "cell_type": "code",
   "execution_count": null,
   "metadata": {},
   "outputs": [],
   "source": []
  }
 ],
 "metadata": {
  "kernelspec": {
   "display_name": "Python 3",
   "language": "python",
   "name": "python3"
  },
  "language_info": {
   "codemirror_mode": {
    "name": "ipython",
    "version": 3
   },
   "file_extension": ".py",
   "mimetype": "text/x-python",
   "name": "python",
   "nbconvert_exporter": "python",
   "pygments_lexer": "ipython3",
   "version": "3.7.1"
  }
 },
 "nbformat": 4,
 "nbformat_minor": 2
}
