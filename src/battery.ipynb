{
 "cells": [
  {
   "cell_type": "code",
   "execution_count": 4,
   "metadata": {},
   "outputs": [],
   "source": [
    "import numpy as np"
   ]
  },
  {
   "cell_type": "code",
   "execution_count": 19,
   "metadata": {},
   "outputs": [],
   "source": [
    "def capacity_degration(temperature, time):\n",
    "    \"\"\"バッテリーの永久損失の推算\n",
    "    Arg:\n",
    "        t[℃] 温度\n",
    "        time[yr] 保存期間\n",
    "    Return:\n",
    "        capcity_rate[] 損失を考慮した容量の割合\n",
    "    \"\"\"\n",
    "    #10カ月あたりの損失[%]\n",
    "    degration_rate_per_decade = 0.5524*np.exp(0.0614*temperature)\n",
    "    #10カ月当たりの割合[]\n",
    "    degration_rate_per_decade /= 100. \n",
    "    #timeをカ月換算\n",
    "    time = time*12. #月\n",
    "    #容量の割合\n",
    "    capacity_rate = (1-degration_rate_per_decade)**(time/10.)\n",
    "    return capacity_rate"
   ]
  },
  {
   "cell_type": "code",
   "execution_count": 21,
   "metadata": {},
   "outputs": [
    {
     "data": {
      "text/plain": [
       "0.8234108285801932"
      ]
     },
     "execution_count": 21,
     "metadata": {},
     "output_type": "execute_result"
    }
   ],
   "source": [
    "capacity_degration(-20, 100)"
   ]
  },
  {
   "cell_type": "code",
   "execution_count": 5,
   "metadata": {},
   "outputs": [
    {
     "name": "stdout",
     "output_type": "stream",
     "text": [
      "alltime:12906.699482862388[s]\n"
     ]
    }
   ],
   "source": [
    "## Constant\n",
    "MU = 3.986*10**5#地球重力定数[km^3/s^2]\n",
    "rp = 6378.\n",
    "ra = 31378.\n",
    "semi_major_axis = (rp+ra)/2.\n",
    "period = 2*np.pi*np.sqrt(semi_major_axis**3/MU)\n",
    "all_time = period/2.\n",
    "print(\"alltime:{}[s]\".format(all_time))"
   ]
  },
  {
   "cell_type": "markdown",
   "metadata": {},
   "source": [
    "| 機器 | 消費電力[W] | 消費時間[s] |\n",
    "|:-----------|------------:|:------------:|\n",
    "| リアクションホイール       | 30        | 30         |\n",
    "|オンボード計算機 | 15 | all|\n",
    "|トランスポンダー|10 |all|\n",
    "|アースセンサ|0.1|all|\n",
    "|サンセンサ|0.1|all|\n"
   ]
  },
  {
   "cell_type": "code",
   "execution_count": 15,
   "metadata": {},
   "outputs": [
    {
     "name": "stdout",
     "output_type": "stream",
     "text": [
      "総発電量:326148.8269681322[J]\n"
     ]
    }
   ],
   "source": [
    "sum_power = 30*30+(15+10+0.1+0.1)*all_time\n",
    "print(\"総発電量:{}[J]\".format(sum_power))"
   ]
  },
  {
   "cell_type": "code",
   "execution_count": 16,
   "metadata": {},
   "outputs": [],
   "source": [
    "class Battery:\n",
    "    def __init__(self, nominal_vol=3, nominal_cap=5, mass=0.042, degrade_rate=35):\n",
    "        \"\"\"\n",
    "        Arg:\n",
    "            nominal_vol[V] 公称電圧\n",
    "            nominal_cap[Ah] 公称容量\n",
    "            mass[kg] 質量\n",
    "            degrade_rate[%] 100年後の劣化値\n",
    "            \n",
    "        Attribute:\n",
    "            nominal_vol[V] 公称電圧\n",
    "            nominal_cap[Ah] 公称容量\n",
    "            mass[kg] 重量\n",
    "            degrade_rate[%] 100年後の劣化量\n",
    "            nominal_cap_degrade[Ah] 劣化を考慮した公称容量\n",
    "        \"\"\"\n",
    "        \n",
    "        self.nominal_vol = nominal_vol\n",
    "        self.nominal_cap = nominal_cap\n",
    "        self.mass = mass\n",
    "        self.degrade_rate = degrade_rate\n",
    "        self.nominal_cap_degrate = nominal_cap*(degrade_rate/100.)\n",
    "        \n",
    "    def get_battery_number(self, sum_power):\n",
    "        \"\"\"\n",
    "        Arg:\n",
    "           sum_power[J] 消費電力の合計値\n",
    "        \n",
    "        Return:\n",
    "            バッテリーの個数[個]\n",
    "        \"\"\"\n",
    "        battery_power_per_number = self.nominal_cap_degrate*self.nominal_vol*3600\n",
    "        need_number_of_battery = np.ceil(sum_power/battery_power_per_number)\n",
    "        return need_number_of_battery"
   ]
  },
  {
   "cell_type": "code",
   "execution_count": 17,
   "metadata": {},
   "outputs": [
    {
     "data": {
      "text/plain": [
       "18.0"
      ]
     },
     "execution_count": 17,
     "metadata": {},
     "output_type": "execute_result"
    }
   ],
   "source": [
    "battery1 = Battery()\n",
    "battery1.get_battery_number(sum_power)"
   ]
  },
  {
   "cell_type": "code",
   "execution_count": null,
   "metadata": {},
   "outputs": [],
   "source": []
  }
 ],
 "metadata": {
  "kernelspec": {
   "display_name": "Python 3",
   "language": "python",
   "name": "python3"
  },
  "language_info": {
   "codemirror_mode": {
    "name": "ipython",
    "version": 3
   },
   "file_extension": ".py",
   "mimetype": "text/x-python",
   "name": "python",
   "nbconvert_exporter": "python",
   "pygments_lexer": "ipython3",
   "version": "3.7.1"
  }
 },
 "nbformat": 4,
 "nbformat_minor": 2
}
