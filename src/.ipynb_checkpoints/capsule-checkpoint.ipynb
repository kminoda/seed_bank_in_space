{
 "cells": [
  {
   "cell_type": "code",
   "execution_count": 3,
   "metadata": {},
   "outputs": [],
   "source": [
    "import numpy as np\n",
    "import pandas as pd\n",
    "from mpl_toolkits.mplot3d import Axes3D\n",
    "import matplotlib.pyplot as plt\n",
    "import math\n",
    "import pickle\n",
    "\n",
    "MU = 3.986*10**5#地球重力定数[km^3/s^2]\n",
    "R_po = 6600.#パーキング軌道半径[km]\n",
    "Delta_i = 30.#種子島の緯度[deg]\n",
    "PI = np.pi\n",
    "J2 = 1082.628*10**(-6)#J2帯状調和関数係数\n",
    "R_e = 6\n",
    "\n",
    "g = 9.81 #重力加速度[m/s^2]\n",
    "R_earth = 6378 #地球の半径[km]\n",
    "SCALE_HEIGHT = 8.432#スケールハイト[km]\n",
    "RHO_0 = 1.225#標準大気密度[kg/m^3]\n",
    "H_reEntry = 200 #大気圏高度[km]\n",
    "M_earth = 5.9724*10**24\n",
    "\n",
    "#機体によるので、あとで\n",
    "A = 1. #ハヤブサよりちょい大きめ[kg]\n",
    "Rn = 0.6 #てきとー\n",
    "\n",
    "#なんかを参照\n",
    "Cd = 1.6\n",
    "Cl = 0.0\n",
    "DT = 0.1#刻み"
   ]
  },
  {
   "cell_type": "code",
   "execution_count": 4,
   "metadata": {},
   "outputs": [],
   "source": [
    "def dominant_eq(D,L,gamma,v,r, M):\n",
    "    gamma_rad = np.deg2rad(gamma)\n",
    "    dot_r = v*np.sin(gamma_rad)\n",
    "    dot_v = -D/M*10**3-g*np.sin(gamma_rad)*10**(-3)\n",
    "    dotgamma_rad = L/(M*v)*10**3-g*np.cos(gamma_rad)/v*10**(-3)+v*np.cos(gamma_rad)/r\n",
    "    dot_gamma = np.rad2deg(dotgamma_rad)\n",
    "    return dot_r,dot_v,dot_gamma\n",
    "\n",
    "\n",
    "def get_precise_density(z):\n",
    "    matrix = np.array([[0.000000,-3.322622E-6,9.111460E-4,-0.2609971,5.944694],\n",
    "                       [0.000000,2.873405E-5,-0.008492037,0.6541179,-23.62010],\n",
    "                       [-1.240774E-5,0.005162063,-0.8048342,55.55996,-1443.338],\n",
    "                       [0.00000,-8.854164E-05,0.03373254,-4.390837,176.5294],\n",
    "                       [3.661771E-7,-2.154344E-4,0.04809214,-4.884744,172.3597],\n",
    "                       [1.906032E-8,-1.527799E-5,0.004724294,-0.6992340,20.50921],\n",
    "                       [1.199282E-9,-1.451051E-6,6.910474E-4,-0.1736220,-5.321644],\n",
    "                       [1.140564E-10,-2.130756E-7,1.570762E-4,-0.07029296,-12.89844],\n",
    "                       [8.105631E-12,-2.358417E-9,-2.635110E-6,-0.01562608,-20.02246],                    \n",
    "                       [-3.701195E-12,-8.608611E-9,5.118829E-5,-0.06600998,-6.137674]])\n",
    "    Zs = np.array([z**4,z**3,z**2,z**1,1])\n",
    "    if z>750:\n",
    "        i = 9\n",
    "        rho = np.exp(Zs@matrix[i])\n",
    "    elif z>500:\n",
    "        i = 8\n",
    "        rho = np.exp(Zs@matrix[i])    \n",
    "    elif z>300:\n",
    "        i = 7\n",
    "        rho = np.exp(Zs@matrix[i])    \n",
    "    elif z>200:\n",
    "        i = 6\n",
    "        rho = np.exp(Zs@matrix[i])   \n",
    "    elif z>150:\n",
    "        i = 5\n",
    "        rho = np.exp(Zs@matrix[i])    \n",
    "    elif z>120:\n",
    "        i = 4\n",
    "        rho = np.exp(Zs@matrix[i])        \n",
    "    elif z>110:\n",
    "        i = 3\n",
    "        rho = np.exp(Zs@matrix[i])    \n",
    "    elif z>100:\n",
    "        i = 2\n",
    "        rho = np.exp(Zs@matrix[i])        \n",
    "    elif z>91:\n",
    "        i = 1\n",
    "        rho = np.exp(Zs@matrix[i])        \n",
    "    elif z>86:\n",
    "        i = 0\n",
    "        rho = np.exp(Zs@matrix[i])\n",
    "    else:\n",
    "        rho = RHO_0*np.exp(-z/SCALE_HEIGHT)\n",
    "    \n",
    "    return rho\n",
    "\n",
    "def get_Drag_Lift(v,rho, S=A):\n",
    "    D = 1/2*rho*v**2*S*Cd\n",
    "    L = 1/2*rho*v**2*S*Cl\n",
    "    return D,L\n",
    "\n",
    "def f(h, v, gamma, M, S=A):\n",
    "    rho = get_precise_density(h)\n",
    "    D,  L = get_Drag_Lift(v, rho, S)\n",
    "    r = h + R_earth\n",
    "    dot_r, dot_v, dot_gamma = dominant_eq(D, L, gamma, v, r, M)\n",
    "    return np.array([dot_r, dot_v, dot_gamma])\n",
    "\n",
    "def get_heating_rate(density, v, Rn=Rn):\n",
    "    \"\"\"対流加熱と輻射過熱を考える\n",
    "    Arg:\n",
    "    density[kg/m^3] 大気密度\n",
    "    v[km/s] 物体の速度\n",
    "    Rn[m] ノーズ半径\n",
    "    \n",
    "    Return:\n",
    "    q_conv[MW/m^2] 対流加熱率\n",
    "    q_rad[MW/m^2] 輻射加熱率\n",
    "    \"\"\"\n",
    "    v *= 10**3\n",
    "    q_conv = 1.35*10**(-8)*np.sqrt(density/Rn)*v**3.04*10 #[kW/m^2]\n",
    "    q_conv *= 10**(-3) #[MW/m^2]\n",
    "    \n",
    "    if Rn <= 1:\n",
    "        a = 1.072*10**6*v**(-1.88)*density**(-0.325)\n",
    "    elif 1< Rn <=2:\n",
    "        a = min([0.6, 1.072*10**6*v**(-1.88)*density**(-0.325)])\n",
    "    else:\n",
    "        a = min([0.5, 1.072*10**6*v**(-1.88)*density**(-0.325)])\n",
    "    \n",
    "    f_v = 1.5 #後で直す\n",
    "    q_rad = 4.736*10**2*Rn**a*density**1.22*f_v\n",
    "    return q_conv, q_rad\n",
    "    \n",
    "def re_entry(v_reEntry,gamma_reEntry, M):\n",
    "    h = H_reEntry\n",
    "    v = v_reEntry\n",
    "    gamma = gamma_reEntry\n",
    "    rho = get_precise_density(h)\n",
    "    q_conv, q_rad = get_heating_rate(rho, v)\n",
    "    t = 0\n",
    "    t_lst = [t]\n",
    "    h_lst = [h]\n",
    "    v_lst = [v]\n",
    "    gamma_lst= [gamma]\n",
    "    q_conv_lst, q_rad_lst = [q_conv], [q_rad]\n",
    "    while 0 <= h <= H_reEntry:\n",
    "        k1_vector = f(h, v, gamma,M)*DT\n",
    "        k1_r, k1_v, k1_gamma = k1_vector[0], k1_vector[1], k1_vector[2]\n",
    "        k1_h = k1_r\n",
    "        \n",
    "        k2_vector = f(h+k1_h/2, v+k1_v/2, gamma+k1_gamma/2, M)*DT\n",
    "        k2_r, k2_v, k2_gamma = k2_vector[0], k2_vector[1], k2_vector[2]\n",
    "        k2_h = k2_r\n",
    "\n",
    "        k3_vector = f(h+k2_h/2, v+k2_v/2, gamma+k2_gamma/2, M)*DT\n",
    "        k3_r, k3_v, k3_gamma = k3_vector[0], k3_vector[1], k3_vector[2]\n",
    "        k3_h = k3_r\n",
    "\n",
    "        k4_vector = f(h+k3_h, v+k3_v, gamma+k3_gamma, M)*DT\n",
    "        k4_r, k4_v, k4_gamma = k4_vector[0], k4_vector[1], k4_vector[2]\n",
    "        k4_h = k4_r\n",
    "\n",
    "        delta_r_euqual_h = (k1_r + 2.*k2_r + 2.*k3_r + k4_r)/6.\n",
    "        delta_v = (k1_v + 2.*k2_v + 2.*k3_v + k4_v)/6.\n",
    "        delta_gamma = (k1_gamma + 2.*k2_gamma + 2.*k3_gamma + k4_gamma)/6\n",
    "        ####################################\n",
    "        h += delta_r_euqual_h\n",
    "        v += delta_v\n",
    "        gamma += delta_gamma\n",
    "        t += DT\n",
    "        heating_rate = get_heating_rate(get_precise_density(h), v)\n",
    "        t_lst.append(t)\n",
    "        h_lst.append(h)\n",
    "        v_lst.append(v)\n",
    "        gamma_lst.append(gamma)\n",
    "        q_conv_lst.append(heating_rate[0])\n",
    "        q_rad_lst.append(heating_rate[1])\n",
    "    if h_lst[-1] >= H_reEntry:\n",
    "        #大気に弾かれた場合\n",
    "        print(h_lst[-1])\n",
    "\n",
    "    else:\n",
    "        #print(\"カプセル帰還\")\n",
    "        pass\n",
    "    return t_lst, h_lst, v_lst, gamma_lst, q_conv_lst, q_rad_lst"
   ]
  },
  {
   "cell_type": "code",
   "execution_count": 23,
   "metadata": {},
   "outputs": [],
   "source": [
    "class Capsule:\n",
    "    def __init__(self, mass, S_capsule, Rn=Rn, orbital_height_phase2=25000):\n",
    "        self.mass = mass\n",
    "        self.S_capsule = S_capsule\n",
    "        self.S_after_membrane = 1.*S_capsule\n",
    "        self.Rn = Rn\n",
    "        \n",
    "        #フェーズ２\n",
    "        self.semi_major_axis = R_earth+orbital_height_phase2\n",
    "        self.v_phase2 = np.sqrt(MU/self.semi_major_axis)\n",
    "        \n",
    "        \n",
    "    def re_entry_simu(self, v_entry, gamma_entry, membrane_parachute_height=20, dt=DT):\n",
    "        h = H_reEntry\n",
    "        v = v_entry\n",
    "        gamma = gamma_entry\n",
    "        rho = get_precise_density(h)\n",
    "        q_conv, q_rad = get_heating_rate(rho, v)\n",
    "        t = 0\n",
    "        t_lst = [t]\n",
    "        h_lst = [h]\n",
    "        v_lst = [v]\n",
    "        accel_lst = [0.]\n",
    "        gamma_lst= [gamma]\n",
    "        q_conv_lst, q_rad_lst = [q_conv], [q_rad]\n",
    "        ###################################################################################\n",
    "        ##るんげくった\n",
    "        while 0 <= h <= H_reEntry:\n",
    "            if membrane_parachute_height <= h:\n",
    "                #パラシュート展開せず\n",
    "                k1_vector = f(h, v, gamma,M=self.mass, S=self.S_capsule)*dt\n",
    "                k1_r, k1_v, k1_gamma = k1_vector[0], k1_vector[1], k1_vector[2]\n",
    "                k1_h = k1_r\n",
    "        \n",
    "                k2_vector = f(h+k1_h/2, v+k1_v/2, gamma+k1_gamma/2, M=self.mass, S=self.S_capsule)*dt\n",
    "                k2_r, k2_v, k2_gamma = k2_vector[0], k2_vector[1], k2_vector[2]\n",
    "                k2_h = k2_r\n",
    "\n",
    "                k3_vector = f(h+k2_h/2, v+k2_v/2, gamma+k2_gamma/2, M=self.mass, S=self.S_capsule)*dt\n",
    "                k3_r, k3_v, k3_gamma = k3_vector[0], k3_vector[1], k3_vector[2]\n",
    "                k3_h = k3_r\n",
    "\n",
    "                k4_vector = f(h+k3_h, v+k3_v, gamma+k3_gamma, M=self.mass, S=self.S_capsule)*dt\n",
    "                k4_r, k4_v, k4_gamma = k4_vector[0], k4_vector[1], k4_vector[2]\n",
    "                k4_h = k4_r\n",
    "\n",
    "                delta_r_euqual_h = (k1_r + 2.*k2_r + 2.*k3_r + k4_r)/6.\n",
    "                delta_v = (k1_v + 2.*k2_v + 2.*k3_v + k4_v)/6.\n",
    "                delta_gamma = (k1_gamma + 2.*k2_gamma + 2.*k3_gamma + k4_gamma)/6\n",
    "            \n",
    "            else:\n",
    "                k1_vector = f(h, v, gamma,M=self.mass, S=self.S_after_membrane)*dt\n",
    "                k1_r, k1_v, k1_gamma = k1_vector[0], k1_vector[1], k1_vector[2]\n",
    "                k1_h = k1_r\n",
    "        \n",
    "                k2_vector = f(h+k1_h/2, v+k1_v/2, gamma+k1_gamma/2, M=self.mass, S=self.S_after_membrane)*dt\n",
    "                k2_r, k2_v, k2_gamma = k2_vector[0], k2_vector[1], k2_vector[2]\n",
    "                k2_h = k2_r\n",
    "\n",
    "                k3_vector = f(h+k2_h/2, v+k2_v/2, gamma+k2_gamma/2, M=self.mass, S=self.S_after_membrane)*dt\n",
    "                k3_r, k3_v, k3_gamma = k3_vector[0], k3_vector[1], k3_vector[2]\n",
    "                k3_h = k3_r\n",
    "\n",
    "                k4_vector = f(h+k3_h, v+k3_v, gamma+k3_gamma, M=self.mass, S=self.S_after_membrane)*dt\n",
    "                k4_r, k4_v, k4_gamma = k4_vector[0], k4_vector[1], k4_vector[2]\n",
    "                k4_h = k4_r\n",
    "\n",
    "                delta_r_euqual_h = (k1_r + 2.*k2_r + 2.*k3_r + k4_r)/6.\n",
    "                delta_v = (k1_v + 2.*k2_v + 2.*k3_v + k4_v)/6.\n",
    "                delta_gamma = (k1_gamma + 2.*k2_gamma + 2.*k3_gamma + k4_gamma)/6\n",
    "            \n",
    "            ####################################\n",
    "            accel = delta_v/dt*10**3/g #G換算\n",
    "            h += delta_r_euqual_h\n",
    "            v += delta_v\n",
    "            gamma += delta_gamma\n",
    "            t += dt\n",
    "            heating_rate = get_heating_rate(get_precise_density(h), v)\n",
    "            t_lst.append(t)\n",
    "            h_lst.append(h)\n",
    "            accel_lst.append(accel)\n",
    "            v_lst.append(v)\n",
    "            gamma_lst.append(gamma)\n",
    "            q_conv_lst.append(heating_rate[0])\n",
    "            q_rad_lst.append(heating_rate[1])\n",
    "        if h_lst[-1] >= H_reEntry:\n",
    "            #大気に弾かれた場合\n",
    "            print(h_lst[-1])\n",
    "\n",
    "        else:\n",
    "            #print(\"カプセル帰還\")\n",
    "            pass\n",
    "        return t_lst, h_lst, accel_lst, v_lst, gamma_lst, q_conv_lst, q_rad_lst\n",
    "    \n",
    "    def decision_v_return_apo(self, atmosphere_height=120.):\n",
    "        \"\"\"大気に入るためのアポジの最大速度推算\n",
    "            要するにこれより小さければ戻ってこれる\n",
    "        Arg:\n",
    "            atmosphere_height[km] 大気高度 default 200\n",
    "        Return:\n",
    "            max_v_apo[km/s] 最大速度\n",
    "        \"\"\"\n",
    "        r_p = atmosphere_height + R_earth\n",
    "        max_v_apo = np.sqrt(2*MU*(1./self.semi_major_axis-1./(self.semi_major_axis+r_p)))\n",
    "        return max_v_apo\n",
    "    \n",
    "    def get_entry_state(self, v_trans_apo, atmosphere_height=120.):\n",
    "        r_e = atmosphere_height + R_earth\n",
    "        v_entry = np.sqrt(v_trans_apo**2 + 2*MU*(1/r_e-1/self.semi_major_axis))\n",
    "        fpa_entry = np.rad2deg(-np.arccos(v_trans_apo*self.semi_major_axis/v_entry/r_e))\n",
    "        return v_entry, fpa_entry\n",
    "    \n",
    "    def get_time_to_atomosphere(self, v_trans_apo, atmosphere_height=120.):\n",
    "        r_a = self.semi_major_axis\n",
    "        h = v_trans_apo*r_a\n",
    "        energy = 1./2*v_trans_apo**2-MU/r_a\n",
    "        l = h**2/MU\n",
    "        e = np.sqrt(1+2*energy*h**2/MU**2)\n",
    "        print(e)\n",
    "        r_e = atmosphere_height + R_earth\n",
    "        theta_e = np.arccos(1./e*(l/r_e-1))\n",
    "        print(theta_e)\n",
    "        v_e = np.sqrt(v_trans_apo**2 + 2*MU*(1/r_e-1/self.semi_major_axis))\n",
    "        fpa_e = np.arccos(v_trans_apo*self.semi_major_axis/v_e/r_e)\n",
    "        \n",
    "        a = (r_a+r_e)/2.\n",
    "        \n",
    "        t_atom_to_peri = np.sqrt(a**3/MU)*(2*np.arctan(np.sqrt((1-e)/(1+e))*np.tan(theta_e/2))-(e*np.sqrt(1-e**2)*np.sin(theta_e))/(1+e*np.cos(theta_e)))\n",
    "        t_apo_to_peri = np.pi*np.sqrt(a**3/MU) \n",
    "        t_apo_to_atom = t_apo_to_peri-t_atom_to_peri\n",
    "        return t_apo_to_atom"
   ]
  },
  {
   "cell_type": "code",
   "execution_count": 30,
   "metadata": {},
   "outputs": [
    {
     "name": "stdout",
     "output_type": "stream",
     "text": [
      "3.5641503650365927\n"
     ]
    }
   ],
   "source": [
    "capsule1 = Capsule(mass=800, S_capsule=10.)\n",
    "print(capsule1.v_phase2)"
   ]
  },
  {
   "cell_type": "code",
   "execution_count": 28,
   "metadata": {},
   "outputs": [
    {
     "name": "stdout",
     "output_type": "stream",
     "text": [
      "1.0669582049193398\n",
      "nan\n",
      "nan\n",
      "12968.280447296976\n"
     ]
    },
    {
     "name": "stderr",
     "output_type": "stream",
     "text": [
      "C:\\Users\\masaya\\Anaconda3\\lib\\site-packages\\ipykernel_launcher.py:121: RuntimeWarning: invalid value encountered in arccos\n",
      "C:\\Users\\masaya\\Anaconda3\\lib\\site-packages\\ipykernel_launcher.py:124: RuntimeWarning: invalid value encountered in arccos\n",
      "C:\\Users\\masaya\\Anaconda3\\lib\\site-packages\\ipykernel_launcher.py:128: RuntimeWarning: invalid value encountered in sqrt\n"
     ]
    }
   ],
   "source": [
    "v_trans_apo =  capsule1.v_phase2 - 1.56\n",
    "capsule1.get_time_to_atomosphere(v_trans_apo)"
   ]
  },
  {
   "cell_type": "code",
   "execution_count": 29,
   "metadata": {},
   "outputs": [
    {
     "name": "stdout",
     "output_type": "stream",
     "text": [
      "0.6\n",
      "1.9999999999999996\n"
     ]
    }
   ],
   "source": [
    "capsule1.decision_v_return_apo()\n",
    "v_return_apo_max = np.floor(capsule1.decision_v_return_apo()*100)/100\n",
    "v_return_apo_lst = np.arange(0.6, v_return_apo_max, 0.1)\n",
    "print(min(v_return_apo_lst))\n",
    "print(max(v_return_apo_lst))"
   ]
  },
  {
   "cell_type": "code",
   "execution_count": 52,
   "metadata": {},
   "outputs": [
    {
     "name": "stdout",
     "output_type": "stream",
     "text": [
      "0.028367613192016406\n",
      "0.028364451107616682\n",
      "0.02836584065880535\n",
      "0.02836358607157358\n",
      "0.028364480336904536\n",
      "0.028366379685471756\n",
      "0.028363273930470466\n",
      "0.02836452710434441\n",
      "0.028362998010973556\n",
      "0.028364174587050067\n",
      "0.028365519599784478\n",
      "0.028367102934722194\n",
      "0.02836357603766658\n",
      "0.028363768412762044\n",
      "0.028364590935878498\n"
     ]
    },
    {
     "data": {
      "image/png": "[encoded data removed]",
      "text/plain": [
       "<Figure size 432x288 with 1 Axes>"
      ]
     },
     "metadata": {
      "needs_background": "light"
     },
     "output_type": "display_data"
    },
    {
     "data": {
      "image/png": "[encoded data removed]",
      "text/plain": [
       "<Figure size 432x288 with 1 Axes>"
      ]
     },
     "metadata": {
      "needs_background": "light"
     },
     "output_type": "display_data"
    }
   ],
   "source": [
    "deccelation_lst = []\n",
    "v_at_surface_lst = []\n",
    "delta_v_lst = []\n",
    "for i in range(len(v_return_apo_lst)):\n",
    "    delta_v = capsule1.v_phase2 - v_return_apo_lst[i]\n",
    "    v_entry, fpa_entry = capsule1.get_entry_state(v_return_apo_lst[i])\n",
    "    _,_,accel_lst,v_lst,_,_,_ = capsule1.re_entry_simu(v_entry, fpa_entry)\n",
    "    deccelation_lst.append(-min(accel_lst))#G\n",
    "    v_at_surface_lst.append(v_lst[-1]*10**3)#m/s\n",
    "    delta_v_lst.append(delta_v)\n",
    "plt.plot(delta_v_lst, deccelation_lst)\n",
    "plt.show()\n",
    "plt.plot(delta_v_lst, v_at_surface_lst)\n",
    "plt.show()"
   ]
  },
  {
   "cell_type": "code",
   "execution_count": 53,
   "metadata": {},
   "outputs": [
    {
     "data": {
      "image/png": "[encoded data removed]",
      "text/plain": [
       "<Figure size 432x288 with 1 Axes>"
      ]
     },
     "metadata": {
      "needs_background": "light"
     },
     "output_type": "display_data"
    },
    {
     "name": "stdout",
     "output_type": "stream",
     "text": [
      "着地速度:28.365757197771284[m/s]\n"
     ]
    }
   ],
   "source": [
    "t_lst,_,accel_lst,v_lst,_,_,_ = capsule1.re_entry_simu(v_entry=9.0, gamma_entry=-15.)\n",
    "plt.plot(t_lst, accel_lst)\n",
    "plt.show()\n",
    "print(\"着地速度:{}[m/s]\".format(v_lst[-1]*10**3))"
   ]
  },
  {
   "cell_type": "code",
   "execution_count": null,
   "metadata": {},
   "outputs": [],
   "source": []
  },
  {
   "cell_type": "markdown",
   "metadata": {},
   "source": [
    "### 落下地点の推測\n",
    "#### 誤差としていれるもの\n",
    "1. 位置誤差3$\\sigma$\n",
    "2. 大気モデル誤差3$\\sigma$\n",
    "3. 高度30kmから風の影響（仮に）"
   ]
  },
  {
   "cell_type": "code",
   "execution_count": 1,
   "metadata": {},
   "outputs": [],
   "source": [
    "def re_entry_include_error():\n",
    "    pass"
   ]
  }
 ],
 "metadata": {
  "kernelspec": {
   "display_name": "Python 3",
   "language": "python",
   "name": "python3"
  },
  "language_info": {
   "codemirror_mode": {
    "name": "ipython",
    "version": 3
   },
   "file_extension": ".py",
   "mimetype": "text/x-python",
   "name": "python",
   "nbconvert_exporter": "python",
   "pygments_lexer": "ipython3",
   "version": "3.7.0"
  }
 },
 "nbformat": 4,
 "nbformat_minor": 2
}
