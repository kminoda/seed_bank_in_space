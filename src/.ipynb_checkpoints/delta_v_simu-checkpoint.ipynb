{
 "cells": [
  {
   "cell_type": "markdown",
   "metadata": {},
   "source": [
    "# このファイルについて"
   ]
  },
  {
   "cell_type": "markdown",
   "metadata": {},
   "source": [
    "擾乱に対する位置制御のために必要な燃料を推算します。"
   ]
  },
  {
   "cell_type": "code",
   "execution_count": 9,
   "metadata": {},
   "outputs": [],
   "source": [
    "import numpy as np\n",
    "import pandas as pd\n",
    "import matplotlib.pylab as plt"
   ]
  },
  {
   "cell_type": "code",
   "execution_count": 10,
   "metadata": {},
   "outputs": [],
   "source": [
    "MU = 3.986*10**5#地球重力定数[km^3/s^2]\n",
    "R_po = 6600.#パーキング軌道半径[km]\n",
    "Delta_i = 30.#種子島の緯度[deg]\n",
    "PI = np.pi\n",
    "J2 = 1082.628*10**(-6)#J2帯状調和関数係数\n",
    "R_e = 6"
   ]
  },
  {
   "cell_type": "code",
   "execution_count": 11,
   "metadata": {},
   "outputs": [
    {
     "name": "stdout",
     "output_type": "stream",
     "text": [
      "43.13106201760243\n",
      "19.216011456044555\n"
     ]
    }
   ],
   "source": [
    "alpha = 28.58\n",
    "alpha = np.deg2rad(alpha)\n",
    "delta_moon = 102.67*np.cos(alpha)*np.sin(alpha)\n",
    "print(delta_moon)\n",
    "gamma = 23.44\n",
    "gamma = np.deg2rad(alpha)\n",
    "delta_sun = 40.17*np.cos(gamma)*np.sin(alpha)\n",
    "print(delta_sun)"
   ]
  },
  {
   "cell_type": "code",
   "execution_count": 20,
   "metadata": {},
   "outputs": [
    {
     "name": "stdout",
     "output_type": "stream",
     "text": [
      "(-8.58944949611711e-05, 0.0001409600776584566)\n"
     ]
    }
   ],
   "source": [
    "#擾乱の永年項を計算\n",
    "#計算量多めなので、後で直す\n",
    "def gravity_perturbation_moon(r, i):\n",
    "    \"\"\"\n",
    "    月の重力による擾乱\n",
    "    \n",
    "    arg:\n",
    "    r(float) 軌道長半径(円軌道の時は半径)[km]\n",
    "    i(float) 軌道傾斜角[deg]\n",
    "    \n",
    "    return:\n",
    "    dot_omega_moon(float) 近地点引数の変化[deg/day]\n",
    "    dot_Omega_moon(float) 昇交点赤経の変化[deg/day]\n",
    "    \n",
    "    \"\"\"\n",
    "    i = np.deg2rad(i)\n",
    "    n = np.sqrt(MU/r**3) #[rad/s]\n",
    "    n *= 60*60*24 #[rad/day]\n",
    "    n /= 2*PI#[周回数/day]\n",
    "    dot_Omega_moon = -0.00338*np.cos(i)/n\n",
    "    dot_omega_moon = 0.00169*(4-5*(np.sin(i))**2)/n\n",
    "    return dot_Omega_moon, dot_omega_moon\n",
    "\n",
    "def gravity_perturbation_sun(r, i):\n",
    "    \"\"\"\n",
    "    太陽の重力による擾乱\n",
    "    \n",
    "    arg:\n",
    "    r(float) 軌道長半径(円軌道の時は半径)[km]\n",
    "    i(float) 軌道傾斜角[deg]\n",
    "    \n",
    "    return:\n",
    "    dot_omega_sun(float) 近地点引数の変化[deg/day]\n",
    "    dot_Omega_sun(float) 昇交点赤経の変化[deg/day]\n",
    "    \n",
    "    \"\"\"\n",
    "    i = np.deg2rad(i)\n",
    "    n = np.sqrt(MU/r**3) #[rad/s]\n",
    "    n *= 60*60*24 #[rad/day]\n",
    "    n /= 2*PI#[周回数/day]\n",
    "    dot_Omega_sun = -0.00154*np.cos(i)/n\n",
    "    dot_omega_sun = 0.00077*(4-5*((np.sin(i))**2))/n\n",
    "    return dot_Omega_sun, dot_omega_sun\n",
    "\n",
    "print(gravity_perturbation_sun(6700, 28))"
   ]
  },
  {
   "cell_type": "code",
   "execution_count": 10,
   "metadata": {},
   "outputs": [],
   "source": [
    "class Orbit:\n",
    "    \"\"\"なんか軌道わかるとうまくいくやつ()\n",
    "    to do\n",
    "    外乱制御用のΔV\n",
    "    \"\"\"\n",
    "    \n",
    "    def __init__(self, r_tgt):\n",
    "        \"\"\"とりあえず円周回軌道半径だけ。。。\"\"\"\n",
    "        self.r_tgt = r_tgt # radius of orbit\n",
    "        self.delta_v_peri = None\n",
    "        self.delta_v_apo = None\n",
    "        self.delta_v = None\n",
    "        \n",
    "    def get_delta_v_peri(self):\n",
    "        \"\"\"近地点でのΔv\"\"\"\n",
    "        r_tgt = self.r_tgt\n",
    "        v_po = np.sqrt(MU/R_po)\n",
    "        v_peri_trans = np.sqrt(2*MU*r_tgt/R_po/(R_po+r_tgt))\n",
    "        self.delta_v_peri = v_peri_trans - v_po\n",
    "\n",
    "    def get_delta_v_apo(self):\n",
    "        \"\"\"遠地点でのΔv\"\"\"\n",
    "        r_tgt = self.r_tgt\n",
    "        v_tgt = np.sqrt(MU/r_tgt)\n",
    "        v_apo_trans = np.sqrt(2*MU*R_po/r_tgt/(R_po+r_tgt))\n",
    "        self.delta_v_apo = v_tgt-v_apo_trans\n",
    "    \n",
    "    def j2(self):\n",
    "        \"\"\"\n",
    "        外乱J2項考えましょうね～～～～～～～～～～\n",
    "        \"\"\"\n",
    "    \n",
    "    def get_delta_v(self):\n",
    "        \"\"\"Δv全部\"\"\"\n",
    "        self.get_delta_v_peri()\n",
    "        self.get_delta_v_apo()\n",
    "        self.delta_v = self.delta_v_apo+self.delta_v_peri\n",
    "        print(\"Delta V: {0} [km/s]\".format(self.delta_v))"
   ]
  },
  {
   "cell_type": "code",
   "execution_count": 11,
   "metadata": {},
   "outputs": [
    {
     "name": "stdout",
     "output_type": "stream",
     "text": [
      "Delta V: 0.575623886901016 [km/s]\n"
     ]
    }
   ],
   "source": [
    "orb = Orbit(7700.)\n",
    "orb.get_delta_v()"
   ]
  },
  {
   "cell_type": "code",
   "execution_count": null,
   "metadata": {},
   "outputs": [],
   "source": []
  }
 ],
 "metadata": {
  "kernelspec": {
   "display_name": "Python 3",
   "language": "python",
   "name": "python3"
  },
  "language_info": {
   "codemirror_mode": {
    "name": "ipython",
    "version": 3
   },
   "file_extension": ".py",
   "mimetype": "text/x-python",
   "name": "python",
   "nbconvert_exporter": "python",
   "pygments_lexer": "ipython3",
   "version": "3.6.3"
  }
 },
 "nbformat": 4,
 "nbformat_minor": 2
}
