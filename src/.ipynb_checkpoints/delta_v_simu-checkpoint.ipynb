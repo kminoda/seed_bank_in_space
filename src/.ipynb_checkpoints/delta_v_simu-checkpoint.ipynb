{
 "cells": [
  {
   "cell_type": "markdown",
   "metadata": {},
   "source": [
    "# このファイルについて"
   ]
  },
  {
   "cell_type": "markdown",
   "metadata": {},
   "source": [
    "擾乱に対する位置制御のために必要な燃料を推算します。"
   ]
  },
  {
   "cell_type": "code",
   "execution_count": 23,
   "metadata": {},
   "outputs": [],
   "source": [
    "import numpy as np\n",
    "import pandas as pd\n",
    "import matplotlib.pylab as plt\n",
    "import math"
   ]
  },
  {
   "cell_type": "code",
   "execution_count": 24,
   "metadata": {},
   "outputs": [],
   "source": [
    "MU = 3.986*10**5#地球重力定数[km^3/s^2]\n",
    "R_po = 6600.#パーキング軌道半径[km]\n",
    "Delta_i = 30.#種子島の緯度[deg]\n",
    "PI = np.pi\n",
    "J2 = 1082.628*10**(-6)#J2帯状調和関数係数\n",
    "R_e = 6"
   ]
  },
  {
   "cell_type": "code",
   "execution_count": 25,
   "metadata": {},
   "outputs": [
    {
     "name": "stdout",
     "output_type": "stream",
     "text": [
      "43.13106201760243\n",
      "19.216011456044555\n"
     ]
    }
   ],
   "source": [
    "alpha = 28.58\n",
    "alpha = np.deg2rad(alpha)\n",
    "delta_moon = 102.67*np.cos(alpha)*np.sin(alpha)\n",
    "print(delta_moon)\n",
    "gamma = 23.44\n",
    "gamma = np.deg2rad(alpha)\n",
    "delta_sun = 40.17*np.cos(gamma)*np.sin(alpha)\n",
    "print(delta_sun)"
   ]
  },
  {
   "cell_type": "markdown",
   "metadata": {},
   "source": [
    "# 再突入のΔｖ概算\n",
    "## to do\n",
    "大気とか概算なので、ちゃんと後でどっかのデータ引用した方がよい\n",
    "\n"
   ]
  },
  {
   "cell_type": "code",
   "execution_count": 28,
   "metadata": {},
   "outputs": [],
   "source": [
    "G = 9.81 #重力加速度[m/s^2]\n",
    "R_earth = 6378 #地球の半径[km]\n",
    "SCALE_HEIGHT = 8.432#スケールハイト[km]\n",
    "RHO_0 = 1.225#標準大気密度[kg/m^3]\n",
    "H_reEntry = 200 #大気圏高度[km]\n",
    "## すまん、ここ詰める必要あるな\n",
    "v_reEntry = 5.6#再突入の速度(一例)[km/s]\n",
    "gamma_reEntry = -6.0#再突入時の経路角(結構浅め)[deg]\n",
    "\n",
    "#機体によるので、あとで\n",
    "M_capcell = 16.3 #はやぶさ参照[kg]\n",
    "A = 0.2 #ハヤブサよりちょい大きめ[kg]\n",
    "#なんかを参照\n",
    "Cd = 2.2\n",
    "Cl = 0\n",
    "DT = 0.01#刻み\n",
    "def dominant_eq(D,L,gamma,v,r, M=M_capcell):\n",
    "    gamma_rad = np.deg2rad(gamma)\n",
    "    dot_r = v*np.sin(gamma_rad)\n",
    "    dot_v = -D/M*10**3-G*math.sin(gamma_rad)*10**(-3)\n",
    "    dotgamma_rad = L/(M*v)*10**3-G*math.cos(gamma_rad)/v*10**(-3)+v*math.cos(gamma_rad)/r\n",
    "    dot_gamma = np.rad2deg(dotgamma_rad)\n",
    "    return dot_r,dot_v,dot_gamma\n",
    "\n",
    "def get_density(h):\n",
    "    return RHO_0*np.exp(-h/SCALE_HEIGHT)\n",
    "\n",
    "def get_Drag_Lift(v,rho, S=A):\n",
    "    D = 1/2*rho*v**2*S*Cd\n",
    "    L = 1/2*rho*v**2*S*Cl\n",
    "    return D,L\n",
    "\n",
    "def f(h, v, gamma):\n",
    "    rho = get_density(h)\n",
    "    D,  L = get_Drag_Lift(v, rho)\n",
    "    r = h + R_earth\n",
    "    dot_r, dot_v, dot_gamma = dominant_eq(D, L, gamma, v, r)\n",
    "    return np.array([dot_r, dot_v, dot_gamma])\n",
    "\n",
    "def re_entry(v_reEntey,gamma_reEntry):\n",
    "    h = H_reEntry\n",
    "    v = v_reEntry\n",
    "    gamma = gamma_reEntry\n",
    "    dynamic_pressure = 1/2 * get_density(h) * (v*10**3)**2\n",
    "    t = 0\n",
    "    t_lst = [t]\n",
    "    h_lst = [h]\n",
    "    v_lst = [v]\n",
    "    gamma_lst= [gamma]\n",
    "    dynamic_pressure_lst = [dynamic_pressure]\n",
    "    while 0 <= h <= H_reEntry:\n",
    "        k1_vector = f(h, v, gamma)*DT\n",
    "        k1_r, k1_v, k1_gamma = k1_vector[0], k1_vector[1], k1_vector[2]\n",
    "        k1_h = k1_r\n",
    "        \n",
    "        k2_vector = f(h+k1_h/2, v+k1_v/2, gamma+k1_gamma/2)*DT\n",
    "        k2_r, k2_v, k2_gamma = k2_vector[0], k2_vector[1], k2_vector[2]\n",
    "        k2_h = k2_r\n",
    "\n",
    "        k3_vector = f(h+k2_h/2, v+k2_v/2, gamma+k2_gamma/2)*DT\n",
    "        k3_r, k3_v, k3_gamma = k3_vector[0], k3_vector[1], k3_vector[2]\n",
    "        k3_h = k3_r\n",
    "\n",
    "        k4_vector = f(h+k3_h, v+k3_v, gamma+k3_gamma)*DT\n",
    "        k4_r, k4_v, k4_gamma = k4_vector[0], k4_vector[1], k4_vector[2]\n",
    "        k4_h = k4_r\n",
    "\n",
    "        delta_r_euqual_h = (k1_r + 2.*k2_r + 2.*k3_r + k4_r)/6.\n",
    "        delta_v = (k1_v + 2.*k2_v + 2.*k3_v + k4_v)/6.\n",
    "        delta_gamma = (k1_gamma + 2.*k2_gamma + 2.*k3_gamma + k4_gamma)/6\n",
    "        ####################################\n",
    "        h += delta_r_euqual_h\n",
    "        v += delta_v\n",
    "        gamma += delta_gamma\n",
    "        t += DT\n",
    "        dynamic_pressure = 1/2 * get_density(h) * (v*10**3)**2\n",
    "        t_lst.append(t)\n",
    "        h_lst.append(h)\n",
    "        v_lst.append(v)\n",
    "        gamma_lst.append(gamma)\n",
    "        dynamic_pressure_lst.append(dynamic_pressure)\n",
    "    if h_lst[-1] >= H_reEntry:\n",
    "        #大気に弾かれた場合\n",
    "        print(\"カプセル帰ってこず。。。。\")\n",
    "    else:\n",
    "        print(\"カプセル帰還\")\n",
    "        return t_lst, h_lst, v_lst, gamma_lst"
   ]
  },
  {
   "cell_type": "code",
   "execution_count": 29,
   "metadata": {},
   "outputs": [
    {
     "name": "stdout",
     "output_type": "stream",
     "text": [
      "カプセル帰還\n"
     ]
    },
    {
     "data": {
      "image/png": "[encoded data removed]",
      "text/plain": [
       "<matplotlib.figure.Figure at 0xc17e74c518>"
      ]
     },
     "metadata": {},
     "output_type": "display_data"
    }
   ],
   "source": [
    "a, b, c, d = re_entry(v_reEntry, gamma_reEntry)\n",
    "plt.plot(c, b)\n",
    "plt.show()"
   ]
  },
  {
   "cell_type": "code",
   "execution_count": 20,
   "metadata": {},
   "outputs": [
    {
     "name": "stdout",
     "output_type": "stream",
     "text": [
      "(-8.58944949611711e-05, 0.0001409600776584566)\n"
     ]
    }
   ],
   "source": [
    "#擾乱の永年項を計算\n",
    "#計算量多めなので、後で直す\n",
    "def gravity_perturbation_moon(r, i):\n",
    "    \"\"\"\n",
    "    月の重力による擾乱\n",
    "    \n",
    "    arg:\n",
    "    r(float) 軌道長半径(円軌道の時は半径)[km]\n",
    "    i(float) 軌道傾斜角[deg]\n",
    "    \n",
    "    return:\n",
    "    dot_omega_moon(float) 近地点引数の変化[deg/day]\n",
    "    dot_Omega_moon(float) 昇交点赤経の変化[deg/day]\n",
    "    \n",
    "    \"\"\"\n",
    "    i = np.deg2rad(i)\n",
    "    n = np.sqrt(MU/r**3) #[rad/s]\n",
    "    n *= 60*60*24 #[rad/day]\n",
    "    n /= 2*PI#[周回数/day]\n",
    "    dot_Omega_moon = -0.00338*np.cos(i)/n\n",
    "    dot_omega_moon = 0.00169*(4-5*(np.sin(i))**2)/n\n",
    "    return dot_Omega_moon, dot_omega_moon\n",
    "\n",
    "def gravity_perturbation_sun(r, i):\n",
    "    \"\"\"\n",
    "    太陽の重力による擾乱\n",
    "    \n",
    "    arg:\n",
    "    r(float) 軌道長半径(円軌道の時は半径)[km]\n",
    "    i(float) 軌道傾斜角[deg]\n",
    "    \n",
    "    return:\n",
    "    dot_omega_sun(float) 近地点引数の変化[deg/day]\n",
    "    dot_Omega_sun(float) 昇交点赤経の変化[deg/day]\n",
    "    \n",
    "    \"\"\"\n",
    "    i = np.deg2rad(i)\n",
    "    n = np.sqrt(MU/r**3) #[rad/s]\n",
    "    n *= 60*60*24 #[rad/day]\n",
    "    n /= 2*PI#[周回数/day]\n",
    "    dot_Omega_sun = -0.00154*np.cos(i)/n\n",
    "    dot_omega_sun = 0.00077*(4-5*((np.sin(i))**2))/n\n",
    "    return dot_Omega_sun, dot_omega_sun\n",
    "\n",
    "print(gravity_perturbation_sun(6700, 28))"
   ]
  },
  {
   "cell_type": "code",
   "execution_count": 1,
   "metadata": {},
   "outputs": [],
   "source": [
    "class Orbit:\n",
    "    \"\"\"なんか軌道わかるとうまくいくやつ()\n",
    "    to do\n",
    "    外乱制御用のΔV\n",
    "    \"\"\"\n",
    "    \n",
    "    def __init__(self, r_tgt):\n",
    "        \"\"\"とりあえず円周回軌道半径だけ。。。\"\"\"\n",
    "        self.r_tgt = r_tgt # radius of orbit\n",
    "        self.delta_v_peri = None\n",
    "        self.delta_v_apo = None\n",
    "        self.delta_v = None\n",
    "        \n",
    "        self.reentry_height = 100 #地球の大気圏高度[km]\n",
    "        self.v_tgt = None\n",
    "    def get_delta_v_peri(self):\n",
    "        \"\"\"近地点でのΔv\"\"\"\n",
    "        r_tgt = self.r_tgt\n",
    "        v_po = np.sqrt(MU/R_po)\n",
    "        v_peri_trans = np.sqrt(2*MU*r_tgt/R_po/(R_po+r_tgt))\n",
    "        self.delta_v_peri = v_peri_trans - v_po\n",
    "\n",
    "    def get_delta_v_apo(self):\n",
    "        \"\"\"遠地点でのΔv\"\"\"\n",
    "        r_tgt = self.r_tgt\n",
    "        self.v_tgt = np.sqrt(MU/r_tgt)\n",
    "        v_apo_trans = np.sqrt(2*MU*R_po/r_tgt/(R_po+r_tgt))\n",
    "        self.delta_v_apo = self.v_tgt-v_apo_trans\n",
    "    \n",
    "    def j2(self):\n",
    "        \"\"\"\n",
    "        外乱J2項考えましょうね～～～～～～～～～～\n",
    "        \"\"\"\n",
    "    \n",
    "    def get_delta_v(self):\n",
    "        \"\"\"Δv全部\"\"\"\n",
    "        self.get_delta_v_peri()\n",
    "        self.get_delta_v_apo()\n",
    "        self.delta_v = self.delta_v_apo+self.delta_v_peri\n",
    "        print(\"Delta V: {0} [km/s]\".format(self.delta_v))\n",
    "        print(\"V at tgt: {}[km/s]\".format(self.v_tgt))"
   ]
  },
  {
   "cell_type": "code",
   "execution_count": 5,
   "metadata": {},
   "outputs": [
    {
     "name": "stdout",
     "output_type": "stream",
     "text": [
      "Delta V: 0.3306925582501039 [km/s]\n",
      "V at ttgt: 7.440504761849906[km/s]\n"
     ]
    }
   ],
   "source": [
    "orb = Orbit(7200.)\n",
    "orb.get_delta_v()"
   ]
  },
  {
   "cell_type": "code",
   "execution_count": null,
   "metadata": {},
   "outputs": [],
   "source": []
  }
 ],
 "metadata": {
  "kernelspec": {
   "display_name": "Python 3",
   "language": "python",
   "name": "python3"
  },
  "language_info": {
   "codemirror_mode": {
    "name": "ipython",
    "version": 3
   },
   "file_extension": ".py",
   "mimetype": "text/x-python",
   "name": "python",
   "nbconvert_exporter": "python",
   "pygments_lexer": "ipython3",
   "version": "3.6.3"
  }
 },
 "nbformat": 4,
 "nbformat_minor": 2
}
