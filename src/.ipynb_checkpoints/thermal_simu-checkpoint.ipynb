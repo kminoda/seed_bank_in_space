{
 "cells": [
  {
   "cell_type": "markdown",
   "metadata": {},
   "source": [
    "# このファイルについて"
   ]
  },
  {
   "cell_type": "markdown",
   "metadata": {},
   "source": [
    "衛星の熱設計における熱平衡方程式を解きます。\n",
    "\\begin{align*}\n",
    " m_ic_i\\frac{dT_i}{dt}  = &\\sum c_{ij}(T_i-T_j) + \\sum \\sigma R_{ij} (T_j^4 - T_i^4)\\\\\n",
    " & + (太陽輻射・アルベド)_i+ (地球からの赤外輻射)_i + (内部機器の発熱)_i\n",
    "\\end{align*}\n",
    "\n",
    "アルベド項と赤外輻射項が時間変動するので厳しい。。。\n",
    "\n",
    "頑張って"
   ]
  },
  {
   "cell_type": "markdown",
   "metadata": {},
   "source": [
    "# Requirement"
   ]
  },
  {
   "cell_type": "code",
   "execution_count": 4,
   "metadata": {},
   "outputs": [],
   "source": [
    "import numpy as np\n",
    "import pandas as pd\n",
    "import matplotlib.pylab as plt"
   ]
  },
  {
   "cell_type": "markdown",
   "metadata": {},
   "source": [
    "# 関数など"
   ]
  },
  {
   "cell_type": "code",
   "execution_count": 1,
   "metadata": {},
   "outputs": [],
   "source": [
    "class Orbit:\n",
    "    \"\"\"なんか軌道わかるとうまくいくやつ()\n",
    "    to do\n",
    "    外乱制御用のΔV\n",
    "    \"\"\"\n",
    "    def __init__(self, r_tgt):\n",
    "        \"\"\"とりあえず円周回軌道半径だけ。。。\"\"\"\n",
    "        self.r_tgt = r_tgt # radius of orbit\n",
    "        self.delta_v_peri = None\n",
    "        self.delta_v_apo = None\n",
    "        self.delta_v = None\n",
    "        \n",
    "    def get_delta_v_peri(self):\n",
    "        \"\"\"近地点でのΔv\"\"\"\n",
    "        r_tgt = self.r_tgt\n",
    "        v_po = np.sqrt(MU/R_po)\n",
    "        v_peri_trans = np.sqrt(2*MU*r_tgt/R_po/(R_po+r_tgt))\n",
    "        self.delta_v_peri = v_peri_trans - v_po\n",
    "\n",
    "    def get_delta_v_apo(self):\n",
    "        \"\"\"遠地点でのΔv\"\"\"\n",
    "        r_tgt = self.r_tgt\n",
    "        v_tgt = np.sqrt(MU/r_tgt)\n",
    "        v_apo_trans = np.sqrt(2*MU*R_po/r_tgt/(R_po+r_tgt))\n",
    "        self.delta_v_apo = v_tgt-v_apo_trans\n",
    "    \n",
    "    def j2(self):\n",
    "        \"\"\"\n",
    "        外乱J2項考えましょうね～～～～～～～～～～\n",
    "        \"\"\"\n",
    "        delta_omega = -3\n",
    "    \n",
    "    def get_delta_v(self):\n",
    "        \"\"\"Δv全部\"\"\"\n",
    "        self.get_delta_v_peri()\n",
    "        self.get_delta_v_apo()\n",
    "        self.delta_v = self.delta_v_apo+self.delta_v_peri\n",
    "        print(\"Delta V: {0} [km/s]\".format(self.delta_v))"
   ]
  },
  {
   "cell_type": "code",
   "execution_count": 7,
   "metadata": {},
   "outputs": [],
   "source": [
    "class Thermal_simu():\n",
    "    \"\"\"熱平衡方程式をとくクラス。\"\"\"\n",
    "    def __init__(self,capacity_i,C_ij,R_ij,r_satellite):\n",
    "        \"\"\"\n",
    "        初期化\n",
    "        Parameters:\n",
    "        capacity_i: ndarray 1-D vector\n",
    "            節点iでの熱容量\n",
    "        C_ij: ndarray 2-D vector\n",
    "            節点i,jの伝熱によるカップリング\n",
    "        R_ij: ndarray 2-D vector\n",
    "            節点i,jの輻射によるカップリング\n",
    "        r_satellite: ndarray 2-D vector\n",
    "            衛星の軌道半径。太陽輻射とか計算するときに使う。と思う。\n",
    "        \"\"\"\n",
    "        c_i = self.capacity_i\n",
    "        C_ij = self.C_ij\n",
    "        R_ij = self.R_ij\n",
    "        r = r_satellite\n",
    "        \n",
    "        P_s = 1358 # 太陽定数\n",
    "        \n",
    "        T_i = np.zeros(i) # 最終的に、熱平衡方程式を解いた結果をここに格納したい\n",
    "    \n",
    "    def solve_eq(self):\n",
    "        \"\"\"\n",
    "        全部解いてくれる関数だよ。\n",
    "        \"\"\"\n",
    "        return 0\n",
    "        \n",
    "    def sun_radiation(self):\n",
    "        \"\"\"\n",
    "        太陽輻射 \n",
    "\n",
    "        Parameters:\n",
    "\n",
    "        Returns:\n",
    "        q: ndarray\n",
    "            i番目の成分が節点iにおける太陽輻射による熱入力に対応\n",
    "        \"\"\"\n",
    "        q = 0\n",
    "        return q\n",
    "    \n",
    "    def earth_radiation(self):\n",
    "        \"\"\"\n",
    "        地球の赤外輻射\n",
    "\n",
    "        Parameters:\n",
    "\n",
    "        Returns:\n",
    "        q: ndarray\n",
    "            i番目の成分が節点iにおける地球の赤外輻射による熱入力に対応\n",
    "        \"\"\"\n",
    "        q = 0\n",
    "        return q\n",
    "    \n",
    "    def albedo(self):\n",
    "        \"\"\"\n",
    "        地球のアルベド\n",
    "\n",
    "        Parameters:\n",
    "\n",
    "        Returns:\n",
    "        q: ndarray\n",
    "            i番目の成分が節点iにおける地球のアルベドによる熱入力に対応\n",
    "        \"\"\"\n",
    "        q = 0\n",
    "        return q"
   ]
  },
  {
   "cell_type": "code",
   "execution_count": 5,
   "metadata": {},
   "outputs": [],
   "source": [
    "MU = 3.986*10**5#地球重力定数[km^3/s^2]\n",
    "R_po = 6600.#パーキング軌道半径[km]\n",
    "Delta_i = 30.#種子島の緯度[deg]\n",
    "Pi = np.pi"
   ]
  },
  {
   "cell_type": "code",
   "execution_count": 9,
   "metadata": {},
   "outputs": [
    {
     "name": "stdout",
     "output_type": "stream",
     "text": [
      "Delta V: 3.9548129950668187 [km/s]\n"
     ]
    }
   ],
   "source": [
    "orb = Orbit(7700.)\n",
    "orb.get_delta_v()"
   ]
  },
  {
   "cell_type": "code",
   "execution_count": null,
   "metadata": {},
   "outputs": [],
   "source": []
  }
 ],
 "metadata": {
  "kernelspec": {
   "display_name": "Python 3",
   "language": "python",
   "name": "python3"
  },
  "language_info": {
   "codemirror_mode": {
    "name": "ipython",
    "version": 3
   },
   "file_extension": ".py",
   "mimetype": "text/x-python",
   "name": "python",
   "nbconvert_exporter": "python",
   "pygments_lexer": "ipython3",
   "version": "3.6.3"
  }
 },
 "nbformat": 4,
 "nbformat_minor": 2
}
