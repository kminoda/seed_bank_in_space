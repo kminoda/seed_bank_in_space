{
 "cells": [
  {
   "cell_type": "markdown",
   "metadata": {},
   "source": [
    "# このファイルについて"
   ]
  },
  {
   "cell_type": "markdown",
   "metadata": {},
   "source": [
    "衛星の熱設計における熱平衡方程式を解きます。\n",
    "\\begin{align*}\n",
    " m_ic_i\\frac{dT_i}{dt}  = &\\sum c_{ij}(T_i-T_j) + \\sum \\sigma R_{ij} (T_j^4 - T_i^4)\\\\\n",
    " & + (太陽輻射・アルベド)_i+ (地球からの赤外輻射)_i + (内部機器の発熱)_i\n",
    "\\end{align*}\n",
    "\n",
    "アルベド項と赤外輻射項が時間変動するので厳しい。。。\n",
    "\n",
    "頑張って"
   ]
  },
  {
   "cell_type": "markdown",
   "metadata": {},
   "source": [
    "# Requirement"
   ]
  },
  {
   "cell_type": "code",
   "execution_count": 1,
   "metadata": {},
   "outputs": [],
   "source": [
    "import numpy as np\n",
    "import pandas as pd\n",
    "import matplotlib.pylab as plt\n",
    "import math\n",
    "import os"
   ]
  },
  {
   "cell_type": "markdown",
   "metadata": {},
   "source": [
    "# 熱平衡方程式クラス"
   ]
  },
  {
   "cell_type": "markdown",
   "metadata": {},
   "source": [
    "\\begin{align*}\n",
    " m_ic_i\\frac{dT_i}{dt}  = &\\sum c_{ij}(T_i-T_j) + \\sum \\sigma R_{ij} (T_j^4 - T_i^4)\\\\\n",
    " & + (太陽輻射・アルベド)_i+ (地球からの赤外輻射)_i + (内部機器の発熱)_i\n",
    "\\end{align*}"
   ]
  },
  {
   "cell_type": "code",
   "execution_count": 168,
   "metadata": {},
   "outputs": [],
   "source": [
    "class Thermal_eq:\n",
    "    sigma = 5.670367e-8 #  Stefan–Boltzmann Constant\n",
    "\n",
    "    def __init__(self,n_nodes,n_steps,dt):\n",
    "        self.n_nodes = n_nodes\n",
    "        self.n_steps = n_steps\n",
    "        self.dt = dt\n",
    "        \n",
    "        self.time = np.arange(0,dt*n_steps,dt)              # 時間\n",
    "        \n",
    "        self.m = [1. for i in range(n_nodes)]                  # 質量\n",
    "        self.c = [1. for i in range(n_nodes)]                  # 熱容量\n",
    "        self.C = [[1. for i in range(n_nodes)] for j in range(n_nodes)]        # c[i,j]\n",
    "        self.R = [[1. for i in range(n_nodes)] for j in range(n_nodes)]        # R[i,j]\n",
    "        self.T_all = [[1. for i in range(n_nodes)] for j in range(n_steps)]    # 温度（横に時間軸）\n",
    "        \n",
    "        self.Q_in = [[0. for i in range(n_steps)] for j in range(n_nodes)]\n",
    "        \n",
    "    def set_params(self,param_m=None,param_C=None,param_c=None,param_R=None):\n",
    "        if not param_m==None:\n",
    "            assert len(param_m)==self.n_nodes, 'size of parameter m is different'\n",
    "            self.m = param_m\n",
    "        if not param_C==None:\n",
    "            assert len(param_C)==self.n_nodes, 'size of parameter C is different'\n",
    "            self.C = param_C\n",
    "        if not param_c==None:\n",
    "            assert len(param_c)==self.n_nodes, 'size of parameter c is different'\n",
    "            self.c = param_c\n",
    "        if not param_R==None:\n",
    "            assert len(param_R)==self.n_nodes, 'size of parameter R is different'\n",
    "            self.R = param_R\n",
    "            \n",
    "    def set_Q_in(self,n_node,Q_t):\n",
    "        self.Q_in[n_node-1] = Q_t\n",
    "    \n",
    "    def solve_eq(self,T_init):\n",
    "        self.T_all[0] = T_init\n",
    "        for i in range(self.n_steps-1):\n",
    "            if i%5000==0:\n",
    "                print('now at {0} step'.format(i))\n",
    "            T_temp = self.T_all[i]\n",
    "            k0 = self.get_dTdt(i,T_temp)\n",
    "            k1 = self.get_dTdt(i,[T_temp[i] + k0[i]*self.dt/2 for i in range(self.n_nodes)])\n",
    "            k2 = self.get_dTdt(i,[T_temp[i] + k1[i]*self.dt/2 for i in range(self.n_nodes)])\n",
    "            k3 = self.get_dTdt(i,[T_temp[i] + k2[i]*self.dt for i in range(self.n_nodes)])\n",
    "            k = [(k0[i] + 2*k1[i] + 2*k2[i] + k3[i])/6.0 for i in range(self.n_nodes)]\n",
    "            self.T_all[i+1] = [T_temp[i] + k[i]*self.dt for i in range(self.n_nodes)]\n",
    "    \n",
    "    def get_dTdt(self,n_step,T):\n",
    "        dTdt = [0 for i in range(self.n_nodes)]\n",
    "        for i in range(self.n_nodes):\n",
    "            sum_1 = sum([self.C[i][j]*(T[j]-T[i]) for j in range(self.n_nodes)])\n",
    "            sum_2 = self.sigma * sum([self.R[i][j]*(T[j]**4-T[i]**4) for j in range(self.n_nodes)])\n",
    "            dTdt[i] = (sum_1 + sum_2 + self.Q_in[i][n_step]) / self.m[i] / self.c[i]\n",
    "        return dTdt\n",
    "    \n",
    "    def plot_Q(self,save=False):\n",
    "        Q = np.array(self.Q_in)\n",
    "        plt.xlabel(r'time $\\rm{[s]}$')\n",
    "        plt.ylabel(r'heat $\\rm{[W/m^2]}$')\n",
    "        for i in range(Q.shape[0]-1):\n",
    "            plt.plot(self.time,Q[i],label='node {0}'.format(i+1))\n",
    "        plt.legend()\n",
    "        if save:\n",
    "            plt.savefig('../../output/heat_in.png')\n",
    "        \n",
    "    def plot_T(self,save=False,name='temperature'):\n",
    "        T = np.array(self.T_all)\n",
    "        plt.xlabel(r'time $\\rm{[s]}$')\n",
    "        plt.ylabel(r'Temperature $\\rm{[K]}$')\n",
    "        for i in range(T.shape[1]-1):\n",
    "            plt.plot(self.time,T[:,i],label='node {0}'.format(i+1))\n",
    "        threshold = np.ones_like(self.time)\n",
    "        plt.plot(self.time,threshold*255,color='black')\n",
    "        plt.plot(self.time,threshold*233,color='black')\n",
    "        plt.legend()\n",
    "        if save:\n",
    "            plt.savefig('../../output/'+name+'.png')\n",
    "            \n",
    "    def export_data_to_csv(self,dir_name):\n",
    "        if not os.path.exists('../../output/'+dir_name):\n",
    "            os.mkdir('../../output/'+dir_name)\n",
    "        pd.DataFrame(self.R).to_csv('../../output/'+dir_name+'/radiation_coupling.csv')\n",
    "        pd.DataFrame(self.C).to_csv('../../output/'+dir_name+'/transfer_coupling.csv')\n",
    "        #np.savetxt('../output/'+dir_name+'radiation_coupling.csv', pd.DataFrame(self.R), delimiter=\",\")\n",
    "        #np.savetxt('../output/'+dir_name+'transfer_coupling.csv', pd.DataFrame(self.C), delimiter=\",\")"
   ]
  },
  {
   "cell_type": "code",
   "execution_count": 114,
   "metadata": {},
   "outputs": [],
   "source": [
    "Ps = 1358\n",
    "Pe = 237\n",
    "Pa = Ps*0.3"
   ]
  },
  {
   "cell_type": "markdown",
   "metadata": {},
   "source": [
    "# パターン1"
   ]
  },
  {
   "cell_type": "markdown",
   "metadata": {},
   "source": [
    "<img src=\"../../output/thermal_cylinder.png\" width=30%>"
   ]
  },
  {
   "cell_type": "markdown",
   "metadata": {},
   "source": [
    "$D_1 > D_3$"
   ]
  },
  {
   "cell_type": "code",
   "execution_count": 115,
   "metadata": {},
   "outputs": [],
   "source": [
    "def get_F_12(D1,D5,L2,L4):\n",
    "    H = L2/D1\n",
    "    return 2*H*(np.sqrt(H**2+1) - H)\n",
    "\n",
    "def get_F_13(D1,D5,L2,L4):\n",
    "    H = L2/D1\n",
    "    return 1+2*H**2 - 2*H*np.sqrt(1+H**2)\n",
    "\n",
    "def get_F_21(D1,D5,L2,L4):\n",
    "    A1 = np.pi*D1**2/4\n",
    "    A2 = np.pi*2*D1*L2\n",
    "    return get_F_12(D1,D5,L2,L4) * A1/A2\n",
    "\n",
    "def get_F_22(D1,D5,L2,L4):\n",
    "    H = L2/D1\n",
    "    return 1 + H - np.sqrt(1+H**2)\n",
    "\n",
    "def get_F_23(D1,D5,L2,L4):\n",
    "    return get_F_21(D1,D5,L2,L4) # 対称性より\n",
    "\n",
    "def get_F_31(D1,D5,L2,L4):\n",
    "    return get_F_13(D1,D5,L2,L4)\n",
    "    \n",
    "def get_F_32(D1,D5,L2,L4):\n",
    "    return get_F_12(D1,D5,L2,L4) # 対称性より\n",
    "\n",
    "def get_F_34(D1,D5,L2,L4):\n",
    "    A3 = D1**2*np.pi/4\n",
    "    a = D1/2\n",
    "    b = D5/2\n",
    "    A4 = np.pi*(a+b)*((a-b)**2+L**2)**0.5\n",
    "    F_43 = get_F_43(D1,D5,L2,L4)\n",
    "    F_34 = F_43 * A4/A3\n",
    "    return F_34\n",
    "    \n",
    "def get_F_35(D1,D5,L2,L4):\n",
    "    a = D5/2\n",
    "    b = D1/2\n",
    "    return (a**2+b**2+L4**2-((a**2+b**2+L4**2)**2-4*a**2*b**2)**0.5)/2/b**2\n",
    "    \n",
    "def get_F_43(D1,D5,L2,L4):\n",
    "    H = L4*2/D5\n",
    "    R = D1/D5\n",
    "    X = (1+R**2+H**2)\n",
    "    return (2*R**2-X+(X**2-4*R**2)**0.5)/(2*(X-2*R)**0.5*(1+R))\n",
    "    \n",
    "def get_F_44(D1,D5,L2,L4):\n",
    "    temp = np.sqrt(L4**2+((D5-D1)**2)/4)\n",
    "    x = temp*np.max([D5,D1])/np.abs(D5-D1)\n",
    "    xi = x - temp\n",
    "    theta = 2*np.arcsin(np.max([D5,D1])/2/x)\n",
    "    X = xi/x\n",
    "    return 1+((1-X)*np.cos(theta/2)**2 - np.sqrt((X+1)**2-4*X*np.cos(theta/2)**2))/((1+X)*np.sin(theta/2))\n",
    "\n",
    "def get_F_45(D1,D5,L2,L4):\n",
    "    return get_F_43(D5,D1,L2,L4)\n",
    "    \n",
    "def get_F_53(D1,D5,L2,L4):      \n",
    "    return get_F_35(D5,D1,L2,L4)\n",
    "\n",
    "def get_F_54(D1,D5,L2,L4):  \n",
    "    A5 = D5**2*np.pi/4\n",
    "    a = D1/2\n",
    "    b = D5/2\n",
    "    A4 = np.pi*(D1/2+D5/2)*((D1/2-D5/2)**2+L4**2)**0.5\n",
    "    F_45 = get_F_45(D1,D5,L2,L4)\n",
    "    F_54 = F_45 * A4/A5\n",
    "    return F_54\n",
    "\n",
    "def get_F(D1,D5,L2,L4):\n",
    "    F = [[0,0,0,0,0],[0,0,0,0,0],[0,0,0,0,0],[0,0,0,0,0],[0,0,0,0,0]]\n",
    "    F[0][1] = get_F_12(D1,D5,L2,L4)\n",
    "    F[0][2] = get_F_13(D1,D5,L2,L4)\n",
    "    F[1][0] = get_F_21(D1,D5,L2,L4)\n",
    "    F[1][1] = get_F_22(D1,D5,L2,L4)\n",
    "    F[1][2] = get_F_23(D1,D5,L2,L4)\n",
    "    F[2][0] = get_F_31(D1,D5,L2,L4)\n",
    "    F[2][1] = get_F_32(D1,D5,L2,L4)\n",
    "    F[2][3] = get_F_34(D1,D5,L2,L4)\n",
    "    F[2][4] = get_F_35(D1,D5,L2,L4)\n",
    "    F[3][2] = get_F_43(D1,D5,L2,L4)\n",
    "    F[3][3] = get_F_44(D1,D5,L2,L4)\n",
    "    F[3][4] = get_F_45(D1,D5,L2,L4)\n",
    "    F[4][2] = get_F_53(D1,D5,L2,L4)\n",
    "    F[4][3] = get_F_54(D1,D5,L2,L4)\n",
    "    return F\n",
    "\n",
    "def new_alpha_and_eps(surface_rate,alpha,eps,n_node):\n",
    "    solar_features = np.array([0.88,0.85])\n",
    "    node_features = np.array([alpha[n_node],eps[n_node]])\n",
    "    new_node = node_features*(1-surface_rate) + solar_features*surface_rate\n",
    "    return new_node"
   ]
  },
  {
   "cell_type": "code",
   "execution_count": 247,
   "metadata": {},
   "outputs": [],
   "source": [
    "### 基本定数 ###\n",
    "G = 6.67e-11\n",
    "r_e = 6378 #地球の半径[km]\n",
    "M_e = 5.9724e24\n",
    "\n",
    "### ミッション定数 ###\n",
    "D1 = 2\n",
    "D5 = 0.8\n",
    "L2 = 1\n",
    "L4 = 1\n",
    "\n",
    "A = [np.pi*D1**2/4,\n",
    "     np.pi*D1*L2,\n",
    "     np.pi*D1**2/4,\n",
    "     np.pi*(D1/2+D5/2)*((D1/2-D5/2)**2+L4**2)**0.5,\n",
    "     np.pi*D5**2/4,\n",
    "     1e7]\n",
    "alpha = [0.28,0.40,0.80,0.25,0.34,0.]\n",
    "eps   = [0.88,0.55,0.80,0.45,0.55,1.]\n",
    "surface_rate = 0.97/((D1+D5)/2*L4 + D1*L2) # 太陽電池セルの占める面積の割合\n",
    "alpha[2],eps[2] = new_alpha_and_eps(surface_rate,alpha,eps,2)\n",
    "alpha[4],eps[4] = new_alpha_and_eps(surface_rate,alpha,eps,4)\n",
    "\n",
    "# 1: 5mil Silvered Teflon OSR\n",
    "# 2: \n",
    "# 3: \n",
    "# 4:\n",
    "# 5:"
   ]
  },
  {
   "cell_type": "code",
   "execution_count": 248,
   "metadata": {},
   "outputs": [],
   "source": [
    "n_nodes = 6\n",
    "m_i = [60,70,100,100,100,100]\n",
    "c_i = [0.8 for i in range(n_nodes)]\n",
    "c_i[n_nodes-1] = 1e7\n",
    "C_ij = (1 * np.array([\n",
    "       [0. ,17.,0. ,0. ,0. ,0. ],\n",
    "       [17.,0. ,17.,4. ,0. ,0. ],       \n",
    "       [0. ,17.,0. ,17.,0. ,0. ],\n",
    "       [0. ,4. ,17.,0. ,17.,0. ],\n",
    "       [0. ,0. ,0. ,17.,0. ,0. ],\n",
    "       [0. ,0. ,0. ,0. ,0. ,0. ]\n",
    "       ])).tolist()\n",
    "\n",
    "[[F_11, F_12, F_13, F_14, F_15],\n",
    " [F_21, F_22, F_23, F_24, F_25],\n",
    " [F_31, F_32, F_33, F_34, F_35],\n",
    " [F_41, F_42, F_43, F_44, F_45],\n",
    " [F_51, F_52, F_53, F_54, F_55]] = get_F(D1,D5,L2,L4)\n",
    "\n",
    "\n",
    "R_ij = [\n",
    "     [F_11*eps[0]*eps[0]*A[0]/2, F_12*eps[0]*eps[1]*A[0]/2, F_13*eps[0]*eps[2]*A[0]/2, F_14*eps[0]*eps[3]*A[0]/2, F_15*eps[0]*eps[4]*A[0]/2, 0.5*eps[0]*eps[5]*A[0]],\n",
    "     [F_21*eps[1]*eps[0]*A[1]/2, F_22*eps[1]*eps[1]*A[1]/2, F_23*eps[1]*eps[2]*A[1]/2, F_24*eps[1]*eps[3]*A[1]/2, F_25*eps[1]*eps[4]*A[1]/2, 0.5*eps[1]*eps[5]*A[1]],\n",
    "     [F_31*eps[2]*eps[0]*A[2]/2, F_32*eps[2]*eps[1]*A[2]/2, F_33*eps[2]*eps[2]*A[2]/2, F_34*eps[2]*eps[3]*A[2]/2, F_35*eps[2]*eps[4]*A[2]/2, 0.5*eps[2]*eps[5]*A[2]],\n",
    "     [F_41*eps[3]*eps[0]*A[3]/2, F_42*eps[3]*eps[1]*A[3]/2, F_43*eps[3]*eps[2]*A[3]/2, F_44*eps[3]*eps[3]*A[3]/2, F_45*eps[3]*eps[4]*A[3]/2, 0.5*eps[3]*eps[5]*A[3]],  \n",
    "     [F_51*eps[4]*eps[0]*A[3]/2, F_52*eps[4]*eps[1]*A[3]/2, F_53*eps[4]*eps[2]*A[3]/2, F_54*eps[4]*eps[3]*A[3]/2, F_55*eps[4]*eps[4]*A[3]/2, 0.5*eps[4]*eps[5]*A[3]],\n",
    "     [0.,0.,0.,0.,0.,0.]]\n",
    "\n",
    "r = 1200 + r_e\n",
    "T_rev = 2*math.pi*math.sqrt((r*10**3)**3/G/M_e)"
   ]
  },
  {
   "cell_type": "code",
   "execution_count": 249,
   "metadata": {},
   "outputs": [],
   "source": [
    "### 計算用の定数決定 ###\n",
    "dt = 0.5\n",
    "n_steps = 1000"
   ]
  },
  {
   "cell_type": "markdown",
   "metadata": {
    "toc-hr-collapsed": true
   },
   "source": [
    "## 入熱"
   ]
  },
  {
   "cell_type": "code",
   "execution_count": 250,
   "metadata": {},
   "outputs": [],
   "source": [
    "def get_Q1(n_steps,A,alpha,eps):\n",
    "    A1_project_1 = D2**2*np.pi/4\n",
    "    return ((alpha[0] * A1_project_1 * 1 * Ps)*np.ones(n_steps)).tolist()\n",
    "\n",
    "def get_Q2_side(n_steps,A,alpha,eps):\n",
    "    A2_project_side = D1*L2\n",
    "    return ((alpha[1] * A2_project_side * 1 * Ps)*np.ones(n_steps)).tolist()\n",
    "\n",
    "def get_Q4_side(n_steps,A,alpha,eps):\n",
    "    A4_project_side = (D1+D5)*L4/2\n",
    "    return ((alpha[3] * A4_project_side * 1 * Ps)*np.ones(n_steps)).tolist()\n",
    "\n",
    "def get_Q4_5(n_steps,A,alpha,eps):\n",
    "    A4_project_5 = (D1**2-D5**2)*np.pi/4\n",
    "    return ((alpha[3] * A4_project_5 * 1 * Ps)*np.ones(n_steps)).tolist()\n",
    "\n",
    "def get_Q5_5(n_steps,A,alpha,eps):\n",
    "    return ((alpha[4] * A[4] * 1 * Ps)*np.ones(n_steps)).tolist()\n",
    "\n",
    "def get_Q5_heater(n_steps,W):\n",
    "    return (W*np.ones(n_steps)).tolist()"
   ]
  },
  {
   "cell_type": "markdown",
   "metadata": {},
   "source": [
    "### 節点1に入熱"
   ]
  },
  {
   "cell_type": "code",
   "execution_count": 255,
   "metadata": {},
   "outputs": [
    {
     "name": "stdout",
     "output_type": "stream",
     "text": [
      "now at 0 step\n"
     ]
    },
    {
     "data": {
      "image/png": "[encoded data removed]",
      "text/plain": [
       "<Figure size 432x288 with 1 Axes>"
      ]
     },
     "metadata": {
      "needs_background": "light"
     },
     "output_type": "display_data"
    }
   ],
   "source": [
    "eq = Thermal_eq(n_nodes=n_nodes,n_steps=n_steps,dt=dt)\n",
    "eq.set_params(param_m=m_i,param_C=C_ij,param_c=c_i,param_R=R_ij)\n",
    "eq.set_Q_in(1,get_Q1(n_steps,A,alpha,eps))\n",
    "#eq.set_Q_in(5,get_Q5_heater(n_steps,10))\n",
    "T_init = [250.,250.,250.,250.,250.,3.]\n",
    "eq.solve_eq(T_init)\n",
    "eq.plot_T(save=True,name='temperature_1')"
   ]
  },
  {
   "cell_type": "markdown",
   "metadata": {},
   "source": [
    "### 横から入熱"
   ]
  },
  {
   "cell_type": "code",
   "execution_count": 256,
   "metadata": {},
   "outputs": [
    {
     "name": "stdout",
     "output_type": "stream",
     "text": [
      "now at 0 step\n"
     ]
    },
    {
     "data": {
      "image/png": "[encoded data removed]",
      "text/plain": [
       "<Figure size 432x288 with 1 Axes>"
      ]
     },
     "metadata": {
      "needs_background": "light"
     },
     "output_type": "display_data"
    }
   ],
   "source": [
    "eq = Thermal_eq(n_nodes=n_nodes,n_steps=n_steps,dt=dt)\n",
    "eq.set_params(param_m=m_i,param_C=C_ij,param_c=c_i,param_R=R_ij)\n",
    "eq.set_Q_in(2,get_Q2_side(n_steps,A,alpha,eps))\n",
    "eq.set_Q_in(4,get_Q4_side(n_steps,A,alpha,eps))\n",
    "#eq.set_Q_in(5,get_Q5_heater(n_steps,10))\n",
    "T_init = [250.,250.,250.,250.,250.,3.]\n",
    "eq.solve_eq(T_init)\n",
    "eq.plot_T(save=True,name='temperature_2')"
   ]
  },
  {
   "cell_type": "markdown",
   "metadata": {},
   "source": [
    "### 節点4に入熱"
   ]
  },
  {
   "cell_type": "code",
   "execution_count": 257,
   "metadata": {},
   "outputs": [
    {
     "name": "stdout",
     "output_type": "stream",
     "text": [
      "now at 0 step\n"
     ]
    },
    {
     "data": {
      "image/png": "[encoded data removed]",
      "text/plain": [
       "<Figure size 432x288 with 1 Axes>"
      ]
     },
     "metadata": {
      "needs_background": "light"
     },
     "output_type": "display_data"
    }
   ],
   "source": [
    "eq = Thermal_eq(n_nodes=n_nodes,n_steps=n_steps,dt=dt)\n",
    "eq.set_params(param_m=m_i,param_C=C_ij,param_c=c_i,param_R=R_ij)\n",
    "eq.set_Q_in(4,get_Q4_5(n_steps,A,alpha,eps))\n",
    "eq.set_Q_in(5,get_Q5_5(n_steps,A,alpha,eps))\n",
    "#eq.set_Q_in(5,get_Q5_heater(n_steps,10))\n",
    "T_init = [250.,250.,250.,250.,250.,3.]\n",
    "eq.solve_eq(T_init)\n",
    "eq.plot_T(save=True,name='temperature_3')"
   ]
  },
  {
   "cell_type": "code",
   "execution_count": 254,
   "metadata": {},
   "outputs": [],
   "source": [
    "#eq.export_data_to_csv('capsule_1to5')"
   ]
  },
  {
   "cell_type": "code",
   "execution_count": null,
   "metadata": {},
   "outputs": [],
   "source": []
  },
  {
   "cell_type": "code",
   "execution_count": null,
   "metadata": {},
   "outputs": [],
   "source": []
  }
 ],
 "metadata": {
  "kernelspec": {
   "display_name": "Python 3",
   "language": "python",
   "name": "python3"
  },
  "language_info": {
   "codemirror_mode": {
    "name": "ipython",
    "version": 3
   },
   "file_extension": ".py",
   "mimetype": "text/x-python",
   "name": "python",
   "nbconvert_exporter": "python",
   "pygments_lexer": "ipython3",
   "version": "3.6.6"
  },
  "toc-autonumbering": true
 },
 "nbformat": 4,
 "nbformat_minor": 2
}
