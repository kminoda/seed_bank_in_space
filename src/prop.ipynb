{
 "cells": [
  {
   "cell_type": "code",
   "execution_count": 7,
   "metadata": {},
   "outputs": [],
   "source": [
    "import numpy as np"
   ]
  },
  {
   "cell_type": "code",
   "execution_count": 10,
   "metadata": {},
   "outputs": [],
   "source": [
    "def get_diameter(v, n):\n",
    "    return (6.*v/np.pi/n)**(1./3.)*1000"
   ]
  },
  {
   "cell_type": "markdown",
   "metadata": {},
   "source": [
    "## 1段目の燃料重量\n",
    "\n",
    "### 酸化剤\n",
    "- N2O4\n",
    " - 重量:487.8[kg]\n",
    " - 密度:1443[kg/m^3]\n",
    " - タンク数:2\n",
    " \n",
    " \n",
    " ### 燃料\n",
    " - MON-3\n",
    "  - 重量:530.2[kg]\n",
    "  - 密度:1013[kg/m^3]\n",
    "  - タンク数:2"
   ]
  },
  {
   "cell_type": "code",
   "execution_count": 14,
   "metadata": {},
   "outputs": [
    {
     "name": "stdout",
     "output_type": "stream",
     "text": [
      "685.9865736468763\n"
     ]
    }
   ],
   "source": [
    "m_o = 487.8\n",
    "rho_o = 1443\n",
    "v_o = m_o/rho_o\n",
    "\n",
    "d_o = get_diameter(v_o, 2)\n",
    "print(d_o)"
   ]
  },
  {
   "cell_type": "code",
   "execution_count": 17,
   "metadata": {},
   "outputs": [
    {
     "name": "stdout",
     "output_type": "stream",
     "text": [
      "793.5979793539587\n"
     ]
    }
   ],
   "source": [
    "m_f = 530.2\n",
    "rho_f = 1013\n",
    "v_f = m_f/rho_f\n",
    "\n",
    "d_f = get_diameter(v_f, 2)\n",
    "print(d_f)"
   ]
  },
  {
   "cell_type": "code",
   "execution_count": null,
   "metadata": {},
   "outputs": [],
   "source": []
  }
 ],
 "metadata": {
  "kernelspec": {
   "display_name": "Python 3",
   "language": "python",
   "name": "python3"
  },
  "language_info": {
   "codemirror_mode": {
    "name": "ipython",
    "version": 3
   },
   "file_extension": ".py",
   "mimetype": "text/x-python",
   "name": "python",
   "nbconvert_exporter": "python",
   "pygments_lexer": "ipython3",
   "version": "3.7.1"
  }
 },
 "nbformat": 4,
 "nbformat_minor": 2
}
