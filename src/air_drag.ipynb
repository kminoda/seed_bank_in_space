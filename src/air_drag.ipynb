{
 "cells": [
  {
   "cell_type": "markdown",
   "metadata": {},
   "source": [
    "空気抵抗による落下シミュレーション  \n",
    "http://docsdrive.com/pdfs/academicjournals/srj/2016/1-9.pdf"
   ]
  },
  {
   "cell_type": "code",
   "execution_count": 1,
   "metadata": {},
   "outputs": [],
   "source": [
    "import numpy as np\n",
    "import pandas as pd\n",
    "import matplotlib.pylab as plt\n",
    "import math"
   ]
  },
  {
   "cell_type": "code",
   "execution_count": 2,
   "metadata": {},
   "outputs": [],
   "source": [
    "MU = 3.986*10**5#地球重力定数[km^3/s^2]\n",
    "R_po = 6600.#パーキング軌道半径[km]\n",
    "Delta_i = 30.#種子島の緯度[deg]\n",
    "PI = np.pi\n",
    "J2 = 1082.628*10**(-6)#J2帯状調和関数係数\n",
    "R_e = 6"
   ]
  },
  {
   "cell_type": "code",
   "execution_count": 3,
   "metadata": {},
   "outputs": [],
   "source": [
    "G = 9.81 #重力加速度[m/s^2]\n",
    "R_earth = 6378 #地球の半径[km]\n",
    "SCALE_HEIGHT = 8.432#スケールハイト[km]\n",
    "RHO_0 = 1.225#標準大気密度[kg/m^3]\n",
    "H_reEntry = 200 #大気圏高度[km]\n",
    "M_earth = 5.9724*10**24\n",
    "## すまん、ここ詰める必要あるな\n",
    "v_reEntry = 7.0 #再突入の速度(一例)[km/s]\n",
    "gamma_reEntry = -0.001#再突入時の経路角(結構浅め)[deg]\n",
    "\n",
    "#機体によるので、あとで\n",
    "M_capcell = 16.3 #はやぶさ参照[kg]\n",
    "A = 0.2 #ハヤブサよりちょい大きめ[kg]\n",
    "Rn = 0.2#てきとー\n",
    "#なんかを参照\n",
    "Cd = 2.2\n",
    "Cl = 0.7\n",
    "DT = 0.01#刻み\n"
   ]
  },
  {
   "cell_type": "code",
   "execution_count": 24,
   "metadata": {},
   "outputs": [
    {
     "data": {
      "text/plain": [
       "0.3"
      ]
     },
     "execution_count": 24,
     "metadata": {},
     "output_type": "execute_result"
    }
   ],
   "source": [
    "3E-01"
   ]
  },
  {
   "cell_type": "code",
   "execution_count": 28,
   "metadata": {},
   "outputs": [
    {
     "ename": "SyntaxError",
     "evalue": "invalid character in identifier (<ipython-input-28-841c76b15bdf>, line 1)",
     "output_type": "error",
     "traceback": [
      "\u001b[0;36m  File \u001b[0;32m\"<ipython-input-28-841c76b15bdf>\"\u001b[0;36m, line \u001b[0;32m1\u001b[0m\n\u001b[0;31m    aa = [[-3.322622E-6,9.111460E-4,–0.2609971,5.944694],\u001b[0m\n\u001b[0m                                     ^\u001b[0m\n\u001b[0;31mSyntaxError\u001b[0m\u001b[0;31m:\u001b[0m invalid character in identifier\n"
     ]
    }
   ],
   "source": [
    "aa = [[-3.322622E-6,9.111460E-4,-0.2609971,5.944694],\n",
    "    [0.000000,2.873405E-5,-0.008492037,0.6541179,-23.62010],\n",
    "    [-1.240774E-5,0.005162063,-0.8048342,55.55996,-1443.338],\n",
    "    [0.00000,-8.854164E-05,0.03373254,-4.390837,176.5294],\n",
    "    [3.661771E-7,-2.154344E-4,0.04809214,-4.884744,172.3597],\n",
    "    [1.906032E-8,-1.527799E-5,0.004724294,-0.6992340,20.50921],\n",
    "    [1.199282E-9,-1.451051E-6,6.910474E-4,-0.1736220,-5.321644],\n",
    "    [1.140564E-10,-2.130756E-7,1.570762E-4,-0.07029296,-12.89844],\n",
    "    [8.105631E-12,-2.358417E-9,-2.635110E-6,-0.01562608,-20.02246],\n",
    "    [-3.701195E-12,-8.608611E-9,5.118829E-5,-0.06600998,-6.137674]]"
   ]
  },
  {
   "cell_type": "code",
   "execution_count": 5,
   "metadata": {},
   "outputs": [],
   "source": [
    "def get_density(z):\n",
    "    matrix = np.array([[0.,-3,322622e-4,9.111460e-4,-02609971,5.944694],\n",
    "                       [0.,],\n",
    "                       [],\n",
    "                       [],\n",
    "                       []\n",
    "                      ])\n",
    "    if z<91:\n",
    "        \n",
    "    return RHO_0*np.exp(-h/SCALE_HEIGHT)"
   ]
  },
  {
   "cell_type": "code",
   "execution_count": 20,
   "metadata": {},
   "outputs": [
    {
     "data": {
      "text/plain": [
       "8.661334926631736e-06"
      ]
     },
     "execution_count": 20,
     "metadata": {},
     "output_type": "execute_result"
    }
   ],
   "source": [
    "get_density(100)"
   ]
  },
  {
   "cell_type": "markdown",
   "metadata": {},
   "source": [
    "空気抵抗による高度落下を計算。  \n",
    "\\begin{align*}\n",
    "\\frac{dr}{dt} = -\\frac{\\rho V C_d A_s r}{m} = -\\rho \\frac{C_d A_s}{m}\\sqrt{GMr}\n",
    "\\end{align*}"
   ]
  },
  {
   "cell_type": "code",
   "execution_count": 6,
   "metadata": {},
   "outputs": [],
   "source": [
    "def get_drdt(r,Cd,As,m):\n",
    "    \"\"\" r,drの単位は[km] \"\"\"\n",
    "    rho = get_density(r-R_earth)\n",
    "    return (-rho*Cd*As*np.sqrt(G*M_earth*r*1000)/m) /1000\n",
    "\n",
    "def solve_air_drag_eq(r0,dt=10**1,nstep=10**5,Cd_sat=2.2,As=20.,m_sat=500.):\n",
    "    r_rev = [r0]\n",
    "    for i in range(nstep):\n",
    "        dr = get_drdt(r_rev[i],Cd_sat,As,m_sat)*dt\n",
    "        new = r_rev[i] + dr\n",
    "        if new > 0:\n",
    "            r_rev.append(new)\n",
    "        else:\n",
    "            r_rev.append(R_earth)\n",
    "    return r_rev[1:]"
   ]
  },
  {
   "cell_type": "code",
   "execution_count": 18,
   "metadata": {},
   "outputs": [],
   "source": [
    "dt = 10**4\n",
    "nstep = 10**5\n",
    "r_rev = solve_air_drag_eq(500+R_earth,dt=dt,nstep=nstep)"
   ]
  },
  {
   "cell_type": "code",
   "execution_count": 19,
   "metadata": {},
   "outputs": [
    {
     "data": {
      "text/plain": [
       "[<matplotlib.lines.Line2D at 0x1084c7860>]"
      ]
     },
     "execution_count": 19,
     "metadata": {},
     "output_type": "execute_result"
    },
    {
     "data": {
      "image/png": "[encoded data removed]",
      "text/plain": [
       "<Figure size 432x288 with 1 Axes>"
      ]
     },
     "metadata": {
      "needs_background": "light"
     },
     "output_type": "display_data"
    }
   ],
   "source": [
    "t = np.arange(0,nstep*dt,dt)/3600/24/365.2422 # 単位はyear\n",
    "plt.plot(t,np.array(r_rev)-R_earth)"
   ]
  },
  {
   "cell_type": "code",
   "execution_count": null,
   "metadata": {},
   "outputs": [],
   "source": []
  }
 ],
 "metadata": {
  "kernelspec": {
   "display_name": "Python 3",
   "language": "python",
   "name": "python3"
  },
  "language_info": {
   "codemirror_mode": {
    "name": "ipython",
    "version": 3
   },
   "file_extension": ".py",
   "mimetype": "text/x-python",
   "name": "python",
   "nbconvert_exporter": "python",
   "pygments_lexer": "ipython3",
   "version": "3.6.6"
  }
 },
 "nbformat": 4,
 "nbformat_minor": 2
}
